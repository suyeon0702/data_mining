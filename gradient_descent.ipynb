{
 "cells": [
  {
   "cell_type": "markdown",
   "metadata": {},
   "source": [
    "## 8.Gradient Descent"
   ]
  },
  {
   "cell_type": "markdown",
   "metadata": {},
   "source": [
    "### The Idea Behind Gradient Descent"
   ]
  },
  {
   "cell_type": "markdown",
   "metadata": {},
   "source": [
    "### Minimize or Maximize"
   ]
  },
  {
   "cell_type": "markdown",
   "metadata": {},
   "source": [
    "#### Using mathematical notation"
   ]
  },
  {
   "cell_type": "code",
   "execution_count": 1,
   "metadata": {},
   "outputs": [],
   "source": [
    "from collections import Counter\n",
    "from linear_algebra import distance, vector_subtract, scalar_multiply\n",
    "from functools import reduce\n",
    "import math, random"
   ]
  },
  {
   "cell_type": "markdown",
   "metadata": {},
   "source": [
    "We want to minimize sum_of_squares function"
   ]
  },
  {
   "cell_type": "code",
   "execution_count": 2,
   "metadata": {},
   "outputs": [],
   "source": [
    "def sum_of_squares(v):\n",
    "    \"\"\"computes the sum of squared elements in v\"\"\"\n",
    "    return sum(v_i ** 2 for v_i in v)"
   ]
  },
  {
   "cell_type": "markdown",
   "metadata": {},
   "source": [
    "### Estimating the Gradient\n",
    "If f is a function of one variable, its derivative at a point x measures how f(x) changes when we make a very small change to x."
   ]
  },
  {
   "cell_type": "code",
   "execution_count": 3,
   "metadata": {},
   "outputs": [],
   "source": [
    "def difference_quotient(f, x, h): # 다른_몫\n",
    "    return (f(x + h) - f(x)) / h"
   ]
  },
  {
   "cell_type": "code",
   "execution_count": 4,
   "metadata": {},
   "outputs": [],
   "source": [
    "def plot_estimated_derivative():\n",
    "    \n",
    "    def square(x):\n",
    "        return x * x\n",
    "    \n",
    "    def derivative(x): # x 제곱 미분한거 # 기울기함수라고 할까나. 도함수\n",
    "        return 2 * x\n",
    "    \n",
    "    derivative_estimate = lambda x: difference_quotient(square, x, h=0.00001)\n",
    "    \n",
    "    # plot to show they're basically the same\n",
    "    import matplotlib.pyplot as plt\n",
    "    x = range(-10, 10)\n",
    "    plt.plot(x, list(map(derivative, x)), 'rx', label='Actual')  # red x\n",
    "    plt.plot(x, list(map(derivative_estimate, x)), 'b+', label='Estimate') # blue +\n",
    "    plt.legend(loc=9)\n",
    "    plt.title('Actual vs Estimate')\n",
    "    plt.show()"
   ]
  },
  {
   "cell_type": "code",
   "execution_count": 5,
   "metadata": {},
   "outputs": [
    {
     "data": {
      "image/png": "[encoded data removed]",
      "text/plain": [
       "<Figure size 432x288 with 1 Axes>"
      ]
     },
     "metadata": {
      "needs_background": "light"
     },
     "output_type": "display_data"
    }
   ],
   "source": [
    "%matplotlib inline\n",
    "\n",
    "plot_estimated_derivative()"
   ]
  },
  {
   "cell_type": "markdown",
   "metadata": {},
   "source": [
    "### Numerical gradient"
   ]
  },
  {
   "cell_type": "code",
   "execution_count": 6,
   "metadata": {},
   "outputs": [],
   "source": [
    "def partial_difference_quotient(f, v, i, h):\n",
    "    # add h to just the i-th element of v\n",
    "    w = [v_j + (h if j == i else 0)\n",
    "         for j, v_j in enumerate(v)]\n",
    "    \n",
    "    return (f(w) - f(v)) / h"
   ]
  },
  {
   "cell_type": "code",
   "execution_count": 7,
   "metadata": {},
   "outputs": [],
   "source": [
    "def estimate_gradient(f, v, h=0.00001):\n",
    "    return [partial_difference_quotient(f, v, i, h)\n",
    "            for i, _ in enumerate(v)]"
   ]
  },
  {
   "cell_type": "code",
   "execution_count": 8,
   "metadata": {},
   "outputs": [
    {
     "data": {
      "text/plain": [
       "[2.00001000001393, 2.00001000001393, 2.00001000001393]"
      ]
     },
     "execution_count": 8,
     "metadata": {},
     "output_type": "execute_result"
    }
   ],
   "source": [
    "estimate_gradient(sum_of_squares, [1.,1.,1])"
   ]
  },
  {
   "cell_type": "code",
   "execution_count": 9,
   "metadata": {},
   "outputs": [],
   "source": [
    "# maybe numpy version\n",
    "import numpy as np\n",
    "\n",
    "def estimate_gradient_np(f, v, h=0.00001):\n",
    "    return (np.apply_along_axis(f, 1, v + h * np.eye(v.shape[0])) - f(v)) / h"
   ]
  },
  {
   "cell_type": "code",
   "execution_count": 10,
   "metadata": {},
   "outputs": [
    {
     "data": {
      "text/plain": [
       "array([2.00001, 2.00001, 2.00001])"
      ]
     },
     "execution_count": 10,
     "metadata": {},
     "output_type": "execute_result"
    }
   ],
   "source": [
    "estimate_gradient_np(lambda v: np.sum(v * v), np.array([1.,1.,1]))"
   ]
  },
  {
   "cell_type": "markdown",
   "metadata": {},
   "source": [
    "### Using the Gradient"
   ]
  },
  {
   "cell_type": "code",
   "execution_count": 11,
   "metadata": {},
   "outputs": [],
   "source": [
    "def step(v, direction, step_size):\n",
    "    \"\"\"move step_size in the direction from v\"\"\"\n",
    "    return [v_i + step_size * direction_i\n",
    "             for v_i, direction_i in zip(v, direction)]\n",
    "\n",
    "def sum_of_squares_gradient(v):\n",
    "    return [2 * v_i for v_i in v]"
   ]
  },
  {
   "cell_type": "markdown",
   "metadata": {},
   "source": [
    "Remark: step_size is also called learning_rate"
   ]
  },
  {
   "cell_type": "code",
   "execution_count": 12,
   "metadata": {},
   "outputs": [],
   "source": [
    "def step_np(v, direction, step_size):\n",
    "    \"\"\"move step_size in the direction from v\"\"\"\n",
    "    return v + step_size * direction\n",
    "\n",
    "def sum_of_squares_gradient_np(v):\n",
    "    return 2 * v"
   ]
  },
  {
   "cell_type": "code",
   "execution_count": 13,
   "metadata": {},
   "outputs": [
    {
     "name": "stdout",
     "output_type": "stream",
     "text": [
      "using the gradient\n",
      "minimum v [-2.455396212587199e-06, -6.138490531467997e-07, 4.2969433720275985e-06]\n",
      "minimum value 2.4869503563248693e-11\n",
      "\n"
     ]
    }
   ],
   "source": [
    "print(\"using the gradient\")\n",
    "\n",
    "v = [random.randint(-10,10) for i in range(3)]\n",
    "\n",
    "tolerance = 0.0000001\n",
    "\n",
    "while True:\n",
    "    #print(v, sum_of_squares(v))\n",
    "    gradient = sum_of_squares_gradient(v) # compute the gradient at v\n",
    "    next_v = step(v, gradient, -0.01) # take a negative gradient step\n",
    "    if distance(next_v, v) < tolerance: # stop if we're converging\n",
    "        break\n",
    "    v = next_v # continue if we're not\n",
    "    \n",
    "print(\"minimum v\", v)\n",
    "print(\"minimum value\", sum_of_squares(v))\n",
    "print()"
   ]
  },
  {
   "cell_type": "markdown",
   "metadata": {},
   "source": [
    "### Choosing the Right Step Size (or Learning rate)\n",
    " - ...more of an art than a science."
   ]
  },
  {
   "cell_type": "code",
   "execution_count": 14,
   "metadata": {},
   "outputs": [],
   "source": [
    "step_sizes = [100, 10, 1, 0.1, 0.01, 0.001, 0.0001, 0.00001]"
   ]
  },
  {
   "cell_type": "markdown",
   "metadata": {},
   "source": [
    " - if learning rate is too large, it diverges.\n",
    " - if learning rate is too small, it converges too slow or may fall into local minimum"
   ]
  },
  {
   "cell_type": "markdown",
   "metadata": {},
   "source": [
    "### Experiment sith various learning rates\n",
    " #in class, changes lr = 10, 1.1, 1, 0.1, 0.01\n",
    " #10 : diverge\n",
    " #1.1 : diverge\n",
    " #1: oscilliating\n",
    " #0.1: good pace\n",
    " #0.01 : two slow"
   ]
  },
  {
   "cell_type": "code",
   "execution_count": 15,
   "metadata": {},
   "outputs": [
    {
     "data": {
      "image/png": "[encoded data removed]",
      "text/plain": [
       "<Figure size 432x288 with 1 Axes>"
      ]
     },
     "metadata": {
      "needs_background": "light"
     },
     "output_type": "display_data"
    }
   ],
   "source": [
    "import numpy as np\n",
    "import matplotlib.pyplot as plt\n",
    "\n",
    "def sum_of_squares_gradient_np(v):\n",
    "    return 2 * v\n",
    "\n",
    "def gradient_descent(gradient_f, init_x, lr=0.01, step_num=10000, tolerance=0.0000001):\n",
    "    x = init_x\n",
    "    x_history = []\n",
    "    for i in range(step_num):\n",
    "        x_history.append(x.copy())\n",
    "        x_prev = x.copy()\n",
    "        x -= lr * gradient_f(x)\n",
    "        if np.linalg.norm(x - x_prev) < tolerance:  # stop if we're converging\n",
    "            break\n",
    "    return x, x_history\n",
    "\n",
    "init_x = np.array([-1.0, 1.0])\n",
    "\n",
    "lr = 1.1  # try with 10, 1.1, 1, 0.1, 0.01\n",
    "step_num = 100\n",
    "x, x_history = gradient_descent(sum_of_squares_gradient_np, init_x, lr=lr, step_num=step_num, tolerance=tolerance)\n",
    "\n",
    "plt.plot( [-5, 5], [0,0], '--b')\n",
    "plt.plot( [0,0], [-5, 5], '--b')\n",
    "x_history = np.array(x_history)\n",
    "plt.plot(x_history[:,0], x_history[:,1], 'o')\n",
    "\n",
    "plt.xlim(-3.5, 3.5)\n",
    "plt.ylim(-4.5, 4.5)\n",
    "plt.xlabel(\"X0\")\n",
    "plt.ylabel(\"X1\")\n",
    "plt.show()"
   ]
  },
  {
   "cell_type": "code",
   "execution_count": 16,
   "metadata": {},
   "outputs": [],
   "source": [
    "def safe(f):\n",
    "    \"\"\"define a new function that wraps f and return it\"\"\"\n",
    "    def safe_f(*args, **kwargs):\n",
    "        try:\n",
    "            return f(*args, **kwargs)\n",
    "        except:\n",
    "            return float('int')  # this means \"infinity\" in Python\n",
    "        \n",
    "    return safe_f"
   ]
  },
  {
   "cell_type": "markdown",
   "metadata": {},
   "source": [
    "### Putting It All Together"
   ]
  },
  {
   "cell_type": "code",
   "execution_count": 33,
   "metadata": {},
   "outputs": [],
   "source": [
    "def minimize_batch(target_fn, gradient_fn, theta_0, tolerance=0.000001):\n",
    "    \"\"\"use gradient descent to find theta that minimizes target function\"\"\"\n",
    "    \n",
    "    step_sizes = [100, 10, 1, 0.1, 0.01, 0.001, 0.0001, 0.00001]\n",
    "    \n",
    "    theta = theta_0   # set theta to initial value\n",
    "    target_fn = safe(target_fn)   # sage version of target_fn\n",
    "    value = target_fn(theta)   # value we're minimizing\n",
    "    \n",
    "    while True:\n",
    "        gradient = gradient_fn(theta)\n",
    "        next_thetas = [step(theta, gradient, -step_size)\n",
    "                       for step_size in step_sizes]\n",
    "        print(\"next_thetas\",next_thetas)\n",
    "        # choose the one that minimizes the error function\n",
    "        next_theta = min(next_thetas, key = target_fn)\n",
    "        print(\"next_theta\", next_theta)\n",
    "        next_value = target_fn(next_theta)\n",
    "        \n",
    "        # stop if we're \"converging\"\n",
    "        if abs(value - next_value) < tolerance:\n",
    "            return theta\n",
    "        else:\n",
    "            theta, value = next_theta, next_value"
   ]
  },
  {
   "cell_type": "markdown",
   "metadata": {},
   "source": [
    "#### Example : Minimizing sum_of_squares"
   ]
  },
  {
   "cell_type": "code",
   "execution_count": 34,
   "metadata": {},
   "outputs": [
    {
     "name": "stdout",
     "output_type": "stream",
     "text": [
      "next_thetas [[-1990, -3980, -796, -995], [-190, -380, -76, -95], [-10, -20, -4, -5], [8.0, 16.0, 3.2, 4.0], [9.8, 19.6, 3.92, 4.9], [9.98, 19.96, 3.992, 4.99], [9.998, 19.996, 3.9992, 4.999], [9.9998, 19.9996, 3.99992, 4.9999]]\n",
      "next_theta [8.0, 16.0, 3.2, 4.0]\n",
      "next_thetas [[-1592.0, -3184.0, -636.8, -796.0], [-152.0, -304.0, -60.8, -76.0], [-8.0, -16.0, -3.2, -4.0], [6.4, 12.8, 2.56, 3.2], [7.84, 15.68, 3.136, 3.92], [7.984, 15.968, 3.1936, 3.992], [7.9984, 15.9968, 3.19936, 3.9992], [7.99984, 15.99968, 3.199936, 3.99992]]\n",
      "next_theta [6.4, 12.8, 2.56, 3.2]\n",
      "next_thetas [[-1273.6, -2547.2, -509.44, -636.8], [-121.6, -243.2, -48.64, -60.8], [-6.4, -12.8, -2.56, -3.2], [5.12, 10.24, 2.048, 2.56], [6.272, 12.544, 2.5088, 3.136], [6.3872, 12.7744, 2.5548800000000003, 3.1936], [6.39872, 12.79744, 2.559488, 3.19936], [6.399872, 12.799744, 2.5599488, 3.199936]]\n",
      "next_theta [5.12, 10.24, 2.048, 2.56]\n",
      "next_thetas [[-1018.88, -2037.76, -407.552, -509.44], [-97.28, -194.56, -38.912, -48.64], [-5.12, -10.24, -2.048, -2.56], [4.096, 8.192, 1.6384, 2.048], [5.0176, 10.0352, 2.00704, 2.5088], [5.1097600000000005, 10.219520000000001, 2.043904, 2.5548800000000003], [5.118976, 10.237952, 2.0475904000000003, 2.559488], [5.1198976, 10.2397952, 2.04795904, 2.5599488]]\n",
      "next_theta [4.096, 8.192, 1.6384, 2.048]\n",
      "next_thetas [[-815.104, -1630.208, -326.0416, -407.552], [-77.824, -155.648, -31.1296, -38.912], [-4.096, -8.192, -1.6384, -2.048], [3.2768, 6.5536, 1.31072, 1.6384], [4.01408, 8.02816, 1.6056320000000002, 2.00704], [4.087808, 8.175616, 1.6351232, 2.043904], [4.0951808000000005, 8.190361600000001, 1.63807232, 2.0475904000000003], [4.09591808, 8.19183616, 1.638367232, 2.04795904]]\n",
      "next_theta [3.2768, 6.5536, 1.31072, 1.6384]\n",
      "next_thetas [[-652.0832, -1304.1664, -260.83328, -326.0416], [-62.2592, -124.5184, -24.90368, -31.1296], [-3.2768, -6.5536, -1.31072, -1.6384], [2.62144, 5.24288, 1.0485760000000002, 1.31072], [3.2112640000000003, 6.422528000000001, 1.2845056000000001, 1.6056320000000002], [3.2702464, 6.5404928, 1.3080985600000001, 1.6351232], [3.27614464, 6.55228928, 1.3104578560000002, 1.63807232], [3.276734464, 6.553468928, 1.3106937856, 1.638367232]]\n",
      "next_theta [2.62144, 5.24288, 1.0485760000000002, 1.31072]\n",
      "next_thetas [[-521.66656, -1043.33312, -208.66662400000004, -260.83328], [-49.80736, -99.61472, -19.922944000000005, -24.90368], [-2.62144, -5.24288, -1.0485760000000002, -1.31072], [2.0971520000000003, 4.194304000000001, 0.8388608000000002, 1.0485760000000002], [2.5690112000000003, 5.1380224000000005, 1.0276044800000002, 1.2845056000000001], [2.6161971200000003, 5.2323942400000005, 1.0464788480000002, 1.3080985600000001], [2.6209157120000004, 5.241831424000001, 1.0483662848000002, 1.3104578560000002], [2.6213875712, 5.2427751424, 1.0485550284800003, 1.3106937856]]\n",
      "next_theta [2.0971520000000003, 4.194304000000001, 0.8388608000000002, 1.0485760000000002]\n",
      "next_thetas [[-417.3332480000001, -834.6664960000002, -166.93329920000005, -208.66662400000004], [-39.84588800000001, -79.69177600000002, -15.938355200000002, -19.922944000000005], [-2.0971520000000003, -4.194304000000001, -0.8388608000000002, -1.0485760000000002], [1.6777216000000004, 3.3554432000000007, 0.6710886400000001, 0.8388608000000002], [2.0552089600000003, 4.110417920000001, 0.8220835840000001, 1.0276044800000002], [2.0929576960000005, 4.185915392000001, 0.8371830784000002, 1.0464788480000002], [2.0967325696000003, 4.193465139200001, 0.8386930278400002, 1.0483662848000002], [2.0971100569600005, 4.194220113920001, 0.8388440227840002, 1.0485550284800003]]\n",
      "next_theta [1.6777216000000004, 3.3554432000000007, 0.6710886400000001, 0.8388608000000002]\n",
      "next_thetas [[-333.8665984000001, -667.7331968000002, -133.54663936000003, -166.93329920000005], [-31.876710400000004, -63.75342080000001, -12.750684160000002, -15.938355200000002], [-1.6777216000000004, -3.3554432000000007, -0.6710886400000001, -0.8388608000000002], [1.3421772800000003, 2.6843545600000005, 0.5368709120000001, 0.6710886400000001], [1.6441671680000003, 3.2883343360000006, 0.6576668672000001, 0.8220835840000001], [1.6743661568000003, 3.3487323136000007, 0.6697464627200002, 0.8371830784000002], [1.6773860556800004, 3.354772111360001, 0.6709544222720001, 0.8386930278400002], [1.6776880455680003, 3.3553760911360007, 0.6710752182272002, 0.8388440227840002]]\n",
      "next_theta [1.3421772800000003, 2.6843545600000005, 0.5368709120000001, 0.6710886400000001]\n",
      "next_thetas [[-267.09327872000006, -534.1865574400001, -106.83731148800003, -133.54663936000003], [-25.501368320000005, -51.00273664000001, -10.200547328000004, -12.750684160000002], [-1.3421772800000003, -2.6843545600000005, -0.5368709120000001, -0.6710886400000001], [1.0737418240000003, 2.1474836480000006, 0.4294967296000001, 0.5368709120000001], [1.3153337344000002, 2.6306674688000005, 0.5261334937600002, 0.6576668672000001], [1.3394929254400003, 2.6789858508800006, 0.5357971701760001, 0.6697464627200002], [1.3419088445440002, 2.6838176890880003, 0.5367635378176001, 0.6709544222720001], [1.3421504364544004, 2.6843008729088007, 0.5368601745817602, 0.6710752182272002]]\n",
      "next_theta [1.0737418240000003, 2.1474836480000006, 0.4294967296000001, 0.5368709120000001]\n",
      "next_thetas [[-213.67462297600005, -427.3492459520001, -85.46984919040003, -106.83731148800003], [-20.40109465600001, -40.80218931200002, -8.160437862400002, -10.200547328000004], [-1.0737418240000003, -2.1474836480000006, -0.4294967296000001, -0.5368709120000001], [0.8589934592000003, 1.7179869184000005, 0.3435973836800001, 0.4294967296000001], [1.0522669875200004, 2.1045339750400007, 0.4209067950080001, 0.5261334937600002], [1.0715943403520003, 2.1431886807040006, 0.42863773614080014, 0.5357971701760001], [1.0735270756352002, 2.1470541512704004, 0.4294108302540801, 0.5367635378176001], [1.0737203491635203, 2.1474406983270407, 0.4294881396654081, 0.5368601745817602]]\n",
      "next_theta [0.8589934592000003, 1.7179869184000005, 0.3435973836800001, 0.4294967296000001]\n",
      "next_thetas [[-170.93969838080005, -341.8793967616001, -68.37587935232001, -85.46984919040003], [-16.320875724800004, -32.64175144960001, -6.528350289920002, -8.160437862400002], [-0.8589934592000003, -1.7179869184000005, -0.3435973836800001, -0.4294967296000001], [0.6871947673600002, 1.3743895347200004, 0.27487790694400005, 0.3435973836800001], [0.8418135900160002, 1.6836271800320004, 0.3367254360064001, 0.4209067950080001], [0.8572754722816003, 1.7145509445632006, 0.3429101889126401, 0.42863773614080014], [0.8588216605081602, 1.7176433210163204, 0.3435286642032641, 0.4294108302540801], [0.8589762793308162, 1.7179525586616324, 0.34359051173232646, 0.4294881396654081]]\n",
      "next_theta [0.6871947673600002, 1.3743895347200004, 0.27487790694400005, 0.3435973836800001]\n",
      "next_thetas [[-136.75175870464003, -273.50351740928005, -54.70070348185601, -68.37587935232001], [-13.056700579840005, -26.11340115968001, -5.222680231936001, -6.528350289920002], [-0.6871947673600002, -1.3743895347200004, -0.27487790694400005, -0.3435973836800001], [0.5497558138880001, 1.0995116277760002, 0.21990232555520003, 0.27487790694400005], [0.6734508720128002, 1.3469017440256004, 0.2693803488051201, 0.3367254360064001], [0.6858203778252802, 1.3716407556505603, 0.27432815113011205, 0.3429101889126401], [0.6870573284065282, 1.3741146568130564, 0.27482293136261127, 0.3435286642032641], [0.6871810234646529, 1.3743620469293059, 0.27487240938586116, 0.34359051173232646]]\n",
      "next_theta [0.5497558138880001, 1.0995116277760002, 0.21990232555520003, 0.27487790694400005]\n",
      "next_thetas [[-109.40140696371202, -218.80281392742404, -43.7605627854848, -54.70070348185601], [-10.445360463872001, -20.890720927744002, -4.178144185548801, -5.222680231936001], [-0.5497558138880001, -1.0995116277760002, -0.21990232555520003, -0.27487790694400005], [0.43980465111040007, 0.8796093022208001, 0.17592186044416003, 0.21990232555520003], [0.5387606976102401, 1.0775213952204803, 0.21550427904409603, 0.2693803488051201], [0.5486563022602241, 1.0973126045204482, 0.21946252090408963, 0.27432815113011205], [0.5496458627252225, 1.099291725450445, 0.219858345090089, 0.27482293136261127], [0.5497448187717223, 1.0994896375434446, 0.21989792750868892, 0.27487240938586116]]\n",
      "next_theta [0.43980465111040007, 0.8796093022208001, 0.17592186044416003, 0.21990232555520003]\n",
      "next_thetas [[-87.5211255709696, -175.0422511419392, -35.008450228387844, -43.7605627854848], [-8.356288371097602, -16.712576742195203, -3.3425153484390404, -4.178144185548801], [-0.43980465111040007, -0.8796093022208001, -0.17592186044416003, -0.21990232555520003], [0.35184372088832006, 0.7036874417766401, 0.140737488355328, 0.17592186044416003], [0.43100855808819205, 0.8620171161763841, 0.17240342323527683, 0.21550427904409603], [0.43892504180817926, 0.8778500836163585, 0.17557001672327172, 0.21946252090408963], [0.439716690180178, 0.879433380360356, 0.1758866760720712, 0.219858345090089], [0.43979585501737783, 0.8795917100347557, 0.17591834200695114, 0.21989792750868892]]\n",
      "next_theta [0.35184372088832006, 0.7036874417766401, 0.140737488355328, 0.17592186044416003]\n",
      "next_thetas [[-70.01690045677569, -140.03380091355137, -28.006760182710273, -35.008450228387844], [-6.685030696878081, -13.370061393756162, -2.6740122787512326, -3.3425153484390404], [-0.35184372088832006, -0.7036874417766401, -0.140737488355328, -0.17592186044416003], [0.281474976710656, 0.562949953421312, 0.11258999068426241, 0.140737488355328], [0.34480684647055365, 0.6896136929411073, 0.13792273858822146, 0.17240342323527683], [0.35114003344654343, 0.7022800668930869, 0.14045601337861735, 0.17557001672327172], [0.3517733521441424, 0.7035467042882848, 0.14070934085765693, 0.1758866760720712], [0.3518366840139023, 0.7036733680278046, 0.1407346736055609, 0.17591834200695114]]\n",
      "next_theta [0.281474976710656, 0.562949953421312, 0.11258999068426241, 0.140737488355328]\n",
      "next_thetas [[-56.01352036542055, -112.0270407308411, -22.40540814616822, -28.006760182710273], [-5.348024557502465, -10.69604911500493, -2.1392098230009857, -2.6740122787512326], [-0.281474976710656, -0.562949953421312, -0.11258999068426241, -0.140737488355328], [0.22517998136852482, 0.45035996273704965, 0.09007199254740993, 0.11258999068426241], [0.2758454771764429, 0.5516909543528858, 0.11033819087057717, 0.13792273858822146], [0.2809120267572347, 0.5618240535144694, 0.11236481070289389, 0.14045601337861735], [0.28141868171531387, 0.5628373634306277, 0.11256747268612556, 0.14070934085765693], [0.2814693472111218, 0.5629386944222436, 0.11258773888444873, 0.1407346736055609]]\n",
      "next_theta [0.22517998136852482, 0.45035996273704965, 0.09007199254740993, 0.11258999068426241]\n",
      "next_thetas [[-44.81081629233644, -89.62163258467288, -17.924326516934574, -22.40540814616822], [-4.278419646001971, -8.556839292003943, -1.7113678584007888, -2.1392098230009857], [-0.22517998136852482, -0.45035996273704965, -0.09007199254740993, -0.11258999068426241], [0.18014398509481985, 0.3602879701896397, 0.07205759403792794, 0.09007199254740993], [0.22067638174115434, 0.4413527634823087, 0.08827055269646172, 0.11033819087057717], [0.22472962140578778, 0.44945924281157557, 0.08989184856231511, 0.11236481070289389], [0.22513494537225112, 0.45026989074450224, 0.09005397814890044, 0.11256747268612556], [0.22517547776889746, 0.4503509555377949, 0.09007019110755898, 0.11258773888444873]]\n",
      "next_theta [0.18014398509481985, 0.3602879701896397, 0.07205759403792794, 0.09007199254740993]\n",
      "next_thetas [[-35.84865303386915, -71.6973060677383, -14.339461213547661, -17.924326516934574], [-3.4227357168015775, -6.845471433603155, -1.3690942867206308, -1.7113678584007888], [-0.18014398509481985, -0.3602879701896397, -0.07205759403792794, -0.09007199254740993], [0.14411518807585588, 0.28823037615171176, 0.057646075230342354, 0.07205759403792794], [0.17654110539292345, 0.3530822107858469, 0.07061644215716938, 0.08827055269646172], [0.17978369712463022, 0.35956739424926043, 0.07191347884985208, 0.08989184856231511], [0.18010795629780088, 0.36021591259560176, 0.07204318251912036, 0.09005397814890044], [0.18014038221511797, 0.36028076443023593, 0.07205615288604718, 0.09007019110755898]]\n",
      "next_theta [0.14411518807585588, 0.28823037615171176, 0.057646075230342354, 0.07205759403792794]\n",
      "next_thetas [[-28.678922427095323, -57.357844854190645, -11.471568970838128, -14.339461213547661], [-2.7381885734412617, -5.476377146882523, -1.0952754293765048, -1.3690942867206308], [-0.14411518807585588, -0.28823037615171176, -0.057646075230342354, -0.07205759403792794], [0.11529215046068471, 0.23058430092136942, 0.04611686018427388, 0.057646075230342354], [0.14123288431433875, 0.2824657686286775, 0.056493153725735504, 0.07061644215716938], [0.14382695769970416, 0.2876539153994083, 0.05753078307988167, 0.07191347884985208], [0.1440863650382407, 0.2881727300764814, 0.05763454601529629, 0.07204318251912036], [0.14411230577209436, 0.2882246115441887, 0.05764492230883775, 0.07205615288604718]]\n",
      "next_theta [0.11529215046068471, 0.23058430092136942, 0.04611686018427388, 0.057646075230342354]\n",
      "next_thetas [[-22.943137941676255, -45.88627588335251, -9.177255176670503, -11.471568970838128], [-2.1905508587530096, -4.381101717506019, -0.8762203435012038, -1.0952754293765048], [-0.11529215046068471, -0.23058430092136942, -0.04611686018427388, -0.057646075230342354], [0.09223372036854777, 0.18446744073709553, 0.03689348814741911, 0.04611686018427388], [0.11298630745147101, 0.22597261490294202, 0.0451945229805884, 0.056493153725735504], [0.11506156615976335, 0.2301231323195267, 0.04602462646390534, 0.05753078307988167], [0.11526909203059257, 0.23053818406118515, 0.04610763681223703, 0.05763454601529629], [0.1152898446176755, 0.230579689235351, 0.0461159378470702, 0.05764492230883775]]\n",
      "next_theta [0.09223372036854777, 0.18446744073709553, 0.03689348814741911, 0.04611686018427388]\n",
      "next_thetas [[-18.354510353341006, -36.70902070668201, -7.341804141336402, -9.177255176670503], [-1.7524406870024076, -3.5048813740048153, -0.700976274800963, -0.8762203435012038], [-0.09223372036854777, -0.18446744073709553, -0.03689348814741911, -0.04611686018427388], [0.07378697629483821, 0.14757395258967643, 0.029514790517935284, 0.03689348814741911], [0.0903890459611768, 0.1807780919223536, 0.03615561838447073, 0.0451945229805884], [0.09204925292781067, 0.18409850585562135, 0.03681970117112427, 0.04602462646390534], [0.09221527362447406, 0.1844305472489481, 0.03688610944978962, 0.04610763681223703], [0.0922318756941404, 0.1844637513882808, 0.03689275027765616, 0.0461159378470702]]\n",
      "next_theta [0.07378697629483821, 0.14757395258967643, 0.029514790517935284, 0.03689348814741911]\n",
      "next_thetas [[-14.683608282672804, -29.367216565345608, -5.873443313069122, -7.341804141336402], [-1.401952549601926, -2.803905099203852, -0.5607810198407704, -0.700976274800963], [-0.07378697629483821, -0.14757395258967643, -0.029514790517935284, -0.03689348814741911], [0.05902958103587057, 0.11805916207174114, 0.02361183241434823, 0.029514790517935284], [0.07231123676894145, 0.1446224735378829, 0.02892449470757658, 0.03615561838447073], [0.07363940234224854, 0.14727880468449708, 0.029455760936899413, 0.03681970117112427], [0.07377221889957924, 0.1475444377991585, 0.029508887559831696, 0.03688610944978962], [0.07378550055531231, 0.14757100111062463, 0.029514200222124927, 0.03689275027765616]]\n",
      "next_theta [0.05902958103587057, 0.11805916207174114, 0.02361183241434823, 0.029514790517935284]\n",
      "next_thetas [[-11.746886626138243, -23.493773252276487, -4.698754650455298, -5.873443313069122], [-1.121562039681541, -2.243124079363082, -0.4486248158726163, -0.5607810198407704], [-0.05902958103587057, -0.11805916207174114, -0.02361183241434823, -0.029514790517935284], [0.04722366482869646, 0.09444732965739291, 0.018889465931478583, 0.02361183241434823], [0.05784898941515316, 0.11569797883030632, 0.023139595766061265, 0.02892449470757658], [0.058911521873798826, 0.11782304374759765, 0.02356460874951953, 0.029455760936899413], [0.05901777511966339, 0.11803555023932678, 0.023607110047865358, 0.029508887559831696], [0.059028400444249854, 0.11805680088849971, 0.023611360177699943, 0.029514200222124927]]\n",
      "next_theta [0.04722366482869646, 0.09444732965739291, 0.018889465931478583, 0.02361183241434823]\n",
      "next_thetas [[-9.397509300910595, -18.79501860182119, -3.759003720364238, -4.698754650455298], [-0.8972496317452326, -1.7944992634904653, -0.3588998526980931, -0.4486248158726163], [-0.04722366482869646, -0.09444732965739291, -0.018889465931478583, -0.02361183241434823], [0.037778931862957166, 0.07555786372591433, 0.015111572745182867, 0.018889465931478583], [0.04627919153212253, 0.09255838306424506, 0.018511676612849012, 0.023139595766061265], [0.04712921749903906, 0.09425843499807812, 0.018851686999615626, 0.02356460874951953], [0.047214220095730716, 0.09442844019146143, 0.018885688038292287, 0.023607110047865358], [0.047222720355399886, 0.09444544071079977, 0.018889088142159952, 0.023611360177699943]]\n",
      "next_theta [0.037778931862957166, 0.07555786372591433, 0.015111572745182867, 0.018889465931478583]\n",
      "next_thetas [[-7.518007440728476, -15.036014881456952, -3.0072029762913903, -3.759003720364238], [-0.7177997053961862, -1.4355994107923724, -0.28711988215847445, -0.3588998526980931], [-0.037778931862957166, -0.07555786372591433, -0.015111572745182867, -0.018889465931478583], [0.030223145490365734, 0.06044629098073147, 0.012089258196146294, 0.015111572745182867], [0.037023353225698025, 0.07404670645139605, 0.014809341290279209, 0.018511676612849012], [0.03770337399923125, 0.0754067479984625, 0.015081349599692501, 0.018851686999615626], [0.037771376076584574, 0.07554275215316915, 0.01510855043063383, 0.018885688038292287], [0.037778176284319905, 0.07555635256863981, 0.015111270513727963, 0.018889088142159952]]\n",
      "next_theta [0.030223145490365734, 0.06044629098073147, 0.012089258196146294, 0.015111572745182867]\n",
      "next_thetas [[-6.014405952582781, -12.028811905165561, -2.4057623810331124, -3.0072029762913903], [-0.5742397643169489, -1.1484795286338978, -0.2296959057267796, -0.28711988215847445], [-0.030223145490365734, -0.06044629098073147, -0.012089258196146294, -0.015111572745182867], [0.024178516392292588, 0.048357032784585176, 0.009671406556917036, 0.012089258196146294], [0.029618682580558418, 0.059237365161116835, 0.011847473032223369, 0.014809341290279209], [0.030162699199385003, 0.060325398398770005, 0.012065079679754, 0.015081349599692501], [0.03021710086126766, 0.06043420172253532, 0.012086840344507065, 0.01510855043063383], [0.030222541027455925, 0.06044508205491185, 0.01208901641098237, 0.015111270513727963]]\n",
      "next_theta [0.024178516392292588, 0.048357032784585176, 0.009671406556917036, 0.012089258196146294]\n",
      "next_thetas [[-4.811524762066225, -9.62304952413245, -1.9246099048264902, -2.4057623810331124], [-0.4593918114535592, -0.9187836229071183, -0.18375672458142367, -0.2296959057267796], [-0.024178516392292588, -0.048357032784585176, -0.009671406556917036, -0.012089258196146294], [0.01934281311383407, 0.03868562622766814, 0.007737125245533628, 0.009671406556917036], [0.023694946064446738, 0.047389892128893475, 0.009477978425778695, 0.011847473032223369], [0.024130159359508, 0.048260318719016, 0.009652063743803202, 0.012065079679754], [0.02417368068901413, 0.04834736137802826, 0.009669472275605651, 0.012086840344507065], [0.02417803282196474, 0.04835606564392948, 0.009671213128785897, 0.01208901641098237]]\n",
      "next_theta [0.01934281311383407, 0.03868562622766814, 0.007737125245533628, 0.009671406556917036]\n",
      "next_thetas [[-3.8492198096529804, -7.698439619305961, -1.539687923861192, -1.9246099048264902], [-0.36751344916284734, -0.7350268983256947, -0.14700537966513894, -0.18375672458142367], [-0.01934281311383407, -0.03868562622766814, -0.007737125245533628, -0.009671406556917036], [0.015474250491067256, 0.030948500982134513, 0.006189700196426903, 0.007737125245533628], [0.01895595685155739, 0.03791191370311478, 0.007582382740622956, 0.009477978425778695], [0.019304127487606404, 0.03860825497521281, 0.0077216509950425605, 0.009652063743803202], [0.019338944551211303, 0.038677889102422605, 0.007735577820484522, 0.009669472275605651], [0.019342426257571793, 0.038684852515143586, 0.007736970503028718, 0.009671213128785897]]\n",
      "next_theta [0.015474250491067256, 0.030948500982134513, 0.006189700196426903, 0.007737125245533628]\n",
      "next_thetas [[-3.079375847722384, -6.158751695444768, -1.2317503390889537, -1.539687923861192], [-0.29401075933027787, -0.5880215186605557, -0.11760430373211114, -0.14700537966513894], [-0.015474250491067256, -0.030948500982134513, -0.006189700196426903, -0.007737125245533628], [0.012379400392853806, 0.02475880078570761, 0.004951760157141522, 0.006189700196426903], [0.015164765481245911, 0.030329530962491823, 0.006065906192498365, 0.007582382740622956], [0.015443301990085121, 0.030886603980170242, 0.006177320796034049, 0.0077216509950425605], [0.015471155640969044, 0.030942311281938088, 0.006188462256387617, 0.007735577820484522], [0.015473941006057436, 0.03094788201211487, 0.006189576402422974, 0.007736970503028718]]\n",
      "next_theta [0.012379400392853806, 0.02475880078570761, 0.004951760157141522, 0.006189700196426903]\n",
      "next_thetas [[-2.4635006781779074, -4.927001356355815, -0.985400271271163, -1.2317503390889537], [-0.23520860746422229, -0.47041721492844457, -0.09408344298568892, -0.11760430373211114], [-0.012379400392853806, -0.02475880078570761, -0.004951760157141522, -0.006189700196426903], [0.009903520314283045, 0.01980704062856609, 0.003961408125713218, 0.004951760157141522], [0.01213181238499673, 0.02426362476999346, 0.004852724953998692, 0.006065906192498365], [0.012354641592068097, 0.024709283184136194, 0.004941856636827239, 0.006177320796034049], [0.012376924512775235, 0.02475384902555047, 0.004950769805110094, 0.006188462256387617], [0.012379152804845948, 0.024758305609691895, 0.00495166112193838, 0.006189576402422974]]\n",
      "next_theta [0.009903520314283045, 0.01980704062856609, 0.003961408125713218, 0.004951760157141522]\n",
      "next_thetas [[-1.970800542542326, -3.941601085084652, -0.7883202170169304, -0.985400271271163], [-0.18816688597137785, -0.3763337719427557, -0.07526675438855114, -0.09408344298568892], [-0.009903520314283045, -0.01980704062856609, -0.003961408125713218, -0.004951760157141522], [0.007922816251426436, 0.015845632502852872, 0.0031691265005705745, 0.003961408125713218], [0.009705449907997384, 0.019410899815994767, 0.0038821799631989537, 0.004852724953998692], [0.009883713273654478, 0.019767426547308956, 0.003953485309461792, 0.004941856636827239], [0.009901539610220188, 0.019803079220440375, 0.003960615844088075, 0.004950769805110094], [0.00990332224387676, 0.01980664448775352, 0.003961328897550704, 0.00495166112193838]]\n",
      "next_theta [0.007922816251426436, 0.015845632502852872, 0.0031691265005705745, 0.003961408125713218]\n",
      "next_thetas [[-1.576640434033861, -3.153280868067722, -0.6306561736135443, -0.7883202170169304], [-0.15053350877710228, -0.30106701755420456, -0.06021340351084092, -0.07526675438855114], [-0.007922816251426436, -0.015845632502852872, -0.0031691265005705745, -0.003961408125713218], [0.006338253001141149, 0.012676506002282298, 0.00253530120045646, 0.0031691265005705745], [0.007764359926397907, 0.015528719852795815, 0.003105743970559163, 0.0038821799631989537], [0.007906970618923584, 0.015813941237847167, 0.0031627882475694334, 0.003953485309461792], [0.00792123168817615, 0.0158424633763523, 0.0031684926752704604, 0.003960615844088075], [0.007922657795101408, 0.015845315590202816, 0.003169063118040563, 0.003961328897550704]]\n",
      "next_theta [0.006338253001141149, 0.012676506002282298, 0.00253530120045646, 0.0031691265005705745]\n",
      "next_thetas [[-1.2613123472270886, -2.5226246944541773, -0.5045249388908355, -0.6306561736135443], [-0.12042680702168183, -0.24085361404336367, -0.04817072280867274, -0.06021340351084092], [-0.006338253001141149, -0.012676506002282298, -0.00253530120045646, -0.0031691265005705745], [0.00507060240091292, 0.01014120480182584, 0.0020282409603651678, 0.00253530120045646], [0.006211487941118326, 0.012422975882236653, 0.0024845951764473307, 0.003105743970559163], [0.006325576495138867, 0.012651152990277734, 0.002530230598055547, 0.0031627882475694334], [0.006336985350540921, 0.012673970701081842, 0.0025347941402163684, 0.0031684926752704604], [0.006338126236081126, 0.012676252472162253, 0.002535250494432451, 0.003169063118040563]]\n",
      "next_theta [0.00507060240091292, 0.01014120480182584, 0.0020282409603651678, 0.00253530120045646]\n",
      "next_thetas [[-1.009049877781671, -2.018099755563342, -0.40361995111266835, -0.5045249388908355], [-0.09634144561734548, -0.19268289123469096, -0.03853657824693819, -0.04817072280867274], [-0.00507060240091292, -0.01014120480182584, -0.0020282409603651678, -0.00253530120045646], [0.0040564819207303355, 0.008112963841460671, 0.0016225927682921343, 0.0020282409603651678], [0.0049691903528946615, 0.009938380705789323, 0.0019876761411578643, 0.0024845951764473307], [0.005060461196111094, 0.010120922392222188, 0.0020241844784444373, 0.002530230598055547], [0.005069588280432737, 0.010139176560865474, 0.0020278353121730946, 0.0025347941402163684], [0.005070500988864902, 0.010141001977729804, 0.0020282003955459605, 0.002535250494432451]]\n",
      "next_theta [0.0040564819207303355, 0.008112963841460671, 0.0016225927682921343, 0.0020282409603651678]\n",
      "next_thetas [[-0.8072399022253367, -1.6144798044506734, -0.3228959608901347, -0.40361995111266835], [-0.07707315649387637, -0.15414631298775275, -0.03082926259755055, -0.03853657824693819], [-0.0040564819207303355, -0.008112963841460671, -0.0016225927682921343, -0.0020282409603651678], [0.0032451855365842686, 0.006490371073168537, 0.0012980742146337075, 0.0016225927682921343], [0.003975352282315729, 0.007950704564631457, 0.0015901409129262915, 0.0019876761411578643], [0.004048368956888875, 0.00809673791377775, 0.0016193475827555501, 0.0020241844784444373], [0.004055670624346189, 0.008111341248692379, 0.0016222682497384758, 0.0020278353121730946], [0.004056400791091921, 0.008112801582183842, 0.0016225603164367684, 0.0020282003955459605]]\n",
      "next_theta [0.0032451855365842686, 0.006490371073168537, 0.0012980742146337075, 0.0016225927682921343]\n",
      "next_thetas [[-0.6457919217802695, -1.291583843560539, -0.2583167687121078, -0.3228959608901347], [-0.0616585251951011, -0.1233170503902022, -0.024663410078040442, -0.03082926259755055], [-0.0032451855365842686, -0.006490371073168537, -0.0012980742146337075, -0.0016225927682921343], [0.002596148429267415, 0.00519229685853483, 0.001038459371706966, 0.0012980742146337075], [0.003180281825852583, 0.006360563651705166, 0.0012721127303410332, 0.0015901409129262915], [0.0032386951655111003, 0.0064773903310222005, 0.00129547806620444, 0.0016193475827555501], [0.0032445364994769517, 0.006489072998953903, 0.0012978145997907808, 0.0016222682497384758], [0.0032451206328735368, 0.0064902412657470735, 0.0012980482531494148, 0.0016225603164367684]]\n",
      "next_theta [0.002596148429267415, 0.00519229685853483, 0.001038459371706966, 0.0012980742146337075]\n",
      "next_thetas [[-0.5166335374242156, -1.0332670748484312, -0.20665341496968626, -0.2583167687121078], [-0.049326820156080885, -0.09865364031216177, -0.019730728062432354, -0.024663410078040442], [-0.002596148429267415, -0.00519229685853483, -0.001038459371706966, -0.0012980742146337075], [0.002076918743413932, 0.004153837486827864, 0.0008307674973655728, 0.001038459371706966], [0.0025442254606820665, 0.005088450921364133, 0.0010176901842728267, 0.0012721127303410332], [0.00259095613240888, 0.00518191226481776, 0.001036382452963552, 0.00129547806620444], [0.0025956291995815617, 0.005191258399163123, 0.0010382516798326247, 0.0012978145997907808], [0.0025960965062988297, 0.005192193012597659, 0.001038438602519532, 0.0012980482531494148]]\n",
      "next_theta [0.002076918743413932, 0.004153837486827864, 0.0008307674973655728, 0.001038459371706966]\n",
      "next_thetas [[-0.4133068299393725, -0.826613659878745, -0.16532273197574898, -0.20665341496968626], [-0.03946145612486471, -0.07892291224972942, -0.015784582449945884, -0.019730728062432354], [-0.002076918743413932, -0.004153837486827864, -0.0008307674973655728, -0.001038459371706966], [0.0016615349947311456, 0.0033230699894622913, 0.0006646139978924582, 0.0008307674973655728], [0.0020353803685456535, 0.004070760737091307, 0.0008141521474182614, 0.0010176901842728267], [0.002072764905927104, 0.004145529811854208, 0.0008291059623708417, 0.001036382452963552], [0.0020765033596652493, 0.004153006719330499, 0.0008306013438660997, 0.0010382516798326247], [0.002076877205039064, 0.004153754410078128, 0.0008307508820156255, 0.001038438602519532]]\n",
      "next_theta [0.0016615349947311456, 0.0033230699894622913, 0.0006646139978924582, 0.0008307674973655728]\n",
      "next_thetas [[-0.33064546395149796, -0.6612909279029959, -0.13225818558059918, -0.16532273197574898], [-0.03156916489989177, -0.06313832979978354, -0.012627665959956708, -0.015784582449945884], [-0.0016615349947311456, -0.0033230699894622913, -0.0006646139978924582, -0.0008307674973655728], [0.0013292279957849164, 0.002658455991569833, 0.0005316911983139665, 0.0006646139978924582], [0.0016283042948365227, 0.0032566085896730454, 0.0006513217179346091, 0.0008141521474182614], [0.0016582119247416833, 0.0033164238494833667, 0.0006632847698966733, 0.0008291059623708417], [0.0016612026877321994, 0.003322405375464399, 0.0006644810750928797, 0.0008306013438660997], [0.001661501764031251, 0.003323003528062502, 0.0006646007056125004, 0.0008307508820156255]]\n",
      "next_theta [0.0013292279957849164, 0.002658455991569833, 0.0005316911983139665, 0.0006646139978924582]\n",
      "next_thetas [[-0.26451637116119836, -0.5290327423223967, -0.10580654846447934, -0.13225818558059918], [-0.025255331919913415, -0.05051066383982683, -0.010102132767965365, -0.012627665959956708], [-0.0013292279957849164, -0.002658455991569833, -0.0005316911983139665, -0.0006646139978924582], [0.001063382396627933, 0.002126764793255866, 0.00042535295865117324, 0.0005316911983139665], [0.0013026434358692181, 0.0026052868717384363, 0.0005210573743476872, 0.0006513217179346091], [0.0013265695397933466, 0.0026531390795866932, 0.0005306278159173386, 0.0006632847698966733], [0.0013289621501857594, 0.0026579243003715188, 0.0005315848600743038, 0.0006644810750928797], [0.0013292014112250008, 0.0026584028224500016, 0.0005316805644900003, 0.0006646007056125004]]\n",
      "next_theta [0.001063382396627933, 0.002126764793255866, 0.00042535295865117324, 0.0005316911983139665]\n",
      "next_thetas [[-0.2116130969289587, -0.4232261938579174, -0.08464523877158348, -0.10580654846447934], [-0.02020426553593073, -0.04040853107186146, -0.008081706214372292, -0.010102132767965365], [-0.001063382396627933, -0.002126764793255866, -0.00042535295865117324, -0.0005316911983139665], [0.0008507059173023465, 0.001701411834604693, 0.0003402823669209386, 0.00042535295865117324], [0.0010421147486953744, 0.0020842294973907488, 0.0004168458994781498, 0.0005210573743476872], [0.0010612556318346771, 0.0021225112636693542, 0.0004245022527338709, 0.0005306278159173386], [0.0010631697201486075, 0.002126339440297215, 0.000425267888059443, 0.0005315848600743038], [0.0010633611289800006, 0.002126722257960001, 0.0004253444515920002, 0.0005316805644900003]]\n",
      "next_theta [0.0008507059173023465, 0.001701411834604693, 0.0003402823669209386, 0.00042535295865117324]\n",
      "next_thetas [[-0.16929047754316695, -0.3385809550863339, -0.06771619101726678, -0.08464523877158348], [-0.016163412428744584, -0.03232682485748917, -0.006465364971497833, -0.008081706214372292], [-0.0008507059173023465, -0.001701411834604693, -0.0003402823669209386, -0.00042535295865117324], [0.0006805647338418772, 0.0013611294676837543, 0.00027222589353675085, 0.0003402823669209386], [0.0008336917989562996, 0.0016673835979125991, 0.0003334767195825198, 0.0004168458994781498], [0.0008490045054677418, 0.0016980090109354835, 0.00033960180218709673, 0.0004245022527338709], [0.000850535776118886, 0.001701071552237772, 0.0003402143104475544, 0.000425267888059443], [0.0008506889031840004, 0.0017013778063680008, 0.00034027556127360015, 0.0004253444515920002]]\n",
      "next_theta [0.0006805647338418772, 0.0013611294676837543, 0.00027222589353675085, 0.0003402823669209386]\n",
      "next_thetas [[-0.13543238203453356, -0.2708647640690671, -0.054172952813813416, -0.06771619101726678], [-0.012930729942995666, -0.025861459885991332, -0.005172291977198266, -0.006465364971497833], [-0.0006805647338418772, -0.0013611294676837543, -0.00027222589353675085, -0.0003402823669209386], [0.0005444517870735017, 0.0010889035741470034, 0.0002177807148294007, 0.00027222589353675085], [0.0006669534391650396, 0.0013339068783300792, 0.0002667813756660158, 0.0003334767195825198], [0.0006792036043741935, 0.001358407208748387, 0.00027168144174967733, 0.00033960180218709673], [0.0006804286208951088, 0.0013608572417902177, 0.0002721714483580435, 0.0003402143104475544], [0.0006805511225472003, 0.0013611022450944006, 0.0002722204490188801, 0.00034027556127360015]]\n",
      "next_theta [0.0005444517870735017, 0.0010889035741470034, 0.0002177807148294007, 0.00027222589353675085]\n"
     ]
    },
    {
     "data": {
      "text/plain": [
       "[0.0006805647338418772,\n",
       " 0.0013611294676837543,\n",
       " 0.00027222589353675085,\n",
       " 0.0003402823669209386]"
      ]
     },
     "execution_count": 34,
     "metadata": {},
     "output_type": "execute_result"
    }
   ],
   "source": [
    "minimize_batch(sum_of_squares, sum_of_squares_gradient, [10,20,4,5])"
   ]
  },
  {
   "cell_type": "code",
   "execution_count": 19,
   "metadata": {},
   "outputs": [
    {
     "data": {
      "text/plain": [
       "[0.0006805647338418772,\n",
       " 0.0013611294676837543,\n",
       " 0.00027222589353675085,\n",
       " 0.0003402823669209386,\n",
       " 0.0,\n",
       " 6.805647338418771e-05]"
      ]
     },
     "execution_count": 19,
     "metadata": {},
     "output_type": "execute_result"
    }
   ],
   "source": [
    "minimize_batch(sum_of_squares, sum_of_squares_gradient, [10,20,4,5,0,1])"
   ]
  },
  {
   "cell_type": "markdown",
   "metadata": {},
   "source": [
    "#### Example : Centering a certain point"
   ]
  },
  {
   "cell_type": "code",
   "execution_count": 20,
   "metadata": {},
   "outputs": [
    {
     "data": {
      "text/plain": [
       "[3.0016059738814325, 2.000015426605225]"
      ]
     },
     "execution_count": 20,
     "metadata": {},
     "output_type": "execute_result"
    }
   ],
   "source": [
    "def myf(v):\n",
    "    return (v[0]-3)**2 + (v[1]-2)**2\n",
    "\n",
    "def myf_gradient(v):\n",
    "    return [2.0*v[0]-6, 2.0*v[1]-4]\n",
    "\n",
    "minimize_batch(myf, myf_gradient, [5000.,50.])"
   ]
  },
  {
   "cell_type": "code",
   "execution_count": 21,
   "metadata": {},
   "outputs": [
    {
     "data": {
      "text/plain": [
       "[-6.000004910792425, -4.000001227698107]"
      ]
     },
     "execution_count": 21,
     "metadata": {},
     "output_type": "execute_result"
    }
   ],
   "source": [
    "c = np.array([0,0])\n",
    "X = c + np.array([[5, 6],\n",
    "                  [7, 8]])\n",
    "\n",
    "(v[0]-3)**2 + (v[1]-2)**2\n",
    "[2.0*v[0]-6, 2.0*v[1]-4]"
   ]
  },
  {
   "cell_type": "code",
   "execution_count": 24,
   "metadata": {},
   "outputs": [
    {
     "data": {
      "text/plain": [
       "[6.999843894783611, 69.99843894783609, 6.999843894783611, 3.9999107970192056]"
      ]
     },
     "execution_count": 24,
     "metadata": {},
     "output_type": "execute_result"
    }
   ],
   "source": [
    "from functools import partial\n",
    "\n",
    "def f1(x, c):\n",
    "    x = np.array(x)\n",
    "    c = np.array(c)\n",
    "    return np.sum((x - c)**2)\n",
    "\n",
    "def f1_gradient(x, c):\n",
    "    x = np.array(x)\n",
    "    c = np.array(c)\n",
    "    return 2*x - 2*c\n",
    "\n",
    "def numerical_gradient(v, f, h=0.00001):\n",
    "    return (f(v) - np.apply_along_axis(f, 1, v - h * np.eye(len(v)))) / h\n",
    "\n",
    "c = np.array([7,70,7,4])\n",
    "\n",
    "f = partial(f1, c=c)\n",
    "#gradient_f = partial(numerical_gradient, f=f)\n",
    "gradient_f = partial(f1_gradient, c=c)\n",
    "\n",
    "minimize_batch(f, gradient_f, [0,0,0,0])"
   ]
  },
  {
   "cell_type": "markdown",
   "metadata": {},
   "source": [
    "Sometimes we'll instead want to maximize a function, which we can do by minimizing its negative (which has a corresponding negative gradient):"
   ]
  },
  {
   "cell_type": "code",
   "execution_count": 25,
   "metadata": {},
   "outputs": [],
   "source": [
    "def negate(f):\n",
    "    \"\"\"return a function that for any input x returns -f(x)\"\"\"\n",
    "    return lambda *arg, **kwargs: -f(*args, **kwargs)\n",
    "\n",
    "def negate_all(f):\n",
    "    \"\"\"the same when f returns a list of numbers\"\"\"\n",
    "    return lambda *args, **kwargs: [-y for y in f(*args, **kwargs)]\n",
    "\n",
    "def maximize_batch(target_fn, gradient_fn, theta_0, tolerance=0.000001):\n",
    "    return minimize_batch(negate(target_fn),\n",
    "                          negate_all(gradient_fn),\n",
    "                          theta_0,\n",
    "                          tolerance)"
   ]
  },
  {
   "cell_type": "markdown",
   "metadata": {},
   "source": [
    "#### Maximizing batch Example\n",
    " - FInd the vaiable maximizing normal pdf."
   ]
  },
  {
   "cell_type": "code",
   "execution_count": 28,
   "metadata": {},
   "outputs": [
    {
     "ename": "ValueError",
     "evalue": "could not convert string to float: 'int'",
     "output_type": "error",
     "traceback": [
      "\u001b[1;31m---------------------------------------------------------------------------\u001b[0m",
      "\u001b[1;31mNameError\u001b[0m                                 Traceback (most recent call last)",
      "\u001b[1;32m<ipython-input-16-ec35556d6f88>\u001b[0m in \u001b[0;36msafe_f\u001b[1;34m(*args, **kwargs)\u001b[0m\n\u001b[0;32m      4\u001b[0m         \u001b[1;32mtry\u001b[0m\u001b[1;33m:\u001b[0m\u001b[1;33m\u001b[0m\u001b[1;33m\u001b[0m\u001b[0m\n\u001b[1;32m----> 5\u001b[1;33m             \u001b[1;32mreturn\u001b[0m \u001b[0mf\u001b[0m\u001b[1;33m(\u001b[0m\u001b[1;33m*\u001b[0m\u001b[0margs\u001b[0m\u001b[1;33m,\u001b[0m \u001b[1;33m**\u001b[0m\u001b[0mkwargs\u001b[0m\u001b[1;33m)\u001b[0m\u001b[1;33m\u001b[0m\u001b[1;33m\u001b[0m\u001b[0m\n\u001b[0m\u001b[0;32m      6\u001b[0m         \u001b[1;32mexcept\u001b[0m\u001b[1;33m:\u001b[0m\u001b[1;33m\u001b[0m\u001b[1;33m\u001b[0m\u001b[0m\n",
      "\u001b[1;32m<ipython-input-25-732ecbcc5b48>\u001b[0m in \u001b[0;36m<lambda>\u001b[1;34m(*arg, **kwargs)\u001b[0m\n\u001b[0;32m      2\u001b[0m     \u001b[1;34m\"\"\"return a function that for any input x returns -f(x)\"\"\"\u001b[0m\u001b[1;33m\u001b[0m\u001b[1;33m\u001b[0m\u001b[0m\n\u001b[1;32m----> 3\u001b[1;33m     \u001b[1;32mreturn\u001b[0m \u001b[1;32mlambda\u001b[0m \u001b[1;33m*\u001b[0m\u001b[0marg\u001b[0m\u001b[1;33m,\u001b[0m \u001b[1;33m**\u001b[0m\u001b[0mkwargs\u001b[0m\u001b[1;33m:\u001b[0m \u001b[1;33m-\u001b[0m\u001b[0mf\u001b[0m\u001b[1;33m(\u001b[0m\u001b[1;33m*\u001b[0m\u001b[0margs\u001b[0m\u001b[1;33m,\u001b[0m \u001b[1;33m**\u001b[0m\u001b[0mkwargs\u001b[0m\u001b[1;33m)\u001b[0m\u001b[1;33m\u001b[0m\u001b[1;33m\u001b[0m\u001b[0m\n\u001b[0m\u001b[0;32m      4\u001b[0m \u001b[1;33m\u001b[0m\u001b[0m\n",
      "\u001b[1;31mNameError\u001b[0m: name 'args' is not defined",
      "\nDuring handling of the above exception, another exception occurred:\n",
      "\u001b[1;31mValueError\u001b[0m                                Traceback (most recent call last)",
      "\u001b[1;32m<ipython-input-28-14e9f61177a3>\u001b[0m in \u001b[0;36m<module>\u001b[1;34m\u001b[0m\n\u001b[0;32m     12\u001b[0m \u001b[0minit_x\u001b[0m \u001b[1;33m=\u001b[0m \u001b[0mnp\u001b[0m\u001b[1;33m.\u001b[0m\u001b[0marray\u001b[0m\u001b[1;33m(\u001b[0m\u001b[1;33m[\u001b[0m\u001b[1;33m-\u001b[0m\u001b[1;36m4.\u001b[0m\u001b[1;33m]\u001b[0m\u001b[1;33m)\u001b[0m\u001b[1;33m\u001b[0m\u001b[1;33m\u001b[0m\u001b[0m\n\u001b[0;32m     13\u001b[0m \u001b[1;33m\u001b[0m\u001b[0m\n\u001b[1;32m---> 14\u001b[1;33m \u001b[0mmaximize_batch\u001b[0m\u001b[1;33m(\u001b[0m\u001b[0mf\u001b[0m\u001b[1;33m,\u001b[0m \u001b[0mgradient_f\u001b[0m\u001b[1;33m,\u001b[0m \u001b[0minit_x\u001b[0m\u001b[1;33m)\u001b[0m\u001b[1;33m\u001b[0m\u001b[1;33m\u001b[0m\u001b[0m\n\u001b[0m",
      "\u001b[1;32m<ipython-input-25-732ecbcc5b48>\u001b[0m in \u001b[0;36mmaximize_batch\u001b[1;34m(target_fn, gradient_fn, theta_0, tolerance)\u001b[0m\n\u001b[0;32m     11\u001b[0m                           \u001b[0mnegate_all\u001b[0m\u001b[1;33m(\u001b[0m\u001b[0mgradient_fn\u001b[0m\u001b[1;33m)\u001b[0m\u001b[1;33m,\u001b[0m\u001b[1;33m\u001b[0m\u001b[1;33m\u001b[0m\u001b[0m\n\u001b[0;32m     12\u001b[0m                           \u001b[0mtheta_0\u001b[0m\u001b[1;33m,\u001b[0m\u001b[1;33m\u001b[0m\u001b[1;33m\u001b[0m\u001b[0m\n\u001b[1;32m---> 13\u001b[1;33m                           tolerance)\n\u001b[0m",
      "\u001b[1;32m<ipython-input-17-622722457f49>\u001b[0m in \u001b[0;36mminimize_batch\u001b[1;34m(target_fn, gradient_fn, theta_0, tolerance)\u001b[0m\n\u001b[0;32m      6\u001b[0m     \u001b[0mtheta\u001b[0m \u001b[1;33m=\u001b[0m \u001b[0mtheta_0\u001b[0m   \u001b[1;31m# set theta to initial value\u001b[0m\u001b[1;33m\u001b[0m\u001b[1;33m\u001b[0m\u001b[0m\n\u001b[0;32m      7\u001b[0m     \u001b[0mtarget_fn\u001b[0m \u001b[1;33m=\u001b[0m \u001b[0msafe\u001b[0m\u001b[1;33m(\u001b[0m\u001b[0mtarget_fn\u001b[0m\u001b[1;33m)\u001b[0m   \u001b[1;31m# sage version of target_fn\u001b[0m\u001b[1;33m\u001b[0m\u001b[1;33m\u001b[0m\u001b[0m\n\u001b[1;32m----> 8\u001b[1;33m     \u001b[0mvalue\u001b[0m \u001b[1;33m=\u001b[0m \u001b[0mtarget_fn\u001b[0m\u001b[1;33m(\u001b[0m\u001b[0mtheta\u001b[0m\u001b[1;33m)\u001b[0m   \u001b[1;31m# value we're minimizing\u001b[0m\u001b[1;33m\u001b[0m\u001b[1;33m\u001b[0m\u001b[0m\n\u001b[0m\u001b[0;32m      9\u001b[0m \u001b[1;33m\u001b[0m\u001b[0m\n\u001b[0;32m     10\u001b[0m     \u001b[1;32mwhile\u001b[0m \u001b[1;32mTrue\u001b[0m\u001b[1;33m:\u001b[0m\u001b[1;33m\u001b[0m\u001b[1;33m\u001b[0m\u001b[0m\n",
      "\u001b[1;32m<ipython-input-16-ec35556d6f88>\u001b[0m in \u001b[0;36msafe_f\u001b[1;34m(*args, **kwargs)\u001b[0m\n\u001b[0;32m      5\u001b[0m             \u001b[1;32mreturn\u001b[0m \u001b[0mf\u001b[0m\u001b[1;33m(\u001b[0m\u001b[1;33m*\u001b[0m\u001b[0margs\u001b[0m\u001b[1;33m,\u001b[0m \u001b[1;33m**\u001b[0m\u001b[0mkwargs\u001b[0m\u001b[1;33m)\u001b[0m\u001b[1;33m\u001b[0m\u001b[1;33m\u001b[0m\u001b[0m\n\u001b[0;32m      6\u001b[0m         \u001b[1;32mexcept\u001b[0m\u001b[1;33m:\u001b[0m\u001b[1;33m\u001b[0m\u001b[1;33m\u001b[0m\u001b[0m\n\u001b[1;32m----> 7\u001b[1;33m             \u001b[1;32mreturn\u001b[0m \u001b[0mfloat\u001b[0m\u001b[1;33m(\u001b[0m\u001b[1;34m'int'\u001b[0m\u001b[1;33m)\u001b[0m  \u001b[1;31m# this means \"infinity\" in Python\u001b[0m\u001b[1;33m\u001b[0m\u001b[1;33m\u001b[0m\u001b[0m\n\u001b[0m\u001b[0;32m      8\u001b[0m \u001b[1;33m\u001b[0m\u001b[0m\n\u001b[0;32m      9\u001b[0m     \u001b[1;32mreturn\u001b[0m \u001b[0msafe_f\u001b[0m\u001b[1;33m\u001b[0m\u001b[1;33m\u001b[0m\u001b[0m\n",
      "\u001b[1;31mValueError\u001b[0m: could not convert string to float: 'int'"
     ]
    }
   ],
   "source": [
    "from functools import partial\n",
    "\n",
    "def normal_pdf(npx, mu, sigma):\n",
    "    x = npx[0]\n",
    "    return ((1/(np.sqrt(2*np.pi)*sigma)*np.exp(-(x-mu)**2/(2*sigma**2))))\n",
    "\n",
    "def numerical_gradient(v, f, h=0.00001):\n",
    "    return (np.apply_along_axis(f, 1, v + h * np.eye(len(v))) -f(v)) / h\n",
    "\n",
    "f = partial(normal_pdf, mu=0, sigma=1)\n",
    "gradient_f = partial(numerical_gradient, f=f)\n",
    "init_x = np.array([-4.])\n",
    "\n",
    "maximize_batch(f, gradient_f, init_x)"
   ]
  }
 ],
 "metadata": {
  "kernelspec": {
   "display_name": "Python 3",
   "language": "python",
   "name": "python3"
  },
  "language_info": {
   "codemirror_mode": {
    "name": "ipython",
    "version": 3
   },
   "file_extension": ".py",
   "mimetype": "text/x-python",
   "name": "python",
   "nbconvert_exporter": "python",
   "pygments_lexer": "ipython3",
   "version": "3.7.6"
  }
 },
 "nbformat": 4,
 "nbformat_minor": 4
}
