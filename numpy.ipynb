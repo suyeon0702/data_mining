{
 "cells": [
  {
   "cell_type": "markdown",
   "metadata": {},
   "source": [
    "## Introduction to Numpy"
   ]
  },
  {
   "cell_type": "markdown",
   "metadata": {},
   "source": [
    "### Creating ndarray\n",
    "An ndarray can be created from a list or tuple object"
   ]
  },
  {
   "cell_type": "code",
   "execution_count": 4,
   "metadata": {},
   "outputs": [],
   "source": [
    "import numpy"
   ]
  },
  {
   "cell_type": "code",
   "execution_count": 5,
   "metadata": {},
   "outputs": [
    {
     "name": "stdout",
     "output_type": "stream",
     "text": [
      "[1. 2. 3. 4. 5.]\n",
      "#Dimensions = 1\n",
      "Dimension = (5,)\n",
      "Size = 5\n",
      "Array type = float64\n"
     ]
    }
   ],
   "source": [
    "import numpy as np\n",
    "\n",
    "oneDim = np.array([1.0, 2, 3, 4, 5])\n",
    "print(oneDim)\n",
    "print(\"#Dimensions =\", oneDim.ndim) # .ndim = number of dimention\n",
    "print(\"Dimension =\", oneDim.shape) # .shape = (행, 열)\n",
    "print(\"Size =\", oneDim.size) # .size = 원소 개수\n",
    "print(\"Array type =\", oneDim.dtype) # .dtype = data type(only one datatype)"
   ]
  },
  {
   "cell_type": "markdown",
   "metadata": {},
   "source": [
    "numpy element has only one type like C array"
   ]
  },
  {
   "cell_type": "code",
   "execution_count": 3,
   "metadata": {},
   "outputs": [
    {
     "name": "stdout",
     "output_type": "stream",
     "text": [
      "[[1 2]\n",
      " [3 4]\n",
      " [5 6]\n",
      " [7 8]]\n",
      "#Dimensions = 2\n",
      "Dimension = (4, 2)\n",
      "Size = 8\n",
      "Array type = int32\n"
     ]
    }
   ],
   "source": [
    "twoDim = np.array([[1,2],[3,4],[5,6],[7,8]])\n",
    "print(twoDim)\n",
    "print(\"#Dimensions =\", twoDim.ndim) # .ndim = number of dimention\n",
    "print(\"Dimension =\", twoDim.shape) # .shape = (행, 열)\n",
    "print(\"Size =\", twoDim.size) # .size = 원소 개수\n",
    "print(\"Array type =\", twoDim.dtype) # .dtype = data type(only one datatype)"
   ]
  },
  {
   "cell_type": "code",
   "execution_count": 4,
   "metadata": {},
   "outputs": [
    {
     "name": "stdout",
     "output_type": "stream",
     "text": [
      "[['1' 'a' '3.0']\n",
      " ['2' 'b' '3.5']]\n",
      "#Dimensions = 2\n",
      "Dimension = (2, 3)\n",
      "Size = 6\n",
      "Array type = <U11\n"
     ]
    }
   ],
   "source": [
    "arrFromTuple = np.array([(1, 'a', 3.0), (2, 'b', 3.5)])\n",
    "print(arrFromTuple)\n",
    "print(\"#Dimensions =\", arrFromTuple.ndim) # .ndim = number of dimention\n",
    "print(\"Dimension =\", arrFromTuple.shape) # .shape = (행, 열)\n",
    "print(\"Size =\", arrFromTuple.size) # .size = 원소 개수\n",
    "print(\"Array type =\", arrFromTuple.dtype) # .dtype = data type(only one datatype)"
   ]
  },
  {
   "cell_type": "code",
   "execution_count": 5,
   "metadata": {},
   "outputs": [
    {
     "name": "stdout",
     "output_type": "stream",
     "text": [
      "(1,)\n",
      "(2,)\n",
      "(2, 1)\n",
      "(1, 2, 3)\n",
      "(2, 2, 3)\n",
      "(1, 3, 3)\n",
      "(1, 2, 2)\n",
      "(1, 1, 1, 0)\n",
      "(1, 1, 1, 1)\n",
      "(1, 1, 1, 2)\n"
     ]
    }
   ],
   "source": [
    "print(np.array([1]).shape)\n",
    "print(np.array([1,2]).shape)\n",
    "print(np.array([[1], [2]]).shape)\n",
    "\n",
    "print(np.array([[[1,2,3],[1,2,3]]]).shape)\n",
    "print(np.array([[[1,2,3],[1,2,3]], [[4,5,6],[4,5,6]]]).shape)\n",
    "print(np.array([[[1,2,3],[1,2,3],[1,2,3]]]).shape)\n",
    "print(np.array([[[1,2],[1,2]]]).shape)\n",
    "\n",
    "print(np.array([[[[]]]]).shape)\n",
    "print(np.array([[[[0]]]]).shape)\n",
    "print(np.array([[[[0,2]]]]).shape)"
   ]
  },
  {
   "cell_type": "code",
   "execution_count": 6,
   "metadata": {},
   "outputs": [
    {
     "data": {
      "text/plain": [
       "True"
      ]
     },
     "execution_count": 6,
     "metadata": {},
     "output_type": "execute_result"
    }
   ],
   "source": [
    "(1,2) == (1,2,)"
   ]
  },
  {
   "cell_type": "code",
   "execution_count": 7,
   "metadata": {},
   "outputs": [
    {
     "name": "stdout",
     "output_type": "stream",
     "text": [
      "[0.31743443 0.87582362 0.61500291 0.3343099  0.01703746]\n",
      "[ 0.05761502  0.12895835  1.21809354  0.31663865 -0.40379189]\n",
      "[-10  -8  -6  -4  -2   0   2   4   6   8]\n",
      "[[ 0  1  2  3]\n",
      " [ 4  5  6  7]\n",
      " [ 8  9 10 11]]\n",
      "[0.         0.11111111 0.22222222 0.33333333 0.44444444 0.55555556\n",
      " 0.66666667 0.77777778 0.88888889 1.        ]\n",
      "[0.   0.25 0.5  0.75 1.  ]\n",
      "[1.e-03 1.e-02 1.e-01 1.e+00 1.e+01 1.e+02 1.e+03]\n",
      "[1.00000000e-03 5.62341325e-03 3.16227766e-02 1.77827941e-01\n",
      " 1.00000000e+00 5.62341325e+00 3.16227766e+01 1.77827941e+02\n",
      " 1.00000000e+03]\n"
     ]
    }
   ],
   "source": [
    "print(np.random.rand(5)) # [0,1] 사이의 랜덤\n",
    "print(np.random.randn(5)) # 정규분포...\n",
    "print(np.arange(-10,10,2)) # -10~9 중에서 2씩 뛰어서\n",
    "print(np.arange(12).reshape(3,4)) # 0~11 을 (3,4) 배열로\n",
    "print(np.linspace(0,1,10)) # [0,1] 10등분\n",
    "print(np.linspace(0,1,5))\n",
    "\n",
    "print(np.logspace(-3,3,7)) # 지수함수의 지수가 [-3,3]의 7등분(아마 7등분...)\n",
    "print(np.logspace(-3,3,9))"
   ]
  },
  {
   "cell_type": "code",
   "execution_count": 8,
   "metadata": {},
   "outputs": [
    {
     "name": "stdout",
     "output_type": "stream",
     "text": [
      "[[0. 0. 0.]\n",
      " [0. 0. 0.]]\n",
      "[[1. 1.]\n",
      " [1. 1.]\n",
      " [1. 1.]]\n",
      "[[1. 0. 0.]\n",
      " [0. 1. 0.]\n",
      " [0. 0. 1.]]\n"
     ]
    }
   ],
   "source": [
    "print(np.zeros((2,3))) # .zeros(row, column) = zeros matrix (row, column)\n",
    "print(np.ones((3,2))) # .ones(row,column) = ones matrix (row, column)\n",
    "print(np.eye(3)) # n x n의 단위행렬"
   ]
  },
  {
   "cell_type": "markdown",
   "metadata": {},
   "source": [
    "## Element-wise Operations\n",
    "You can apply standard operators such as addition and multiplication on each elemnet of the ndarray."
   ]
  },
  {
   "cell_type": "code",
   "execution_count": 9,
   "metadata": {},
   "outputs": [
    {
     "name": "stdout",
     "output_type": "stream",
     "text": [
      "[2 3 4 5 6]\n",
      "[0 1 2 3 4]\n",
      "[ 2  4  6  8 10]\n",
      "[0.5 1.  1.5 2.  2.5]\n",
      "[0 1 1 2 2]\n",
      "[ 1  4  9 16 25]\n",
      "[1 0 1 0 1]\n",
      "[1.         0.5        0.33333333 0.25       0.2       ]\n"
     ]
    }
   ],
   "source": [
    "x = np.array([1,2,3,4,5])\n",
    "# 연산들은 모든 원소들에 적용된다. # 행렬 간격 일정함. 그래서 긴 숫자 나오면 그거에 맞춤\n",
    "print(x + 1)\n",
    "print(x - 1)\n",
    "print(x * 2)\n",
    "print(x / 2) # 나눗셈 (실수 반환인듯)\n",
    "print(x // 2) # 몫 나눗셈 (정수 반환인듯)\n",
    "print(x ** 2) # 제곱\n",
    "print(x % 2) # 나머지 나눗셈\n",
    "print(1 / x)"
   ]
  },
  {
   "cell_type": "code",
   "execution_count": 10,
   "metadata": {},
   "outputs": [
    {
     "name": "stdout",
     "output_type": "stream",
     "text": [
      "[ 3  6  9 12 15]\n",
      "[1 2 3 4 5]\n",
      "[ 2  8 18 32 50]\n",
      "[2. 2. 2. 2. 2.]\n",
      "[2 2 2 2 2]\n",
      "[0 0 0 0 0]\n",
      "[     2     16    216   4096 100000]\n"
     ]
    }
   ],
   "source": [
    "x = np.array([2,4,6,8,10])\n",
    "y = np.array([1,2,3,4,5])\n",
    "\n",
    "print(x + y)\n",
    "print(x - y)\n",
    "print(x * y)\n",
    "print(x / y)\n",
    "print(x // y)\n",
    "print(x % y)\n",
    "#print(x & y)\n",
    "print(x ** y)"
   ]
  },
  {
   "cell_type": "markdown",
   "metadata": {},
   "source": [
    "## Indexing and Slicing\n",
    "There are various ways to select certain elements with an ndarray."
   ]
  },
  {
   "cell_type": "code",
   "execution_count": 11,
   "metadata": {},
   "outputs": [
    {
     "name": "stdout",
     "output_type": "stream",
     "text": [
      "[-5 -4 -3 -2 -1  0  1  2  3  4]\n",
      "[-2 -1]\n",
      "[1000 1000]\n",
      "[  -5   -4   -3 1000 1000    0    1    2    3    4]\n",
      "[1000 1000]\n",
      "[500 500]\n",
      "[  -5   -4   -3 1000 1000    0    1    2    3    4]\n"
     ]
    }
   ],
   "source": [
    "x = np.arange(-5, 5) # -5~4  # (1,)\n",
    "print(x)\n",
    "\n",
    "y = x[3:5] # [3], [4]\n",
    "print(y)\n",
    "y[:] = 1000 # 1000 1000  # [3] -> 1000, [4] -> 1000\n",
    "print(y)\n",
    "print(x)\n",
    "\n",
    "z = x[3:5].copy() # 이건 copy\n",
    "print(z) # 1000 1000\n",
    "z[:] = 500 # 500 500  # 하지만 원본은 변하지 않지\n",
    "print(z)\n",
    "print(x)"
   ]
  },
  {
   "cell_type": "markdown",
   "metadata": {},
   "source": [
    "\n",
    "#### Remark: slicing a list makes a copy of the sublist, but slicing numpy array does not."
   ]
  },
  {
   "cell_type": "code",
   "execution_count": 12,
   "metadata": {},
   "outputs": [
    {
     "name": "stdout",
     "output_type": "stream",
     "text": [
      "[-5, -4, -3, -2, -1, 0, 1, 2, 3, 4]\n",
      "[-2, -1]\n",
      "[-2, 1000]\n",
      "[-5, -4, -3, -2, -1, 0, 1, 2, 3, 4]\n"
     ]
    }
   ],
   "source": [
    "#Remark slicing a list makes a copy of the sublist\n",
    "x = list(range(-5, 5)) # -5 ~ 4 리스트\n",
    "print(x)\n",
    "\n",
    "y = x[3:5] # [3] [4] 리스트\n",
    "print(y)\n",
    "y[1] = 1000 # [3] 1000 # copy본이라서 원본은 안 바뀜\n",
    "print(y)\n",
    "print(x)"
   ]
  },
  {
   "cell_type": "code",
   "execution_count": 13,
   "metadata": {},
   "outputs": [
    {
     "name": "stdout",
     "output_type": "stream",
     "text": [
      "[[1, 2, 3, 4], [5, 6, 7, 8], [9, 10, 11, 12]]\n",
      "[9, 10, 11, 12]\n",
      "[9, 10, 11, 12]\n",
      "10\n",
      "\n",
      "[[ 1  2  3  4]\n",
      " [ 5  6  7  8]\n",
      " [ 9 10 11 12]]\n",
      "\n",
      "[ 9 10 11 12]\n",
      "[ 9 10 11 12]\n",
      "\n",
      "[ 9 10 11 12]\n",
      "[ 9 10 11 12]\n",
      "[ 9 10 11 12]\n",
      "\n",
      "12\n",
      "\n",
      "[ 3  7 11]\n",
      "[[3 4]\n",
      " [7 8]]\n",
      "[[3 4]]\n",
      "[[ 3  4]\n",
      " [11 12]]\n",
      "[[ 1  4]\n",
      " [ 9 12]]\n"
     ]
    }
   ],
   "source": [
    "my2dlist = [[1,2,3,4],[5,6,7,8],[9,10,11,12]] # list\n",
    "print(my2dlist)\n",
    "print(my2dlist[2])\n",
    "print(my2dlist[:][2])\n",
    "# print(my2dlist[1:2][2]) # syntax error\n",
    "# print(my2dlist[:,2])  # syntax error\n",
    "print(my2dlist[2][1])\n",
    "\n",
    "print()\n",
    "\n",
    "my2darr = np.array(my2dlist)  # numpy\n",
    "print(my2darr)\n",
    "print()\n",
    "print(my2darr[2][:])\n",
    "print(my2darr[2,:])\n",
    "print()\n",
    "print(my2darr[:][2])\n",
    "print(my2darr[:][:][2])\n",
    "print(my2darr[:][2][:])\n",
    "print()\n",
    "print(my2darr[:][:][2,3])\n",
    "print()\n",
    "print(my2darr[:,2])\n",
    "print(my2darr[:2,2:])\n",
    "print(my2darr[:1,2:])\n",
    "print(my2darr[::2,2:])\n",
    "print(my2darr[::2,::3])"
   ]
  },
  {
   "cell_type": "markdown",
   "metadata": {},
   "source": [
    "\n",
    "### Remark again: It's indexing, not copying"
   ]
  },
  {
   "cell_type": "code",
   "execution_count": 14,
   "metadata": {},
   "outputs": [
    {
     "name": "stdout",
     "output_type": "stream",
     "text": [
      "[[ 1  2  3  4]\n",
      " [ 5  6  7  8]\n",
      " [ 9 10 11 12]]\n",
      "\n",
      "[[ 3  4]\n",
      " [11 12]]\n",
      "<class 'numpy.ndarray'>\n",
      "\n",
      "[[   1    2 1000 1000]\n",
      " [   5    6    7    8]\n",
      " [   9   10 1000 1000]]\n",
      "\n",
      "[[   1    2 2000 1000]\n",
      " [   5    6    7    8]\n",
      " [   9   10 1000 1000]]\n"
     ]
    }
   ],
   "source": [
    "my2darr = np.array([[1,2,3,4],[5,6,7,8],[9,10,11,12]]) #(3,4)\n",
    "print(my2darr)\n",
    "\n",
    "print()\n",
    "sliced = my2darr[::2,2:] # row 0,2 column 2,3 # indexing\n",
    "print(sliced)\n",
    "print(type(sliced))\n",
    "\n",
    "print()\n",
    "sliced[:,:] = 1000 # [[1000 1000] [1000 1000]] # 원본도 변화됨\n",
    "print(my2darr)\n",
    "\n",
    "print()\n",
    "sliced[0,0] = 2000 # [[2000 1000] [1000 1000]] # 원본도 변화됨\n",
    "print(my2darr)"
   ]
  },
  {
   "cell_type": "markdown",
   "metadata": {},
   "source": [
    "\n",
    "### ndarray also supports boolean indexing (also called masking)."
   ]
  },
  {
   "cell_type": "code",
   "execution_count": 15,
   "metadata": {},
   "outputs": [
    {
     "name": "stdout",
     "output_type": "stream",
     "text": [
      "[2 3]\n",
      "2\n",
      "[1 2 3]\n",
      "(3,)\n",
      "\n",
      "[1 3]\n",
      "\n",
      "[3 2]\n",
      "[3 2 2 2 1]\n",
      "\n",
      "[1 0 0]\n",
      "[7 7 0]\n"
     ]
    }
   ],
   "source": [
    "# slicing vs masking vs integer array indexing\n",
    "x =  np.array([1,2,3])\n",
    "print(x[1:])\n",
    "print(x[1:][0])\n",
    "print(x)\n",
    "print(x.shape)\n",
    "\n",
    "print()\n",
    "print(x[[True, False, True]]) # boolean masking # True인 값만 지칭하겠다.\n",
    "\n",
    "print()\n",
    "print(x[[2,1]]) # integer array indexing # [2] [1] = 3 2\n",
    "# (2,1)이 출력하고 싶다면 x[2,1] # 물론 여기서는 불가능\n",
    "print(x[[2,1,1,1,0]]) # [2] [1] [1] [1] [0] = 3 2 2 2 1\n",
    "\n",
    "print()\n",
    "x[[2,1,1,1]] = 0 # 지정한 index의 원소 값 바꿔버림\n",
    "print(x)\n",
    "x[[1,0,0]] = 7\n",
    "print(x)"
   ]
  },
  {
   "cell_type": "code",
   "execution_count": 16,
   "metadata": {},
   "outputs": [
    {
     "name": "stdout",
     "output_type": "stream",
     "text": [
      "[[ 0  1  2  3  4  5  6]\n",
      " [ 7  8  9 10 11 12 13]\n",
      " [14 15 16 17 18 19 20]\n",
      " [21 22 23 24 25 26 27]\n",
      " [28 29 30 31 32 33 34]]\n",
      "\n",
      "[[False False False False False False False]\n",
      " [False False False False False False False]\n",
      " [False False False False False False False]\n",
      " [ True  True  True  True  True  True  True]\n",
      " [ True  True  True  True  True  True  True]]\n",
      "\n",
      "[21 22 23 24 25 26 27 28 29 30 31 32 33 34]\n",
      "\n",
      "[1000 1000 1000   24   25   26   27   28   29   30   31   32   33   34]\n",
      "[[ 0  1  2  3  4  5  6]\n",
      " [ 7  8  9 10 11 12 13]\n",
      " [14 15 16 17 18 19 20]\n",
      " [21 22 23 24 25 26 27]\n",
      " [28 29 30 31 32 33 34]]\n"
     ]
    }
   ],
   "source": [
    "y = np.arange(35).reshape(5,7)  # 0~34\n",
    "print(y)\n",
    "print()\n",
    "b = y > 20 # 이 순간 True와 False로 나뉘게 된다!\n",
    "print(b)\n",
    "#b = y <= 20\n",
    "#print()\n",
    "#print(b)\n",
    "\n",
    "print()\n",
    "t = y[b]  # b조건을 만족하는 원소들의 배열같다.... # 이건 copy다. indexing 아님\n",
    "# Filtering result is always ond-dimensional\n",
    "print(t)\n",
    "\n",
    "print()\n",
    "t[:3] = 1000 # copy본이라서 원본 안 바뀌고 자신만 바뀜\n",
    "print(t)\n",
    "print(y)"
   ]
  },
  {
   "cell_type": "code",
   "execution_count": 17,
   "metadata": {},
   "outputs": [
    {
     "data": {
      "text/plain": [
       "array([[ 0,  1,  2,  3,  4,  5,  6],\n",
       "       [ 7,  8,  9, 10, 11, 12, 13],\n",
       "       [14, 15, 16, 17, 18, 19, 20],\n",
       "       [21, 22, 23, 24, 25, 26, 27],\n",
       "       [28, 29, 30, 31, 32, 33, 34]])"
      ]
     },
     "execution_count": 17,
     "metadata": {},
     "output_type": "execute_result"
    }
   ],
   "source": [
    "M = np.arange(35).reshape(5,7)\n",
    "M"
   ]
  },
  {
   "cell_type": "code",
   "execution_count": 18,
   "metadata": {},
   "outputs": [
    {
     "data": {
      "text/plain": [
       "array([[ 0,  1,  0,  3,  0,  5,  0],\n",
       "       [ 7,  0,  9,  0, 11,  0, 13],\n",
       "       [ 0, 15,  0, 17,  0, 19,  0],\n",
       "       [21,  0, 23,  0, 25,  0, 27],\n",
       "       [ 0, 29,  0, 31,  0, 33,  0]])"
      ]
     },
     "execution_count": 18,
     "metadata": {},
     "output_type": "execute_result"
    }
   ],
   "source": [
    "M[M % 2 == 0] = 0 # index말고 \"자료\"가 짝수면 0으로 만들어버리기\n",
    "M"
   ]
  },
  {
   "cell_type": "code",
   "execution_count": 19,
   "metadata": {},
   "outputs": [
    {
     "data": {
      "text/plain": [
       "array([[ 0,  1,  0,  3,  0,  5,  0],\n",
       "       [ 7,  0,  9,  0, 11,  0, 13],\n",
       "       [ 0, 15,  0, 17,  0, 19,  0],\n",
       "       [21,  0, 23,  0, 25,  0, 27],\n",
       "       [ 0, 29,  0, 31,  0, 33,  0]])"
      ]
     },
     "execution_count": 19,
     "metadata": {},
     "output_type": "execute_result"
    }
   ],
   "source": [
    "M[M % 2 == 0] = -M[M % 2 == 0] # 뭔가...극적인걸 기대했겠지만! 이건 짝수가 다 0\n",
    "M"
   ]
  },
  {
   "cell_type": "code",
   "execution_count": 20,
   "metadata": {},
   "outputs": [
    {
     "data": {
      "text/plain": [
       "array([[  0,  -1,   0,  -3,   0,  -5,   0],\n",
       "       [ -7,   0,  -9,   0, -11,   0, -13],\n",
       "       [  0, -15,   0, -17,   0, -19,   0],\n",
       "       [-21,   0, -23,   0, -25,   0, -27],\n",
       "       [  0, -29,   0, -31,   0, -33,   0]])"
      ]
     },
     "execution_count": 20,
     "metadata": {},
     "output_type": "execute_result"
    }
   ],
   "source": [
    "M[M % 2 != 0] = -M[M % 2 != 0]\n",
    "M"
   ]
  },
  {
   "cell_type": "code",
   "execution_count": 21,
   "metadata": {},
   "outputs": [
    {
     "data": {
      "text/plain": [
       "array([[ 1,  1, -4,  5],\n",
       "       [-2,  1,  1,  5]])"
      ]
     },
     "execution_count": 21,
     "metadata": {},
     "output_type": "execute_result"
    }
   ],
   "source": [
    "N = np.array([[1, 1, 4, 5],[2,1,1,5]])\n",
    "N[N % 2 == 0] = -N[N % 2 == 0] # 값이 짝수인 원소만 부호바꿔줌\n",
    "N"
   ]
  },
  {
   "cell_type": "code",
   "execution_count": 22,
   "metadata": {},
   "outputs": [
    {
     "data": {
      "text/plain": [
       "array([[ 0,  1,  0,  3,  0,  5,  0],\n",
       "       [ 7,  0,  9,  0, 11,  0, 13],\n",
       "       [ 0, 15,  0, 17,  0, 19,  0],\n",
       "       [21,  0, 23,  0, 25,  0, 27],\n",
       "       [ 0, 29,  0, 31,  0, 33,  0]])"
      ]
     },
     "execution_count": 22,
     "metadata": {},
     "output_type": "execute_result"
    }
   ],
   "source": [
    "# First Boolean masking\n",
    "\n",
    "np.where(M % 2 == 0, M, -M) # (조건, 조건 만족하면 분리할 것, 가하는 타겟? 효과)"
   ]
  },
  {
   "cell_type": "code",
   "execution_count": 23,
   "metadata": {},
   "outputs": [
    {
     "name": "stdout",
     "output_type": "stream",
     "text": [
      "[[ 1  2  3]\n",
      " [ 4  5  6]\n",
      " [ 7  8  9]\n",
      " [10 11 12]]\n",
      "\n",
      "[[ 7  8  9]\n",
      " [ 4  5  6]\n",
      " [ 1  2  3]\n",
      " [10 11 12]]\n",
      "\n",
      "[ 1  3  4  8 12]\n"
     ]
    }
   ],
   "source": [
    "my2darr = np.arange(1,13,1).reshape(4,3) # 1~12\n",
    "print(my2darr)\n",
    "print()\n",
    "indices = [2,1,0,3]  # row 원하는 순서\n",
    "print(my2darr[indices,:]) # integer array indexing 놀이 그거랑 비슷한거 같다.\n",
    "print()\n",
    "rowIndex = [0,0,1,2,3] # row 원하는 순서\n",
    "columnIndex = [0,2,0,1,2] # column 원하는 순서\n",
    "print(my2darr[rowIndex,columnIndex]) # 원하는 순서에 해당하는 애들 출력"
   ]
  },
  {
   "cell_type": "markdown",
   "metadata": {},
   "source": [
    "## Numpy Arithmeic and Statistical Functions\n",
    "There are many built-in mathematical functions available for manipulating elements of nd-array."
   ]
  },
  {
   "cell_type": "code",
   "execution_count": 24,
   "metadata": {},
   "outputs": [
    {
     "name": "stdout",
     "output_type": "stream",
     "text": [
      "[-1.4  0.4 -3.2  2.5  3.4]\n",
      "\n",
      "[1.4 0.4 3.2 2.5 3.4]\n",
      "[1.18321596 0.63245553 1.78885438 1.58113883 1.84390889]\n",
      "[-1.  1. -1.  1.  1.]\n",
      "[ 0.24659696  1.4918247   0.0407622  12.18249396 29.96410005]\n",
      "[-3.2 -1.4  0.4  2.5  3.4]\n",
      "[-1.4  0.4 -3.2  2.5  3.4]\n"
     ]
    }
   ],
   "source": [
    "y = np.array([-1.4, 0.4, -3.2, 2.5, 3.4])\n",
    "print(y)\n",
    "print()\n",
    "\n",
    "print(np.abs(y))  # .abs = absolute. 절대값으로 바꿈\n",
    "print(np.sqrt(np.abs(y))) # .sqrt(.abs()) = 절대값으로 바꾼거의 제곱근 값\n",
    "print(np.sign(y)) # .sign = 음수인지(-1.) 0인지(0.) 양수인지(1.)\n",
    "print(np.exp(y)) # .exp =  e^y\n",
    "print(np.sort(y)) # .sort() = return sorted copy\n",
    "\n",
    "print(y)  # y는 변하지 않아"
   ]
  },
  {
   "cell_type": "code",
   "execution_count": 25,
   "metadata": {},
   "outputs": [
    {
     "name": "stdout",
     "output_type": "stream",
     "text": [
      "[-2 -1  0  1  2]\n",
      "[ 0.90445317 -0.02913316  0.75598608  2.00784477 -0.82303122]\n",
      "[-1.09554683 -1.02913316  0.75598608  3.00784477  1.17696878]\n",
      "[-2.90445317 -0.97086684 -0.75598608 -1.00784477  2.82303122]\n",
      "[-1.80890635  0.02913316  0.          2.00784477 -1.64606245]\n",
      "[-2.21128087 34.32514725  0.          0.49804647 -2.43004146]\n",
      "[ 0.90445317 -0.02913316  0.75598608  2.00784477  2.        ]\n"
     ]
    }
   ],
   "source": [
    "x = np.arange(-2,3)\n",
    "y = np.random.randn(5)\n",
    "print(x)\n",
    "print(y)\n",
    "\n",
    "print(np.add(x,y))  # x+y\n",
    "print(np.subtract(x,y)) # x-y\n",
    "print(np.multiply(x,y)) # x*y\n",
    "print(np.divide(x,y)) # x/y\n",
    "print(np.maximum(x,y)) # max(x,y)"
   ]
  },
  {
   "cell_type": "code",
   "execution_count": 26,
   "metadata": {},
   "outputs": [
    {
     "name": "stdout",
     "output_type": "stream",
     "text": [
      "[-3.2 -1.4  0.4  2.5  3.4]\n",
      "Min = -3.2\n",
      "Max = 3.4\n",
      "Average = 0.34000000000000014\n",
      "Std deviation = 2.432776191925595\n",
      "Sum = 1.7000000000000006\n"
     ]
    }
   ],
   "source": [
    "y = np.array([-3.2, -1.4, 0.4, 2.5, 3.4])\n",
    "print(y)\n",
    "\n",
    "print(\"Min =\", np.min(y)) # min\n",
    "print(\"Max =\", np.max(y)) # max\n",
    "print(\"Average =\", np.mean(y)) # maen(average)\n",
    "print(\"Std deviation =\", np.std(y)) # standard deviation 표준편차\n",
    "print(\"Sum =\", np.sum(y)) # sum"
   ]
  },
  {
   "cell_type": "markdown",
   "metadata": {},
   "source": [
    "\n",
    "### More on filtering"
   ]
  },
  {
   "cell_type": "code",
   "execution_count": 27,
   "metadata": {},
   "outputs": [
    {
     "name": "stdout",
     "output_type": "stream",
     "text": [
      "[[ 0  1  2  3  4]\n",
      " [ 5  6  7  8  9]\n",
      " [10 11 12 13 14]\n",
      " [15 16 17 18 19]\n",
      " [20 21 22 23 24]]\n",
      "[ 1  3  5  7  9 11 13 15 17 19 21 23]\n",
      "[[4 0]\n",
      " [4 1]\n",
      " [4 2]\n",
      " [4 3]\n",
      " [4 4]]\n",
      "[[ 0  1  0  3  0]\n",
      " [ 5  0  7  0  9]\n",
      " [ 0 11  0 13  0]\n",
      " [15  0 17  0 19]\n",
      " [ 0 21  0 23  0]]\n"
     ]
    }
   ],
   "source": [
    "M = np.arange(25).reshape(5,5)\n",
    "print(M)\n",
    "print(M[M % 2 == 1])\n",
    "print(np.argwhere(M >= 20)) # 조건을 만족시키는 인덱스를 반환\n",
    "print(np.where(M % 2 == 1, M, 0)) # 조건을 만족시키는 거 제외하고 다 0으로 바꿔버림"
   ]
  },
  {
   "cell_type": "markdown",
   "metadata": {},
   "source": [
    "### New axis\n",
    "- Used to increase the dimension of the existing array by one more dimension\n",
    "- shape change, for example: n x (newaxis) x m => n x 1 x m"
   ]
  },
  {
   "cell_type": "code",
   "execution_count": 6,
   "metadata": {},
   "outputs": [
    {
     "name": "stdout",
     "output_type": "stream",
     "text": [
      "(3,)\n",
      "(3, 1)\n",
      "(1, 3)\n",
      "(3, 1, 1)\n",
      "(1, 1, 3)\n"
     ]
    }
   ],
   "source": [
    "t = np.array([1,2,3])\n",
    "print(t.shape)\n",
    "x = t[:, np.newaxis]\n",
    "print(x.shape)\n",
    "y = t[np.newaxis, :]\n",
    "print(y.shape)\n",
    "z = x[:, np.newaxis]\n",
    "print(z.shape)\n",
    "w = y[np.newaxis, :]\n",
    "print(w.shape)"
   ]
  },
  {
   "cell_type": "code",
   "execution_count": 7,
   "metadata": {},
   "outputs": [
    {
     "name": "stdout",
     "output_type": "stream",
     "text": [
      "[1 2 3]\n",
      "[[1]\n",
      " [2]\n",
      " [3]]\n",
      "[[1 2 3]]\n",
      "[[[1]]\n",
      "\n",
      " [[2]]\n",
      "\n",
      " [[3]]]\n",
      "[[[1 2 3]]]\n",
      "[[[1 2 3]]]\n"
     ]
    }
   ],
   "source": [
    "print(t)\n",
    "print(x)\n",
    "print(y)\n",
    "print(z)\n",
    "print(w)\n",
    "print(y[:, np.newaxis])"
   ]
  },
  {
   "cell_type": "code",
   "execution_count": 8,
   "metadata": {},
   "outputs": [
    {
     "name": "stdout",
     "output_type": "stream",
     "text": [
      "[[[1]\n",
      "  [2]\n",
      "  [3]]]\n"
     ]
    }
   ],
   "source": [
    "t = np.array([1, 2, 3])\n",
    "print(t[np.newaxis, :, np.newaxis])"
   ]
  },
  {
   "cell_type": "code",
   "execution_count": 34,
   "metadata": {},
   "outputs": [
    {
     "data": {
      "text/plain": [
       "array([[2, 3, 4],\n",
       "       [3, 4, 5],\n",
       "       [4, 5, 6]])"
      ]
     },
     "execution_count": 34,
     "metadata": {},
     "output_type": "execute_result"
    }
   ],
   "source": [
    "x + y # 결과에 콤마가 있다. 리스트의 계산을 한 것처럼 되었다."
   ]
  },
  {
   "cell_type": "code",
   "execution_count": 36,
   "metadata": {},
   "outputs": [
    {
     "name": "stdout",
     "output_type": "stream",
     "text": [
      "(2, 3)\n",
      "\n",
      "(2, 3, 1)\n",
      "[[[1]\n",
      "  [2]\n",
      "  [3]]\n",
      "\n",
      " [[4]\n",
      "  [5]\n",
      "  [6]]]\n",
      "\n",
      "(1, 2, 3)\n",
      "[[[1 2 3]\n",
      "  [4 5 6]]]\n",
      "\n",
      "[[[1 2 3]]\n",
      "\n",
      " [[4 5 6]]]\n"
     ]
    }
   ],
   "source": [
    "t = np.array([[1,2,3],[4,5,6]])\n",
    "print(t.shape) # (2,3)\n",
    "print()\n",
    "print(t[:, :, np.newaxis].shape) # (2,3,1)\n",
    "print(t[:, :, np.newaxis])  # 원본이 변형되지는 않는 것 같다.\n",
    "print()\n",
    "\n",
    "print(t[np.newaxis, :, :].shape) #(1, 2, 3)\n",
    "print(t[np.newaxis, :, :])\n",
    "\n",
    "print()\n",
    "print(t[:, np.newaxis, :])"
   ]
  },
  {
   "cell_type": "markdown",
   "metadata": {},
   "source": [
    "### n-d array axis view\n",
    "\n",
    "# 1D array   2D array   3D array"
   ]
  },
  {
   "cell_type": "markdown",
   "metadata": {},
   "source": [
    "## Broadcasting\n",
    "Broadcasting describes how numpy treats arrays with different shapes during arithmetic operations. Subject to certain constraints, the smaller array is“broadcast” across the larger array so that they have compatible shapes.\n",
    "\n",
    "Examples:\n",
    "   \n",
    "    A      (2d array): 5 x 4\n",
    "    B      (1d array):     1\n",
    "    Result (2d array): 5 x 4\n",
    "\n",
    "    A      (2d array): 5 x 4\n",
    "    B      (1d array):     4\n",
    "    Result (2d array): 5 x 4\n",
    "    \n",
    "    A      (3d array): 15 x 3 x 5\n",
    "    B      (3d array): 15 x 1 x 5\n",
    "    Result (3d array): 15 x 3 x 5\n",
    "    \n",
    "    A      (3d array): 15 x 3 x 5\n",
    "    B      (2d array):      3 x 5\n",
    "    Result (3d array): 15 x 3 x 5\n",
    "    \n",
    "    A      (3d array): 15 x 3 x 5\n",
    "    B      (2d array):      3 x 1\n",
    "    Result (3d array): 15 x 3 x 5"
   ]
  },
  {
   "cell_type": "code",
   "execution_count": 37,
   "metadata": {},
   "outputs": [
    {
     "data": {
      "text/plain": [
       "array([[11, 12],\n",
       "       [13, 14]])"
      ]
     },
     "execution_count": 37,
     "metadata": {},
     "output_type": "execute_result"
    }
   ],
   "source": [
    "np.array([[1,2],[3,4]]) + np.array([[10]]) # (2, 2) + (1, 1)"
   ]
  },
  {
   "cell_type": "code",
   "execution_count": 39,
   "metadata": {},
   "outputs": [
    {
     "data": {
      "text/plain": [
       "array([[ 11, 102],\n",
       "       [ 13, 104]])"
      ]
     },
     "execution_count": 39,
     "metadata": {},
     "output_type": "execute_result"
    }
   ],
   "source": [
    "np.array([[1,2],[3,4]]) + np.array([[10,100]]) # (2, 2) + (1, 2)"
   ]
  },
  {
   "cell_type": "code",
   "execution_count": 40,
   "metadata": {},
   "outputs": [
    {
     "data": {
      "text/plain": [
       "array([[ 11,  12],\n",
       "       [103, 104]])"
      ]
     },
     "execution_count": 40,
     "metadata": {},
     "output_type": "execute_result"
    }
   ],
   "source": [
    "np.array([[1,2],[3,4]]) + np.array([[10],[100]]) # (2, 2) + (2, 1)"
   ]
  },
  {
   "cell_type": "code",
   "execution_count": 41,
   "metadata": {},
   "outputs": [
    {
     "name": "stdout",
     "output_type": "stream",
     "text": [
      "(1, 2) (2, 1)\n"
     ]
    },
    {
     "data": {
      "text/plain": [
       "array([[ 11,  12],\n",
       "       [101, 102]])"
      ]
     },
     "execution_count": 41,
     "metadata": {},
     "output_type": "execute_result"
    }
   ],
   "source": [
    "A = np.array([[1,2]])\n",
    "B = np.array([[10],[100]])\n",
    "print(A.shape, B.shape)\n",
    "C = A + B\n",
    "C"
   ]
  },
  {
   "cell_type": "code",
   "execution_count": 43,
   "metadata": {},
   "outputs": [
    {
     "data": {
      "text/plain": [
       "array([[1, 1, 1, 1, 1, 1, 1, 1, 1, 1],\n",
       "       [1, 1, 1, 1, 1, 1, 1, 1, 1, 1],\n",
       "       [1, 1, 1, 1, 1, 1, 1, 1, 1, 1]])"
      ]
     },
     "execution_count": 43,
     "metadata": {},
     "output_type": "execute_result"
    }
   ],
   "source": [
    "X = np.array([[1]]*3) + np.array([[0]*10]) # (3, 1) + (1, 10)\n",
    "# 바깥쪽에 곱할 수록...작은 축이랄까\n",
    "# broadcasting을 통해서 행렬의 자료양?길이?를  필요한만큼 늘릴 수 있을 것 같다.\n",
    "X"
   ]
  },
  {
   "cell_type": "code",
   "execution_count": 44,
   "metadata": {},
   "outputs": [
    {
     "data": {
      "text/plain": [
       "array([[2, 3, 4],\n",
       "       [3, 4, 5],\n",
       "       [4, 5, 6]])"
      ]
     },
     "execution_count": 44,
     "metadata": {},
     "output_type": "execute_result"
    }
   ],
   "source": [
    "a = np.array([[1],[2],[3]]) # (3, 1)\n",
    "b = a.T # 전치행렬 (a, b) -> (b, a) # [i, j] -> [j, i]\n",
    "a + b"
   ]
  },
  {
   "cell_type": "markdown",
   "metadata": {},
   "source": [
    "### Meshgrid\n",
    "Make D x N mesh grid for vectorized evaluations"
   ]
  },
  {
   "cell_type": "code",
   "execution_count": 46,
   "metadata": {},
   "outputs": [
    {
     "name": "stdout",
     "output_type": "stream",
     "text": [
      "[[15 25 35]\n",
      " [16 26 36]]\n",
      "[[15 16]\n",
      " [25 26]\n",
      " [35 36]]\n"
     ]
    }
   ],
   "source": [
    "v = np.array([10,20,30]) # N # (, 3)\n",
    "w = np.array([5,6]) # D # (, 2)\n",
    "X, Y = np.meshgrid(v, w) # (가로, 세로)의 직사각형 격자랄까. 아마 배열.\n",
    "Z, W = np.meshgrid(w, v)\n",
    "print(X + Y)\n",
    "print(Z + W)"
   ]
  },
  {
   "cell_type": "markdown",
   "metadata": {},
   "source": [
    "### Axis ordering\n",
    "   - By definition, the axis number of the dimension is the index of that dimension within the array's shape. It is also the position used to access that dimension during indexing.\n",
    "\n",
    "   - For example, if a 2D array a has shape (5,6), then you can access a[0,0] up to a[4,5]. Axis 0 is thus the first dimension (the \"rows\"), and axis 1 is the second dimension (the \"columns\"). In higher dimensions, where \"row\" and \"column\" stop really making sense, try to think of the axes in terms of the shapes and indices involved.\n",
    "\n",
    "   - If you do np.sum(axis=n), for example, then dimension n is collapsed and deleted, with each value in the new matrix equal to the sum of the corresponding collapsed values. For example, if b has shape (5,6,7,8), and you do c = b.sum(axis=2), then axis 2 (dimension with size 7) is collapsed, and the result has shape (5,6,8). Furthermore, c[x,y,z] is equal to the sum of all elements b[x,y,:,z].\n"
   ]
  },
  {
   "cell_type": "code",
   "execution_count": 47,
   "metadata": {},
   "outputs": [
    {
     "data": {
      "text/plain": [
       "(2, 3)"
      ]
     },
     "execution_count": 47,
     "metadata": {},
     "output_type": "execute_result"
    }
   ],
   "source": [
    "X = np.array([[0,0,0],[1,1,1]])\n",
    "X.shape # (2,3) (axis0, axis1)"
   ]
  },
  {
   "cell_type": "code",
   "execution_count": 48,
   "metadata": {},
   "outputs": [
    {
     "data": {
      "text/plain": [
       "array([1, 1, 1])"
      ]
     },
     "execution_count": 48,
     "metadata": {},
     "output_type": "execute_result"
    }
   ],
   "source": [
    "X.sum(axis=0) # axis0 방향으로 sum # [1,1,1]\n",
    "# shape도 바뀌고 더이상 행렬이 아닌듯. 값의 배열"
   ]
  },
  {
   "cell_type": "code",
   "execution_count": 49,
   "metadata": {},
   "outputs": [
    {
     "data": {
      "text/plain": [
       "array([0, 3])"
      ]
     },
     "execution_count": 49,
     "metadata": {},
     "output_type": "execute_result"
    }
   ],
   "source": [
    "X.sum(axis=1) # axis1 방향으로 sum # [0, 3]"
   ]
  },
  {
   "cell_type": "code",
   "execution_count": 50,
   "metadata": {},
   "outputs": [
    {
     "data": {
      "text/plain": [
       "array([[[ 1,  2,  3,  4],\n",
       "        [ 5,  6,  7,  8],\n",
       "        [ 9, 10, 11, 12]],\n",
       "\n",
       "       [[13, 14, 15, 16],\n",
       "        [17, 18, 19, 20],\n",
       "        [21, 22, 23, 24]]])"
      ]
     },
     "execution_count": 50,
     "metadata": {},
     "output_type": "execute_result"
    }
   ],
   "source": [
    "X = np.array(range(1,24+1)).reshape(2,3,4) # (1~24) (2, 3, 4)\n",
    "\"\"\"\n",
    "[[[ 1  2  3  4]\n",
    "  [ 5  6  7  8]\n",
    "  [ 9 10 11 12]]\n",
    "  \n",
    " [[13 14 15 16]\n",
    "  [17 18 19 20]\n",
    "  [21 22 23 24]]]\n",
    "\"\"\"\n",
    "X"
   ]
  },
  {
   "cell_type": "code",
   "execution_count": 51,
   "metadata": {},
   "outputs": [
    {
     "data": {
      "text/plain": [
       "(2, 3, 4)"
      ]
     },
     "execution_count": 51,
     "metadata": {},
     "output_type": "execute_result"
    }
   ],
   "source": [
    "X.shape"
   ]
  },
  {
   "cell_type": "code",
   "execution_count": 52,
   "metadata": {},
   "outputs": [
    {
     "data": {
      "text/plain": [
       "array([[14, 16, 18, 20],\n",
       "       [22, 24, 26, 28],\n",
       "       [30, 32, 34, 36]])"
      ]
     },
     "execution_count": 52,
     "metadata": {},
     "output_type": "execute_result"
    }
   ],
   "source": [
    "X.sum(axis=0) # 3 x 4 배열"
   ]
  },
  {
   "cell_type": "code",
   "execution_count": 53,
   "metadata": {},
   "outputs": [
    {
     "data": {
      "text/plain": [
       "array([[15, 18, 21, 24],\n",
       "       [51, 54, 57, 60]])"
      ]
     },
     "execution_count": 53,
     "metadata": {},
     "output_type": "execute_result"
    }
   ],
   "source": [
    "X.sum(axis=1) # 2 x 4"
   ]
  },
  {
   "cell_type": "code",
   "execution_count": 55,
   "metadata": {},
   "outputs": [
    {
     "data": {
      "text/plain": [
       "array([[10, 26, 42],\n",
       "       [58, 74, 90]])"
      ]
     },
     "execution_count": 55,
     "metadata": {},
     "output_type": "execute_result"
    }
   ],
   "source": [
    "X.sum(axis=2) # 2 x 3"
   ]
  },
  {
   "cell_type": "code",
   "execution_count": 56,
   "metadata": {},
   "outputs": [
    {
     "data": {
      "text/plain": [
       "array([ 78, 222])"
      ]
     },
     "execution_count": 56,
     "metadata": {},
     "output_type": "execute_result"
    }
   ],
   "source": [
    "X.sum(axis=(1,2)) # 2"
   ]
  },
  {
   "cell_type": "code",
   "execution_count": 57,
   "metadata": {},
   "outputs": [
    {
     "data": {
      "text/plain": [
       "300"
      ]
     },
     "execution_count": 57,
     "metadata": {},
     "output_type": "execute_result"
    }
   ],
   "source": [
    "X.sum(axis=(0,1,2)) # sum ALL"
   ]
  },
  {
   "cell_type": "code",
   "execution_count": 58,
   "metadata": {},
   "outputs": [
    {
     "data": {
      "text/plain": [
       "1.7320508075688772"
      ]
     },
     "execution_count": 58,
     "metadata": {},
     "output_type": "execute_result"
    }
   ],
   "source": [
    "X = np.array([0,0,0])\n",
    "Y = np.array([1,1,1])\n",
    "\n",
    "np.sqrt(np.sum((X - Y)**2)) # 3차원 공간 두 점 사이의 거리"
   ]
  },
  {
   "cell_type": "code",
   "execution_count": 61,
   "metadata": {},
   "outputs": [
    {
     "name": "stdout",
     "output_type": "stream",
     "text": [
      "[[6 5 4]\n",
      " [3 2 1]]\n",
      "\n",
      "axis=0\n",
      " [[3 2 1]\n",
      " [6 5 4]]\n",
      "\n",
      "axis=1\n",
      " [[4 5 6]\n",
      " [1 2 3]]\n",
      "\n",
      "default is -1\n",
      " [[4 5 6]\n",
      " [1 2 3]]\n",
      "\n",
      "axis=0,1\n",
      " [[1 2 3]\n",
      " [4 5 6]]\n",
      "\n",
      "axis=None\n",
      " [1 2 3 4 5 6]\n"
     ]
    }
   ],
   "source": [
    "import numpy as np\n",
    "X = np.array(np.arange(2*3, 0, -1).reshape(2,3)) # 6,5,4,3,2,1 # (2,3)\n",
    "print(X)\n",
    "print()\n",
    "print(\"axis=0\\n\", np.sort(X, axis=0))\n",
    "print()\n",
    "print(\"axis=1\\n\", np.sort(X, axis=1))\n",
    "print()\n",
    "print(\"default is -1\\n\", np.sort(X)) # -1번째 축은 마지막 축을 의미\n",
    "print()\n",
    "print(\"axis=0,1\\n\", np.sort(np.sort(X, axis=0), axis=1))\n",
    "# 전체 sort # axis=(0,1)같은 표현은 여기서는 안되는 것 같다.\n",
    "print()\n",
    "print(\"axis=None\\n\", np.sort(X, axis=None)) # 축이 없는 상황처럼?? sort?"
   ]
  },
  {
   "cell_type": "markdown",
   "metadata": {},
   "source": [
    "#### sort vs argsort vs partition vs argpartition\n",
    "   - argmin, argmax, ..."
   ]
  },
  {
   "cell_type": "code",
   "execution_count": 9,
   "metadata": {},
   "outputs": [
    {
     "name": "stdout",
     "output_type": "stream",
     "text": [
      "X =\n",
      " [  4  10   1  20  45 100   2   1]\n",
      "sorted =\n",
      " [  1   1   2   4  10  20  45 100]\n",
      "argsorted =\n",
      " [2 7 6 0 1 3 4 5]\n",
      "partitioned first 3 =\n",
      " [  2   1   1   4  45 100  10  20]\n",
      "argpartitioned first 3 =\n",
      " [6 7 2 0 4 5 1 3]\n",
      "20\n",
      "4\n",
      "\n",
      "45\n",
      "[  2   1   1   4  10  20  45 100]\n",
      "10\n",
      "\n",
      "[  2   1   1   4  10  20  45 100]\n",
      "20\n",
      "\n",
      "[  2   1   1   4  10  20  45 100]\n",
      "45\n",
      "\n",
      "\n",
      "[  1  10   4  20  45 100   2   1]\n",
      "1\n",
      "\n",
      "[  1   1   4  20  45 100   2  10]\n",
      "1\n",
      "\n",
      "[  1   1   2  20  45 100   4  10]\n",
      "2\n",
      "\n",
      "[  2   1   1   4  45 100  10  20]\n",
      "4\n",
      "\n",
      "partitioned last 3=\n",
      " [  2   1   1   4  10  20  45 100]\n",
      "argpartitioned last 3=\n",
      " [6 7 2 0 1 3 4 5]\n"
     ]
    }
   ],
   "source": [
    "X = np.array([4,10,1,20,45,100,2,1])\n",
    "print('X =\\n', X)\n",
    "print('sorted =\\n', np.sort(X))\n",
    "print('argsorted =\\n', np.argsort(X)) # sort됐을때의 index랄까\n",
    "\n",
    "# partition : 순서가 상관이 없음. 대소관계. (unstable? 할수도....)\n",
    "# k번째보다 작은것 / k번째 / k번째와 같거나 k번째보다 큰것\n",
    "# k번째가 index인가 진짜 순서인가 => 진짜 순서다! // ?? 아닐 수도\n",
    "# 정확한 동작 순서는 아직 잘 모름.\n",
    "print('partitioned first 3 =\\n', np.partition(X, 3))\n",
    "print('argpartitioned first 3 =\\n', np.argpartition(X, 3)) # index\n",
    "print(X[3])\n",
    "print(np.partition(X,3)[3])\n",
    "print()\n",
    "print(X[4])\n",
    "print(np.partition(X,4))\n",
    "print(np.partition(X,4)[4])\n",
    "print()\n",
    "print(np.partition(X,5))\n",
    "print(np.partition(X,5)[5])\n",
    "print()\n",
    "print(np.partition(X,6))\n",
    "print(np.partition(X,6)[6])\n",
    "print()\n",
    "print()\n",
    "print(np.partition(X,0))\n",
    "print(np.partition(X,0)[0])\n",
    "print()\n",
    "print(np.partition(X,1))\n",
    "print(np.partition(X,1)[1])\n",
    "print()\n",
    "print(np.partition(X,2))\n",
    "print(np.partition(X,2)[2])\n",
    "print()\n",
    "print(np.partition(X,3))\n",
    "print(np.partition(X,3)[3])\n",
    "print()\n",
    "\n",
    "print('partitioned last 3=\\n', np.partition(X, -3))\n",
    "print('argpartitioned last 3=\\n', np.argpartition(X, -3))"
   ]
  },
  {
   "cell_type": "code",
   "execution_count": 66,
   "metadata": {},
   "outputs": [
    {
     "ename": "AxisError",
     "evalue": "axis 1 is out of bounds for array of dimension 1",
     "output_type": "error",
     "traceback": [
      "\u001b[1;31m---------------------------------------------------------------------------\u001b[0m",
      "\u001b[1;31mAxisError\u001b[0m                                 Traceback (most recent call last)",
      "\u001b[1;32m<ipython-input-66-f84c6c1c8b7b>\u001b[0m in \u001b[0;36m<module>\u001b[1;34m\u001b[0m\n\u001b[0;32m      2\u001b[0m \u001b[1;31m# 표현이 좀 특이함\u001b[0m\u001b[1;33m\u001b[0m\u001b[1;33m\u001b[0m\u001b[1;33m\u001b[0m\u001b[0m\n\u001b[0;32m      3\u001b[0m \u001b[0mT\u001b[0m \u001b[1;33m=\u001b[0m \u001b[0mnp\u001b[0m\u001b[1;33m.\u001b[0m\u001b[0marray\u001b[0m\u001b[1;33m(\u001b[0m\u001b[1;33m[\u001b[0m\u001b[1;33m[\u001b[0m\u001b[1;36m2.2\u001b[0m\u001b[1;33m]\u001b[0m\u001b[1;33m,\u001b[0m\u001b[1;33m[\u001b[0m\u001b[1;33m-\u001b[0m\u001b[1;36m1\u001b[0m\u001b[1;33m,\u001b[0m\u001b[1;36m10\u001b[0m\u001b[1;33m]\u001b[0m\u001b[1;33m,\u001b[0m\u001b[1;33m[\u001b[0m\u001b[1;36m0\u001b[0m\u001b[1;33m,\u001b[0m\u001b[1;36m1\u001b[0m\u001b[1;33m]\u001b[0m\u001b[1;33m]\u001b[0m\u001b[1;33m)\u001b[0m \u001b[1;31m# (3,2)\u001b[0m\u001b[1;33m\u001b[0m\u001b[1;33m\u001b[0m\u001b[0m\n\u001b[1;32m----> 4\u001b[1;33m \u001b[0mI\u001b[0m \u001b[1;33m=\u001b[0m \u001b[0mnp\u001b[0m\u001b[1;33m.\u001b[0m\u001b[0margsort\u001b[0m\u001b[1;33m(\u001b[0m\u001b[0mnp\u001b[0m\u001b[1;33m.\u001b[0m\u001b[0msum\u001b[0m\u001b[1;33m(\u001b[0m\u001b[0mT\u001b[0m\u001b[1;33m,\u001b[0m \u001b[0maxis\u001b[0m\u001b[1;33m=\u001b[0m\u001b[1;36m1\u001b[0m\u001b[1;33m)\u001b[0m\u001b[1;33m)\u001b[0m\u001b[1;33m\u001b[0m\u001b[1;33m\u001b[0m\u001b[0m\n\u001b[0m\u001b[0;32m      5\u001b[0m \u001b[1;31m# array([4, 9, 1])인데, 이걸로 numpy화\u001b[0m\u001b[1;33m\u001b[0m\u001b[1;33m\u001b[0m\u001b[1;33m\u001b[0m\u001b[0m\n\u001b[0;32m      6\u001b[0m \u001b[1;31m# [4 9 1]을 sort했을 때의 index numpy가 I = [2 0 1]\u001b[0m\u001b[1;33m\u001b[0m\u001b[1;33m\u001b[0m\u001b[1;33m\u001b[0m\u001b[0m\n",
      "\u001b[1;32m<__array_function__ internals>\u001b[0m in \u001b[0;36msum\u001b[1;34m(*args, **kwargs)\u001b[0m\n",
      "\u001b[1;32m~\\Anaconda2020\\lib\\site-packages\\numpy\\core\\fromnumeric.py\u001b[0m in \u001b[0;36msum\u001b[1;34m(a, axis, dtype, out, keepdims, initial, where)\u001b[0m\n\u001b[0;32m   2227\u001b[0m \u001b[1;33m\u001b[0m\u001b[0m\n\u001b[0;32m   2228\u001b[0m     return _wrapreduction(a, np.add, 'sum', axis, dtype, out, keepdims=keepdims,\n\u001b[1;32m-> 2229\u001b[1;33m                           initial=initial, where=where)\n\u001b[0m\u001b[0;32m   2230\u001b[0m \u001b[1;33m\u001b[0m\u001b[0m\n\u001b[0;32m   2231\u001b[0m \u001b[1;33m\u001b[0m\u001b[0m\n",
      "\u001b[1;32m~\\Anaconda2020\\lib\\site-packages\\numpy\\core\\fromnumeric.py\u001b[0m in \u001b[0;36m_wrapreduction\u001b[1;34m(obj, ufunc, method, axis, dtype, out, **kwargs)\u001b[0m\n\u001b[0;32m     88\u001b[0m                 \u001b[1;32mreturn\u001b[0m \u001b[0mreduction\u001b[0m\u001b[1;33m(\u001b[0m\u001b[0maxis\u001b[0m\u001b[1;33m=\u001b[0m\u001b[0maxis\u001b[0m\u001b[1;33m,\u001b[0m \u001b[0mout\u001b[0m\u001b[1;33m=\u001b[0m\u001b[0mout\u001b[0m\u001b[1;33m,\u001b[0m \u001b[1;33m**\u001b[0m\u001b[0mpasskwargs\u001b[0m\u001b[1;33m)\u001b[0m\u001b[1;33m\u001b[0m\u001b[1;33m\u001b[0m\u001b[0m\n\u001b[0;32m     89\u001b[0m \u001b[1;33m\u001b[0m\u001b[0m\n\u001b[1;32m---> 90\u001b[1;33m     \u001b[1;32mreturn\u001b[0m \u001b[0mufunc\u001b[0m\u001b[1;33m.\u001b[0m\u001b[0mreduce\u001b[0m\u001b[1;33m(\u001b[0m\u001b[0mobj\u001b[0m\u001b[1;33m,\u001b[0m \u001b[0maxis\u001b[0m\u001b[1;33m,\u001b[0m \u001b[0mdtype\u001b[0m\u001b[1;33m,\u001b[0m \u001b[0mout\u001b[0m\u001b[1;33m,\u001b[0m \u001b[1;33m**\u001b[0m\u001b[0mpasskwargs\u001b[0m\u001b[1;33m)\u001b[0m\u001b[1;33m\u001b[0m\u001b[1;33m\u001b[0m\u001b[0m\n\u001b[0m\u001b[0;32m     91\u001b[0m \u001b[1;33m\u001b[0m\u001b[0m\n\u001b[0;32m     92\u001b[0m \u001b[1;33m\u001b[0m\u001b[0m\n",
      "\u001b[1;31mAxisError\u001b[0m: axis 1 is out of bounds for array of dimension 1"
     ]
    }
   ],
   "source": [
    "# numpy에서 원하는 (행/열)순서로 배열 뽑기\n",
    "# 표현이 좀 특이함\n",
    "T = np.array([[2.2],[-1,10],[0,1]]) # (3,2)\n",
    "I = np.argsort(np.sum(T, axis=1))  # 왜 오류나지\n",
    "# array([4, 9, 1])인데, 이걸로 numpy화\n",
    "# [4 9 1]을 sort했을 때의 index numpy가 I = [2 0 1]\n",
    "\n",
    "T[I,:]\n",
    "# I의 원소 넘버 순서?대로 T의 행(row)을 나열?한달까. ':'이라서 열(column)은 그대로"
   ]
  },
  {
   "cell_type": "markdown",
   "metadata": {},
   "source": [
    "### Vectorized function\n",
    "\n",
    "- similar to map function"
   ]
  },
  {
   "cell_type": "code",
   "execution_count": 3,
   "metadata": {},
   "outputs": [
    {
     "data": {
      "text/plain": [
       "array([100,   3,   3,   4])"
      ]
     },
     "execution_count": 3,
     "metadata": {},
     "output_type": "execute_result"
    }
   ],
   "source": [
    "u = np.array([100, 2, 3, 4])\n",
    "v = np.array([1, 2, 3, 4])\n",
    "w = np.array([4,3,2,1])\n",
    "np.vectorize(max)(u, v, w) # 100, 1, 4 중 max # 2, 2, 3 중 max #.... #....그래서 4개"
   ]
  },
  {
   "cell_type": "code",
   "execution_count": 4,
   "metadata": {},
   "outputs": [
    {
     "data": {
      "text/plain": [
       "array([4.12310563, 3.60555128, 3.60555128, 4.12310563])"
      ]
     },
     "execution_count": 4,
     "metadata": {},
     "output_type": "execute_result"
    }
   ],
   "source": [
    "dist = np.vectorize(lambda x, y: np.sqrt(x**2 + y**2))\n",
    "dist(v, w)"
   ]
  },
  {
   "cell_type": "markdown",
   "metadata": {},
   "source": [
    "### Numpy Linear algebra\n",
    "Numpy provides many functions to support linear algebra operations."
   ]
  },
  {
   "cell_type": "code",
   "execution_count": 5,
   "metadata": {},
   "outputs": [
    {
     "name": "stdout",
     "output_type": "stream",
     "text": [
      "[[ 0.3202549   0.91373282 -1.80760306]\n",
      " [ 0.96395464  0.48605335 -1.01538412]]\n",
      "[[ 0.3202549   0.96395464]\n",
      " [ 0.91373282  0.48605335]\n",
      " [-1.80760306 -1.01538412]]\n",
      "\n",
      "[-0.14069893 -1.31817131  0.00904682]\n",
      "\n",
      "[-1.26586898 -0.78551497]\n",
      "\n",
      "[-1.26586898 -0.78551497]\n",
      "\n",
      "[[4.20489968 2.58824552]\n",
      " [2.58824552 2.1964613 ]]\n",
      "\n",
      "[[ 1.03177175  0.76116079 -1.55767797]\n",
      " [ 0.76116079  1.07115552 -2.14519709]\n",
      " [-1.55767797 -2.14519709  4.29843371]]\n"
     ]
    }
   ],
   "source": [
    "X = np.random.randn(2,3)\n",
    "print(X)\n",
    "print(X.T)\n",
    "print()\n",
    "y = np.random.randn(3)\n",
    "print(y) # 이거 dimention = 1이라서  y*y하면 걍 스칼라 값 나옴. 내적.\n",
    "print()\n",
    "print(X.dot(y)) # dot product (내적) # X * y # 교수님은 이 표현이 더 좋다고 하심.\n",
    "print()\n",
    "print(np.dot(X,y)) # 이렇게도 표현가능\n",
    "print()\n",
    "print(X.dot(X.T)) # X * X^T\n",
    "print()\n",
    "print(X.T.dot(X)) # X^T * X"
   ]
  },
  {
   "cell_type": "code",
   "execution_count": 6,
   "metadata": {},
   "outputs": [
    {
     "name": "stdout",
     "output_type": "stream",
     "text": [
      "[[-0.62052898 -1.20518248 -1.13066841]\n",
      " [-1.02462283 -0.21994259  0.38561205]\n",
      " [-0.72242454 -0.44047425  0.65140395]\n",
      " [ 0.45428264  1.76028533 -0.82650193]\n",
      " [-0.23350046 -0.10169276 -1.02217782]]\n",
      "[[ 0.78066515 -0.34133586  0.03128907]\n",
      " [-0.34133586  0.35899415  0.00741548]\n",
      " [ 0.03128907  0.00741548  0.28275328]]\n",
      "21.859650535677456\n",
      "[1.02896867 6.07483368 3.4970889 ]\n",
      "[[-0.87329428  0.48362066  0.05889113]\n",
      " [ 0.48597546  0.85618328  0.17543673]\n",
      " [-0.03442323 -0.18182754  0.98272773]]\n"
     ]
    }
   ],
   "source": [
    "X = np.random.randn(5,3)\n",
    "print(X)\n",
    "\n",
    "C = X.T.dot(X)\n",
    "\n",
    "invC = np.linalg.inv(C) # inverse # 역행렬\n",
    "print(invC)\n",
    "detC = np.linalg.det(C) # determinant # 행렬식 구하는거\n",
    "print(detC)\n",
    "S, U = np.linalg.eig(C) # eigenvector # 고유벡터 # 1st,2nd = eigenvalue,eigenvector\n",
    "print(S)\n",
    "print(U)"
   ]
  },
  {
   "cell_type": "markdown",
   "metadata": {},
   "source": [
    "### The Frobenius norm"
   ]
  },
  {
   "cell_type": "code",
   "execution_count": null,
   "metadata": {},
   "outputs": [],
   "source": [
    "X = np.array([1,2])\n",
    "print(np.linalg.norm(X))\n",
    "print(np.linalg.norm(X, ord=1))\n",
    "print(np.linalg.norm(X, ord=np.inf))\n",
    "print(np.linalg.norm(X, ord=-np.inf))"
   ]
  },
  {
   "cell_type": "code",
   "execution_count": null,
   "metadata": {},
   "outputs": [],
   "source": [
    "import math\n",
    "x = np.array([1,0])\n",
    "y = np.array([0,1])\n",
    "print(\"cosine =\", x.dot(y) / (math.sqrt((x.dot(x))) * math.sqrt((y.dot(y)))))\n",
    "print(\"cosine =\", x.dot(y) / (np.linalg.norm(x) * np.linalg.norm(y)))"
   ]
  },
  {
   "cell_type": "markdown",
   "metadata": {},
   "source": [
    "### Lab: distance matrix"
   ]
  },
  {
   "cell_type": "markdown",
   "metadata": {},
   "source": [
    "In case of 1-d points"
   ]
  },
  {
   "cell_type": "code",
   "execution_count": null,
   "metadata": {},
   "outputs": [],
   "source": [
    "pts = np.array([1.,2,3,4,5])\n",
    "u = pts[:, np.newaxis]\n",
    "v = pts.T[np.newaxis, :]\n",
    "np.abs(u - v)"
   ]
  },
  {
   "cell_type": "markdown",
   "metadata": {},
   "source": [
    "In case of n-d points"
   ]
  },
  {
   "cell_type": "code",
   "execution_count": null,
   "metadata": {},
   "outputs": [],
   "source": [
    "pts = np.array([[1.0], [1,1], [0,1]])\n",
    "print(pts.shape)\n",
    "u = pts[:, :, np.newaxis]\n",
    "v = pts.T[np.newaxis, :, :]"
   ]
  },
  {
   "cell_type": "code",
   "execution_count": null,
   "metadata": {},
   "outputs": [],
   "source": [
    "print(v.shape)\n",
    "print(u.shape)"
   ]
  },
  {
   "cell_type": "code",
   "execution_count": null,
   "metadata": {},
   "outputs": [],
   "source": [
    "np.sqrt(np.sum((u - v)**2, axis=1))"
   ]
  },
  {
   "cell_type": "code",
   "execution_count": null,
   "metadata": {},
   "outputs": [],
   "source": [
    "np.linalg.norm(u - v, axis=1)"
   ]
  },
  {
   "cell_type": "markdown",
   "metadata": {},
   "source": [
    "- In your real application, use sklearn.metrics.pairwise to compute pairwise distances"
   ]
  },
  {
   "cell_type": "code",
   "execution_count": null,
   "metadata": {},
   "outputs": [],
   "source": [
    "from sklearn.metrics.pairwise import euclidean_distances, manhattan_distances, cosin_similarity\n",
    "\n",
    "print(euclidean_distances(pts))\n",
    "print(manhattan_distances(pts))\n",
    "print(cosine_similarity(pts))"
   ]
  },
  {
   "cell_type": "markdown",
   "metadata": {},
   "source": [
    "- If you define your own distance"
   ]
  },
  {
   "cell_type": "code",
   "execution_count": null,
   "metadata": {},
   "outputs": [],
   "source": [
    "from sklearn.metrics.pairwise import pairwise_distances\n",
    "\n",
    "inf_dist = lambda x, y : np.max(np.abs(x - y))\n",
    "print(pairwise_distances(pts, metric=inf_dist))"
   ]
  }
 ],
 "metadata": {
  "kernelspec": {
   "display_name": "Python 3",
   "language": "python",
   "name": "python3"
  },
  "language_info": {
   "codemirror_mode": {
    "name": "ipython",
    "version": 3
   },
   "file_extension": ".py",
   "mimetype": "text/x-python",
   "name": "python",
   "nbconvert_exporter": "python",
   "pygments_lexer": "ipython3",
   "version": "3.7.6"
  }
 },
 "nbformat": 4,
 "nbformat_minor": 4
}
