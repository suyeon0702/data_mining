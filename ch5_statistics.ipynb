{
 "cells": [
  {
   "cell_type": "markdown",
   "metadata": {},
   "source": [
    "# 5. Statistics\n",
    " - Statistics refers to the mathematics and techniques with which we understand data.\n",
    " - It is a rich, enormous field, more suited to a shelf(or room) in a library rather than a chapter in a book"
   ]
  },
  {
   "cell_type": "markdown",
   "metadata": {},
   "source": [
    "### Describing a Single Set of Data\n",
    " - VP of Fundraising asks you for some sort of description of how many friends your members have."
   ]
  },
  {
   "cell_type": "code",
   "execution_count": 1,
   "metadata": {},
   "outputs": [],
   "source": [
    "from collections import Counter\n",
    "from linear_algebra import sum_of_squares, dot\n",
    "import math\n",
    "from operator import add"
   ]
  },
  {
   "cell_type": "code",
   "execution_count": 6,
   "metadata": {},
   "outputs": [],
   "source": [
    "num_friends = [100,49,41,40,25,21,21,19,19,18,18,16,15,15,15,15,14,14,13,13,13,13,12,12,\n",
    "               11,11,11,11,11,11,11,11,11,11,11,11,11,11,11,11,11,\n",
    "               10,10,10,10,10,10,10,10,10,10,10,10,10,10,10,10,10,10,10,10,10,10,\n",
    "               1,1,1,1,1,1,1,1,1,1,1,1,1,1,1,1,1,1,1,1,1,1,1]"
   ]
  },
  {
   "cell_type": "code",
   "execution_count": 8,
   "metadata": {},
   "outputs": [],
   "source": [
    "def make_friend_counts_histogram(plt):\n",
    "    friend_counts = Counter(num_friends)\n",
    "    print(friend_counts)\n",
    "    xs = range(101)\n",
    "    ys = [friend_counts[x] for x in xs]\n",
    "    print(ys)\n",
    "    plt.bar(xs, ys)\n",
    "    plt.axis([0,101,0,25])\n",
    "    plt.title(\"Histogram of Friend Counts\")\n",
    "    plt.xlabel(\"# of friends\")\n",
    "    plt.ylabel(\"# of people\")\n",
    "    plt.show()"
   ]
  },
  {
   "cell_type": "code",
   "execution_count": 9,
   "metadata": {},
   "outputs": [
    {
     "name": "stdout",
     "output_type": "stream",
     "text": [
      "Counter({1: 23, 10: 22, 11: 17, 15: 4, 13: 4, 21: 2, 19: 2, 18: 2, 14: 2, 12: 2, 100: 1, 49: 1, 41: 1, 40: 1, 25: 1, 16: 1})\n",
      "[0, 23, 0, 0, 0, 0, 0, 0, 0, 0, 22, 17, 2, 4, 2, 4, 1, 0, 2, 2, 0, 2, 0, 0, 0, 1, 0, 0, 0, 0, 0, 0, 0, 0, 0, 0, 0, 0, 0, 0, 1, 1, 0, 0, 0, 0, 0, 0, 0, 1, 0, 0, 0, 0, 0, 0, 0, 0, 0, 0, 0, 0, 0, 0, 0, 0, 0, 0, 0, 0, 0, 0, 0, 0, 0, 0, 0, 0, 0, 0, 0, 0, 0, 0, 0, 0, 0, 0, 0, 0, 0, 0, 0, 0, 0, 0, 0, 0, 0, 0, 1]\n"
     ]
    },
    {
     "data": {
      "image/png": "[encoded data removed]",
      "text/plain": [
       "<Figure size 432x288 with 1 Axes>"
      ]
     },
     "metadata": {
      "needs_background": "light"
     },
     "output_type": "display_data"
    }
   ],
   "source": [
    "import matplotlib.pyplot as plt\n",
    "\n",
    "make_friend_counts_histogram(plt)"
   ]
  },
  {
   "cell_type": "markdown",
   "metadata": {},
   "source": [
    "- Unfortunately, this chart is still too difficult to slip into conversations.\n",
    "- So you start generating some statistics.\n",
    "- Probably the simplest statistic is simply the number of data points:"
   ]
  },
  {
   "cell_type": "markdown",
   "metadata": {},
   "source": [
    "#### min, max, smallest, largest"
   ]
  },
  {
   "cell_type": "code",
   "execution_count": 10,
   "metadata": {},
   "outputs": [
    {
     "name": "stdout",
     "output_type": "stream",
     "text": [
      "num_points 86\n",
      "largest value 100\n",
      "smallest value 1\n",
      "second_smallest_value 1\n",
      "second_largest_value 49\n"
     ]
    }
   ],
   "source": [
    "num_points = len(num_friends)\n",
    "\n",
    "largest_value = max(num_friends)\n",
    "smallest_value = min(num_friends)\n",
    "\n",
    "sorted_values = sorted(num_friends)\n",
    "smallest_value = sorted_values[0]\n",
    "second_smallest_value = sorted_values[1]\n",
    "second_largest_value = sorted_values[-2]\n",
    "\n",
    "print(\"num_points\", len(num_friends))\n",
    "print(\"largest value\", max(num_friends))\n",
    "print(\"smallest value\", min(num_friends))\n",
    "print(\"second_smallest_value\", sorted_values[1])\n",
    "print(\"second_largest_value\", sorted_values[-2])"
   ]
  },
  {
   "cell_type": "code",
   "execution_count": 11,
   "metadata": {},
   "outputs": [
    {
     "name": "stdout",
     "output_type": "stream",
     "text": [
      "num_points 86\n",
      "largest value 100\n",
      "smallest value 1\n",
      "second_smallest_value 1\n",
      "second_largest_value 49\n"
     ]
    }
   ],
   "source": [
    "# numpy version\n",
    "import numpy as np\n",
    "\n",
    "num_friends = np.array(num_friends)\n",
    "\n",
    "num_points = num_friends.shape[0]\n",
    "\n",
    "largest_value = np.max(num_friends)\n",
    "smallest_value = np.min(num_friends)\n",
    "\n",
    "sorted_values = np.sort(num_friends)\n",
    "smallest_value = sorted_values[0]\n",
    "second_smallest_value = sorted_values[1]\n",
    "second_largest_value = sorted_values[-2]\n",
    "\n",
    "print(\"num_points\", len(num_friends))\n",
    "print(\"largest value\", max(num_friends))\n",
    "print(\"smallest value\", min(num_friends))\n",
    "print(\"second_smallest_value\", sorted_values[1])\n",
    "print(\"second_largest_value\", sorted_values[-2])\n",
    "\n",
    "num_friends = list(num_friends)"
   ]
  },
  {
   "cell_type": "markdown",
   "metadata": {},
   "source": [
    "### Central Tendencies"
   ]
  },
  {
   "cell_type": "markdown",
   "metadata": {},
   "source": [
    "#### mean, median, quantile, mode"
   ]
  },
  {
   "cell_type": "code",
   "execution_count": 12,
   "metadata": {},
   "outputs": [],
   "source": [
    "def mean(x): # 평균\n",
    "    return sum(x) / len(x)\n",
    "\n",
    "def median(v): # 중간값\n",
    "    \"\"\"finds the 'middle-most' value of v\"\"\"\n",
    "    n = len(v)\n",
    "    sorted_v = sorted(v)\n",
    "    midpoint = n // 2\n",
    "    \n",
    "    if n % 2 == 1:\n",
    "        # if odd, return the middle value\n",
    "        return sorted_v[midpoint]\n",
    "    else:\n",
    "        # if even, return the average of the middle values\n",
    "        lo = midpoint - 1\n",
    "        hi = midpoint\n",
    "        return (sorted_v[lo] + sorted_v[hi]) / 2\n",
    "    \n",
    "def quantile(x, p): # 분위수\n",
    "    \"\"\"returns the pth-percentile value in x\"\"\"\n",
    "    p_index = int(p * len(x))\n",
    "    return sorted(x)[p_index]\n",
    "\n",
    "def mode(x): # 가장 자주 나타나는 값\n",
    "    \"\"\"returns a list, might be more than one mode\"\"\"\n",
    "    counts = Counter(x)\n",
    "    max_count = max(counts.values())\n",
    "    return [x_i for x_i, count in counts.items()\n",
    "            if count == max_count]"
   ]
  },
  {
   "cell_type": "code",
   "execution_count": 13,
   "metadata": {},
   "outputs": [
    {
     "name": "stdout",
     "output_type": "stream",
     "text": [
      "mean(num_friens) 11.406976744186046\n",
      "median(num_friends) 10.0\n",
      "quantile(num_friends, 0.10) 1\n",
      "quantile(num_friends, 0.25) 1\n",
      "quantile(num_friends, 0.75) 13\n",
      "quantile(num_friends, 0.90) 19\n",
      "mode(num_friends) [1]\n"
     ]
    }
   ],
   "source": [
    "print(\"mean(num_friens)\", mean(num_friends))\n",
    "print(\"median(num_friends)\", median(num_friends))\n",
    "print(\"quantile(num_friends, 0.10)\", quantile(num_friends, 0.10))\n",
    "print(\"quantile(num_friends, 0.25)\", quantile(num_friends, 0.25))\n",
    "print(\"quantile(num_friends, 0.75)\", quantile(num_friends, 0.75))\n",
    "print(\"quantile(num_friends, 0.90)\", quantile(num_friends, 0.90))\n",
    "print(\"mode(num_friends)\", mode(num_friends))"
   ]
  },
  {
   "cell_type": "code",
   "execution_count": 50,
   "metadata": {},
   "outputs": [
    {
     "name": "stdout",
     "output_type": "stream",
     "text": [
      "mean(num_friends) 11.406976744186046\n",
      "median(num_friends) 10.0\n",
      "quantile(num_friends, 0.10) 1.0\n",
      "quantile(num_friends, 0.25) 1.0\n",
      "quantile(num_friends, 0.75) 12.75\n",
      "quantile(num_friends, 0.90) 18.5\n",
      "[0]\n"
     ]
    }
   ],
   "source": [
    "# numpy version\n",
    "import numpy as np\n",
    "\n",
    "# np.quantile is available from v1.16\n",
    "# np.percentile uses percent instead of ratio\n",
    "print(\"mean(num_friends)\", np.mean(num_friends))\n",
    "print(\"median(num_friends)\", np.median(num_friends))\n",
    "print(\"quantile(num_friends, 0.10)\", np.percentile(num_friends, 10))\n",
    "print(\"quantile(num_friends, 0.25)\", np.percentile(num_friends, 25))\n",
    "print(\"quantile(num_friends, 0.75)\", np.percentile(num_friends, 75))\n",
    "print(\"quantile(num_friends, 0.90)\", np.percentile(num_friends, 90))\n",
    "# 아직 해결 못함\n",
    "#print(\"mode(num_friends)\", )\n",
    "a, b = np.histogram(num_friends, np.array(num_friends).size)\n",
    "index = np.where(np.max(a[0]))[0]\n",
    "\n",
    "\n"
   ]
  },
  {
   "cell_type": "markdown",
   "metadata": {},
   "source": [
    "### Disperson\n",
    " - Dispersion refers to measures of how spread out our data is.\n",
    " - Range is just the difference between the largest and smallest elements\n",
    " - variance\n",
    " - Standard deviation\n",
    " - Both the range and the standard deviaion habe the same outlier problem\n",
    " - Interquartile_tange: the difference between the 75th percentile value and the 25th percentile value"
   ]
  },
  {
   "cell_type": "code",
   "execution_count": 39,
   "metadata": {},
   "outputs": [],
   "source": [
    "# \"range\" already means something in Python, so we'll use a different name\n",
    "def data_range(x):\n",
    "    return max(x) - min(x)\n",
    "\n",
    "def de_mean(x): # 편차\n",
    "    \"\"\"translate x by subtracting its mean (so the result has mean 0)\"\"\"\n",
    "    x_bar = mean(x)\n",
    "    return [x_i - x_bar for x_i in x]\n",
    "\n",
    "def variance(x): # 분산 # 왜 n-1인지는 모르겠음\n",
    "    \"\"\"assumes x has at least two elements\"\"\"\n",
    "    n = len(x)\n",
    "    deviations = de_mean(x)\n",
    "    return sum_of_squares(deviations) / (n - 1)\n",
    "\n",
    "def standard_deviation(x):  # 표준편차\n",
    "    return math.sqrt(variance(x))\n",
    "\n",
    "def interquartile_range(x):\n",
    "    return quantile(x, 0.75) - quantile(x, 0.25)"
   ]
  },
  {
   "cell_type": "code",
   "execution_count": 40,
   "metadata": {},
   "outputs": [
    {
     "name": "stdout",
     "output_type": "stream",
     "text": [
      "data_range(num_friends) 99\n",
      "variance(num_friends) 166.5971272229824\n",
      "standard_deviation(num_friends) 12.907250955295725\n",
      "interquartile_range(num_friends) 12\n"
     ]
    }
   ],
   "source": [
    "print(\"data_range(num_friends)\", data_range(num_friends))\n",
    "print(\"variance(num_friends)\", variance(num_friends))\n",
    "print(\"standard_deviation(num_friends)\", standard_deviation(num_friends))\n",
    "print(\"interquartile_range(num_friends)\", interquartile_range(num_friends))"
   ]
  },
  {
   "cell_type": "code",
   "execution_count": 42,
   "metadata": {},
   "outputs": [
    {
     "name": "stdout",
     "output_type": "stream",
     "text": [
      "data_range(num_friends) 99\n",
      "data_range(num_friends) 99\n",
      "variance(num_friends) 166.59712722298212\n",
      "standard_deviation(num_friends) 12.907250955295714\n",
      "interquartile_range(num_friends) 11.75\n"
     ]
    }
   ],
   "source": [
    "# numpy version\n",
    "num_friends = np.array(num_friends)\n",
    "print(\"data_range(num_friends)\", np.ptp(num_friends)) # peak to peak\n",
    "print(\"data_range(num_friends)\", np.max(num_friends) - np.min(num_friends))\n",
    "print(\"variance(num_friends)\", np.var(num_friends, ddof=1))\n",
    "print(\"standard_deviation(num_friends)\", np.std(num_friends, ddof=1))\n",
    "q75, q25 = np.percentile(num_friends, [75, 25])\n",
    "print(\"interquartile_range(num_friends)\", q75 - q25)\n",
    "num_friends = list(num_friends)"
   ]
  },
  {
   "cell_type": "markdown",
   "metadata": {},
   "source": [
    "### Boxplot\n",
    " - it is very explanatory\n",
    " - It shows the summary of data"
   ]
  },
  {
   "cell_type": "code",
   "execution_count": 51,
   "metadata": {},
   "outputs": [
    {
     "data": {
      "image/png": "[encoded data removed]",
      "text/plain": [
       "<Figure size 432x288 with 1 Axes>"
      ]
     },
     "metadata": {
      "needs_background": "light"
     },
     "output_type": "display_data"
    }
   ],
   "source": [
    "%matplotlib inline\n",
    "\n",
    "import numpy as np\n",
    "import matplotlib.pyplot as plt\n",
    "\n",
    "plt.boxplot(num_friends)\n",
    "plt.show()"
   ]
  },
  {
   "cell_type": "code",
   "execution_count": 52,
   "metadata": {},
   "outputs": [
    {
     "data": {
      "image/png": "[encoded data removed]",
      "text/plain": [
       "<Figure size 432x288 with 1 Axes>"
      ]
     },
     "metadata": {
      "needs_background": "light"
     },
     "output_type": "display_data"
    }
   ],
   "source": [
    "plt.hist(num_friends, bins=50)\n",
    "plt.show()"
   ]
  },
  {
   "cell_type": "code",
   "execution_count": 53,
   "metadata": {},
   "outputs": [
    {
     "data": {
      "image/png": "[encoded data removed]",
      "text/plain": [
       "<Figure size 432x288 with 1 Axes>"
      ]
     },
     "metadata": {
      "needs_background": "light"
     },
     "output_type": "display_data"
    },
    {
     "data": {
      "image/png": "[encoded data removed]",
      "text/plain": [
       "<Figure size 432x288 with 1 Axes>"
      ]
     },
     "metadata": {
      "needs_background": "light"
     },
     "output_type": "display_data"
    }
   ],
   "source": [
    "data = np.random.randn(1000,3)\n",
    "plt.boxplot(data)\n",
    "plt.show()\n",
    "plt.hist(data, bins=10)\n",
    "plt.show()"
   ]
  },
  {
   "cell_type": "markdown",
   "metadata": {},
   "source": [
    "If we know the population mean, the standard deviation is given by\n",
    "\n",
    "... 모집단의 평균을 알 때 표준편차 구하기(feat. n)\n",
    "\n",
    "If we don't know the population mean, we can use sample mean to calculate the standard deviation.\n",
    "\n",
    "... 모집단의 평균을 모를 때 표준편차 구하기(feat. n-1)"
   ]
  },
  {
   "cell_type": "code",
   "execution_count": 54,
   "metadata": {},
   "outputs": [
    {
     "name": "stdout",
     "output_type": "stream",
     "text": [
      "0.816496580927726\n",
      "1.0\n",
      "1.0\n"
     ]
    }
   ],
   "source": [
    "import numpy as np\n",
    "print(np.std([1,2,3]))\n",
    "print(np.std([1,2,3], ddof=1))  # degree of freedom\n",
    "print(standard_deviation([1,2,3]))"
   ]
  },
  {
   "cell_type": "markdown",
   "metadata": {},
   "source": [
    "### Correlation\n",
    " - DataSciencester's VP of Growth has a theory that the amount of time people spend on the site is related to the number of friends they have son the site, and she's asked you to verify this.\n",
    " - We'd like to investigate the relationship between these two metrics.\n",
    " \n",
    " - Whereas variance measures how a single variable deviates from its mean, covariance measures how two variables vary in tandem from their means.\n",
    " - It's hard to interpret what a \"large\" convariance is unless it is normalized.\n",
    " - ...\n",
    " - ..."
   ]
  },
  {
   "cell_type": "code",
   "execution_count": 57,
   "metadata": {},
   "outputs": [],
   "source": [
    "daily_minutes = [1,68.77,51.25,52.08,38.36,44.54,57.13,51.4,41.42,31.22,34.76,54.01,38.79]\n",
    "\n",
    "def covariance(x, y):\n",
    "    n = len(x)\n",
    "    return dot(de_mean(x), de_mean(y)) / (n - 1)\n",
    "\n",
    "def correlation(x, y):\n",
    "    stdev_x = standard_deviation(x)\n",
    "    stdev_y = standard_deviation(y)\n",
    "    if stdev_x > 0 and stdev_y > 0:\n",
    "        return covariance(x, y) / stdev_x / stdev_y\n",
    "    else:\n",
    "        return 0 # if no variation, correlation is zero"
   ]
  },
  {
   "cell_type": "code",
   "execution_count": 58,
   "metadata": {},
   "outputs": [
    {
     "name": "stdout",
     "output_type": "stream",
     "text": [
      "-27.267167420814456\n",
      "-0.1289981763790932\n"
     ]
    }
   ],
   "source": [
    "print(covariance(num_friends, daily_minutes))\n",
    "print(correlation(num_friends, daily_minutes))\n",
    "\n",
    "#we may conclude that two variables are less correlated"
   ]
  },
  {
   "cell_type": "code",
   "execution_count": 63,
   "metadata": {},
   "outputs": [
    {
     "data": {
      "image/png": "[encoded data removed]",
      "text/plain": [
       "<Figure size 432x288 with 1 Axes>"
      ]
     },
     "metadata": {
      "needs_background": "light"
     },
     "output_type": "display_data"
    }
   ],
   "source": [
    "plt.scatter(num_friends[:len(daily_minutes)], daily_minutes)\n",
    "plt.xlabel('num_friends')\n",
    "plt.ylabel('daily_minutes')\n",
    "plt.title('corr = {:.2}'.format(correlation(num_friends, daily_minutes)))\n",
    "plt.show()"
   ]
  },
  {
   "cell_type": "markdown",
   "metadata": {},
   "source": [
    "Remove outliers whose index is 0\n",
    " - It turns out that the outlier is a test data in a database, which is a garbage\n",
    " - Recall \"GIGO: Garbage in, garbage out\""
   ]
  },
  {
   "cell_type": "code",
   "execution_count": 67,
   "metadata": {},
   "outputs": [
    {
     "data": {
      "image/png": "[encoded data removed]",
      "text/plain": [
       "<Figure size 432x288 with 1 Axes>"
      ]
     },
     "metadata": {
      "needs_background": "light"
     },
     "output_type": "display_data"
    }
   ],
   "source": [
    "plt.scatter(num_friends[1: len(daily_minutes)], daily_minutes[1:])\n",
    "#plt.scatter(num_friends[4:], daily_minutes[4:])\n",
    "plt.xlabel('num_friends')\n",
    "plt.ylabel('daily_minutes')\n",
    "plt.title('corr = {:.2}'.format(correlation(num_friends[1:], daily_minutes[1:])))\n",
    "plt.show()"
   ]
  },
  {
   "cell_type": "markdown",
   "metadata": {},
   "source": [
    "Correlation in Plain English\n",
    "\n",
    "\n",
    "Correlation vs Cosine similarity"
   ]
  },
  {
   "cell_type": "code",
   "execution_count": null,
   "metadata": {},
   "outputs": [],
   "source": [
    "# numpy version"
   ]
  },
  {
   "cell_type": "markdown",
   "metadata": {},
   "source": [
    "### Simpson's paradox"
   ]
  },
  {
   "cell_type": "markdown",
   "metadata": {},
   "source": [
    "### Some Other Correlational Caveats\n",
    " - A correlation of zero indicates that there is no linear relationship between the two variables."
   ]
  },
  {
   "cell_type": "markdown",
   "metadata": {},
   "source": [
    "#### Related but not captured"
   ]
  },
  {
   "cell_type": "code",
   "execution_count": 68,
   "metadata": {},
   "outputs": [
    {
     "data": {
      "image/png": "[encoded data removed]",
      "text/plain": [
       "<Figure size 432x288 with 1 Axes>"
      ]
     },
     "metadata": {
      "needs_background": "light"
     },
     "output_type": "display_data"
    }
   ],
   "source": [
    "# absolute value relationship\n",
    "x = [-2, -1, 0, 1, 2]\n",
    "y = [2, 1, 0, 1, 2]\n",
    "plt.scatter(x, y)\n",
    "plt.show()"
   ]
  },
  {
   "cell_type": "markdown",
   "metadata": {},
   "source": [
    "#### How important or how interesting the correlation is?"
   ]
  },
  {
   "cell_type": "code",
   "execution_count": 69,
   "metadata": {},
   "outputs": [
    {
     "data": {
      "image/png": "[encoded data removed]",
      "text/plain": [
       "<Figure size 432x288 with 1 Axes>"
      ]
     },
     "metadata": {
      "needs_background": "light"
     },
     "output_type": "display_data"
    }
   ],
   "source": [
    "x = [-2, -1, 0, 1, 2]\n",
    "y = [99.98,99.99,100,100.01,100.02]\n",
    "plt.scatter(x, y)\n",
    "plt.title('corr={:.2}'.format(correlation(x,y)))\n",
    "plt.show()"
   ]
  },
  {
   "cell_type": "code",
   "execution_count": 70,
   "metadata": {},
   "outputs": [
    {
     "data": {
      "image/png": "[encoded data removed]",
      "text/plain": [
       "<Figure size 432x288 with 1 Axes>"
      ]
     },
     "metadata": {
      "needs_background": "light"
     },
     "output_type": "display_data"
    }
   ],
   "source": [
    "# Perfectly correlated. This relationship isn;t all that interesting.\n",
    "x = [-2, -1, 0, 1, 2]\n",
    "y = [99.98,99.99,100,100.01,100.02]\n",
    "plt.scatter(x,y)\n",
    "plt.axis('equal')\n",
    "plt.title('corr={:.2}'.format(correlation(x,y)))\n",
    "plt.show()"
   ]
  },
  {
   "cell_type": "markdown",
   "metadata": {},
   "source": [
    "### Correlation and Causation\n",
    "-\"Correlation is not causation\""
   ]
  },
  {
   "cell_type": "markdown",
   "metadata": {},
   "source": [
    "### Causation"
   ]
  }
 ],
 "metadata": {
  "kernelspec": {
   "display_name": "Python 3",
   "language": "python",
   "name": "python3"
  },
  "language_info": {
   "codemirror_mode": {
    "name": "ipython",
    "version": 3
   },
   "file_extension": ".py",
   "mimetype": "text/x-python",
   "name": "python",
   "nbconvert_exporter": "python",
   "pygments_lexer": "ipython3",
   "version": "3.7.6"
  }
 },
 "nbformat": 4,
 "nbformat_minor": 4
}
