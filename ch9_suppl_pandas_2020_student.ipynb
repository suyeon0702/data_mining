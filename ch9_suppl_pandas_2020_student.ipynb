{
 "cells": [
  {
   "cell_type": "markdown",
   "metadata": {},
   "source": [
    "# Introduction to Pandas"
   ]
  },
  {
   "cell_type": "markdown",
   "metadata": {},
   "source": [
    "Pandas provide two convenient data structures for storing and manipulating data--Series and DataFrame. A Series is similar to a one-dimensional array whereas a DataFrame is more similar to representing a matrix or a spreadsheet table.  "
   ]
  },
  {
   "cell_type": "markdown",
   "metadata": {},
   "source": [
    "## Series\n",
    "\n",
    "- A Series object consists of a one-dimensional array of values, whose elements can be referenced using an index array. \n",
    "- A Series object can be created from a list, a numpy array, or a Python dictionary. \n",
    "- You can apply most of the numpy functions on the Series object."
   ]
  },
  {
   "cell_type": "code",
   "execution_count": 1,
   "metadata": {},
   "outputs": [
    {
     "name": "stdout",
     "output_type": "stream",
     "text": [
      "0    3.1\n",
      "1    2.4\n",
      "2   -1.7\n",
      "3    0.2\n",
      "4   -2.9\n",
      "5    4.5\n",
      "dtype: float64\n",
      "Values= [ 3.1  2.4 -1.7  0.2 -2.9  4.5]\n",
      "Index= RangeIndex(start=0, stop=6, step=1)\n"
     ]
    }
   ],
   "source": [
    "from pandas import Series\n",
    "\n",
    "s = Series([3.1, 2.4, -1.7, 0.2, -2.9, 4.5])   # creating a series from a list\n",
    "print(s)\n",
    "print('Values=', s.values)     # display values of the Series\n",
    "print('Index=', s.index)       # display indices of the Series"
   ]
  },
  {
   "cell_type": "code",
   "execution_count": 4,
   "metadata": {},
   "outputs": [
    {
     "name": "stdout",
     "output_type": "stream",
     "text": [
      "0.9333333333333332\n"
     ]
    }
   ],
   "source": [
    "print(s.mean())"
   ]
  },
  {
   "cell_type": "code",
   "execution_count": 2,
   "metadata": {},
   "outputs": [
    {
     "name": "stdout",
     "output_type": "stream",
     "text": [
      "0   -0.701802\n",
      "1    1.363197\n",
      "2    0.643812\n",
      "3   -0.064537\n",
      "4   -1.334285\n",
      "5    0.397383\n",
      "dtype: float64\n",
      "Values= [-0.70180153  1.36319738  0.64381161 -0.06453709 -1.33428511  0.39738264]\n",
      "Index= RangeIndex(start=0, stop=6, step=1)\n"
     ]
    }
   ],
   "source": [
    "import numpy as np\n",
    "\n",
    "s2 = Series(np.random.randn(6))  # creating a series from a numpy ndarray\n",
    "print(s2)\n",
    "print('Values=', s2.values)   # display values of the Series\n",
    "print('Index=', s2.index)     # display indices of the Series"
   ]
  },
  {
   "cell_type": "code",
   "execution_count": 9,
   "metadata": {},
   "outputs": [
    {
     "name": "stdout",
     "output_type": "stream",
     "text": [
      "Jan 1    1.2\n",
      "Jan 2    2.5\n",
      "Jan 3   -2.2\n",
      "Jan 4    3.1\n",
      "Jan 5   -0.8\n",
      "Jan 6   -3.2\n",
      "dtype: float64\n",
      "Values= [ 1.2  2.5 -2.2  3.1 -0.8 -3.2]\n",
      "Index= Index(['Jan 1', 'Jan 2', 'Jan 3', 'Jan 4', 'Jan 5', 'Jan 6'], dtype='object')\n"
     ]
    }
   ],
   "source": [
    "s3 = Series([1.2,2.5,-2.2,3.1,-0.8,-3.2], \n",
    "            index = ['Jan 1','Jan 2','Jan 3','Jan 4','Jan 5','Jan 6'])\n",
    "print(s3)\n",
    "print('Values=', s3.values)   # display values of the Series\n",
    "print('Index=', s3.index)     # display indices of the Series"
   ]
  },
  {
   "cell_type": "code",
   "execution_count": 10,
   "metadata": {},
   "outputs": [
    {
     "name": "stdout",
     "output_type": "stream",
     "text": [
      "MI       Lansing\n",
      "CA    Sacramento\n",
      "TX        Austin\n",
      "MN       St Paul\n",
      "dtype: object\n",
      "Values= ['Lansing' 'Sacramento' 'Austin' 'St Paul']\n",
      "Index= Index(['MI', 'CA', 'TX', 'MN'], dtype='object')\n"
     ]
    }
   ],
   "source": [
    "capitals = {'MI': 'Lansing', 'CA': 'Sacramento', 'TX': 'Austin', 'MN': 'St Paul'}\n",
    "\n",
    "s4 = Series(capitals)   # creating a series from dictionary object\n",
    "print(s4)\n",
    "print('Values=', s4.values)   # display values of the Series\n",
    "print('Index=', s4.index)     # display indices of the Series"
   ]
  },
  {
   "cell_type": "code",
   "execution_count": 13,
   "metadata": {},
   "outputs": [
    {
     "name": "stdout",
     "output_type": "stream",
     "text": [
      "MI       Lansing\n",
      "CA    Sacramento\n",
      "dtype: object\n"
     ]
    }
   ],
   "source": [
    "s4_1 = Series({'MI': 'Lansing', 'CA': 'Sacramento'})\n",
    "print(s4_1)"
   ]
  },
  {
   "cell_type": "code",
   "execution_count": 14,
   "metadata": {},
   "outputs": [
    {
     "name": "stdout",
     "output_type": "stream",
     "text": [
      "Jan 1    1.2\n",
      "Jan 2    2.5\n",
      "Jan 3   -2.2\n",
      "Jan 4    3.1\n",
      "Jan 5   -0.8\n",
      "Jan 6   -3.2\n",
      "dtype: float64\n",
      "\n",
      "s3[2]= -2.2\n",
      "s3['Jan 3']= -2.2\n",
      "\n",
      "s3[1:3]=\n",
      "Jan 2    2.5\n",
      "Jan 3   -2.2\n",
      "dtype: float64\n",
      "s3.iloc([1:3])=\n",
      "Jan 2    2.5\n",
      "Jan 3   -2.2\n",
      "dtype: float64\n"
     ]
    }
   ],
   "source": [
    "s3 = Series([1.2,2.5,-2.2,3.1,-0.8,-3.2], \n",
    "            index = ['Jan 1','Jan 2','Jan 3','Jan 4','Jan 5','Jan 6',])\n",
    "print(s3)\n",
    "\n",
    "# Accessing elements of a Series\n",
    "\n",
    "print('\\ns3[2]=', s3[2])        # display third element of the Series\n",
    "print('s3[\\'Jan 3\\']=', s3['Jan 3'])   # indexing element of a Series \n",
    "\n",
    "print('\\ns3[1:3]=')             # display a slice of the Series\n",
    "print(s3[1:3])\n",
    "print('s3.iloc([1:3])=')      # display a slice of the Series\n",
    "print(s3.iloc[1:3])"
   ]
  },
  {
   "cell_type": "code",
   "execution_count": 15,
   "metadata": {},
   "outputs": [
    {
     "name": "stdout",
     "output_type": "stream",
     "text": [
      "shape = (6,)\n",
      "size = 6\n"
     ]
    }
   ],
   "source": [
    "print('shape =', s3.shape)  # get the dimension of the Series\n",
    "print('size =', s3.size)    # get the # of elements of the Series"
   ]
  },
  {
   "cell_type": "code",
   "execution_count": 16,
   "metadata": {},
   "outputs": [
    {
     "name": "stdout",
     "output_type": "stream",
     "text": [
      "Jan 1    1.2\n",
      "Jan 2    2.5\n",
      "Jan 4    3.1\n",
      "dtype: float64\n"
     ]
    }
   ],
   "source": [
    "print(s3[s3 > 0])   # applying filter to select elements of the Series"
   ]
  },
  {
   "cell_type": "code",
   "execution_count": 17,
   "metadata": {},
   "outputs": [
    {
     "name": "stdout",
     "output_type": "stream",
     "text": [
      "Jan 1    5.2\n",
      "Jan 2    6.5\n",
      "Jan 3    1.8\n",
      "Jan 4    7.1\n",
      "Jan 5    3.2\n",
      "Jan 6    0.8\n",
      "dtype: float64\n",
      "Jan 1    0.300\n",
      "Jan 2    0.625\n",
      "Jan 3   -0.550\n",
      "Jan 4    0.775\n",
      "Jan 5   -0.200\n",
      "Jan 6   -0.800\n",
      "dtype: float64\n"
     ]
    }
   ],
   "source": [
    "print(s3 + 4)       # applying scalar operation on a numeric Series\n",
    "print(s3 / 4)    "
   ]
  },
  {
   "cell_type": "code",
   "execution_count": 18,
   "metadata": {},
   "outputs": [
    {
     "name": "stdout",
     "output_type": "stream",
     "text": [
      "Jan 1    1.648659\n",
      "Jan 2    1.871802\n",
      "Jan 3    0.587787\n",
      "Jan 4    1.960095\n",
      "Jan 5    1.163151\n",
      "Jan 6   -0.223144\n",
      "dtype: float64\n"
     ]
    }
   ],
   "source": [
    "print(np.log(s3 + 4))    # applying numpy math functions to a numeric Series"
   ]
  },
  {
   "cell_type": "markdown",
   "metadata": {},
   "source": [
    "## DataFrame\n",
    "\n",
    "- A DataFrame object is a tabular, spreadsheet-like data structure containing a collection of columns, each of which can be of different types (numeric, string, boolean, etc). Unlike Series, a DataFrame has distinct row and column indices. There are many ways to create a DataFrame object (e.g., from a dictionary, list of tuples, or even numpy's ndarrays).\n",
    "-  Series is the data structure for **a single column of a DataFrame**, not only conceptually, but literally i.e. the data in a DataFrame is actually stored in memory as a collection of Series."
   ]
  },
  {
   "cell_type": "code",
   "execution_count": 7,
   "metadata": {},
   "outputs": [
    {
     "data": {
      "text/html": [
       "<div>\n",
       "<style scoped>\n",
       "    .dataframe tbody tr th:only-of-type {\n",
       "        vertical-align: middle;\n",
       "    }\n",
       "\n",
       "    .dataframe tbody tr th {\n",
       "        vertical-align: top;\n",
       "    }\n",
       "\n",
       "    .dataframe thead th {\n",
       "        text-align: right;\n",
       "    }\n",
       "</style>\n",
       "<table border=\"1\" class=\"dataframe\">\n",
       "  <thead>\n",
       "    <tr style=\"text-align: right;\">\n",
       "      <th></th>\n",
       "      <th>make</th>\n",
       "      <th>model</th>\n",
       "      <th>MSRP</th>\n",
       "    </tr>\n",
       "  </thead>\n",
       "  <tbody>\n",
       "    <tr>\n",
       "      <th>0</th>\n",
       "      <td>Ford</td>\n",
       "      <td>Taurus</td>\n",
       "      <td>27595</td>\n",
       "    </tr>\n",
       "    <tr>\n",
       "      <th>1</th>\n",
       "      <td>Honda</td>\n",
       "      <td>Accord</td>\n",
       "      <td>23570</td>\n",
       "    </tr>\n",
       "    <tr>\n",
       "      <th>2</th>\n",
       "      <td>Toyota</td>\n",
       "      <td>Camry</td>\n",
       "      <td>23495</td>\n",
       "    </tr>\n",
       "    <tr>\n",
       "      <th>3</th>\n",
       "      <td>Tesla</td>\n",
       "      <td>Model S</td>\n",
       "      <td>68000</td>\n",
       "    </tr>\n",
       "  </tbody>\n",
       "</table>\n",
       "</div>"
      ],
      "text/plain": [
       "     make    model   MSRP\n",
       "0    Ford   Taurus  27595\n",
       "1   Honda   Accord  23570\n",
       "2  Toyota    Camry  23495\n",
       "3   Tesla  Model S  68000"
      ]
     },
     "execution_count": 7,
     "metadata": {},
     "output_type": "execute_result"
    }
   ],
   "source": [
    "from pandas import DataFrame\n",
    "\n",
    "cars = {'make': ['Ford', 'Honda', 'Toyota', 'Tesla'],\n",
    "       'model': ['Taurus', 'Accord', 'Camry', 'Model S'],\n",
    "       'MSRP': [27595, 23570, 23495, 68000]}          \n",
    "carData = DataFrame(cars)   # creating DataFrame from dictionary\n",
    "carData                     # display the table"
   ]
  },
  {
   "cell_type": "code",
   "execution_count": 21,
   "metadata": {},
   "outputs": [
    {
     "name": "stdout",
     "output_type": "stream",
     "text": [
      "RangeIndex(start=0, stop=4, step=1)\n",
      "Index(['make', 'model', 'MSRP'], dtype='object')\n"
     ]
    }
   ],
   "source": [
    "print(carData.index)       # print the row indices\n",
    "print(carData.columns)     # print the column indices"
   ]
  },
  {
   "cell_type": "code",
   "execution_count": 24,
   "metadata": {},
   "outputs": [
    {
     "data": {
      "text/html": [
       "<div>\n",
       "<style scoped>\n",
       "    .dataframe tbody tr th:only-of-type {\n",
       "        vertical-align: middle;\n",
       "    }\n",
       "\n",
       "    .dataframe tbody tr th {\n",
       "        vertical-align: top;\n",
       "    }\n",
       "\n",
       "    .dataframe thead th {\n",
       "        text-align: right;\n",
       "    }\n",
       "</style>\n",
       "<table border=\"1\" class=\"dataframe\">\n",
       "  <thead>\n",
       "    <tr style=\"text-align: right;\">\n",
       "      <th></th>\n",
       "      <th>make</th>\n",
       "      <th>model</th>\n",
       "      <th>MSRP</th>\n",
       "      <th>year</th>\n",
       "      <th>dealership</th>\n",
       "    </tr>\n",
       "  </thead>\n",
       "  <tbody>\n",
       "    <tr>\n",
       "      <th>1</th>\n",
       "      <td>Ford</td>\n",
       "      <td>Taurus</td>\n",
       "      <td>27595</td>\n",
       "      <td>2018</td>\n",
       "      <td>Courtesy Ford</td>\n",
       "    </tr>\n",
       "    <tr>\n",
       "      <th>2</th>\n",
       "      <td>Honda</td>\n",
       "      <td>Accord</td>\n",
       "      <td>23570</td>\n",
       "      <td>2018</td>\n",
       "      <td>Capital Honda</td>\n",
       "    </tr>\n",
       "    <tr>\n",
       "      <th>3</th>\n",
       "      <td>Toyota</td>\n",
       "      <td>Camry</td>\n",
       "      <td>23495</td>\n",
       "      <td>2018</td>\n",
       "      <td>Spartan Toyota</td>\n",
       "    </tr>\n",
       "    <tr>\n",
       "      <th>4</th>\n",
       "      <td>Tesla</td>\n",
       "      <td>Model S</td>\n",
       "      <td>68000</td>\n",
       "      <td>2018</td>\n",
       "      <td>N/A</td>\n",
       "    </tr>\n",
       "  </tbody>\n",
       "</table>\n",
       "</div>"
      ],
      "text/plain": [
       "     make    model   MSRP  year      dealership\n",
       "1    Ford   Taurus  27595  2018   Courtesy Ford\n",
       "2   Honda   Accord  23570  2018   Capital Honda\n",
       "3  Toyota    Camry  23495  2018  Spartan Toyota\n",
       "4   Tesla  Model S  68000  2018             N/A"
      ]
     },
     "execution_count": 24,
     "metadata": {},
     "output_type": "execute_result"
    }
   ],
   "source": [
    "carData2 = DataFrame(cars, index = [1,2,3,4])  # change the row index\n",
    "#print(carData2)\n",
    "carData2['year'] = 2018    # add column with same value\n",
    "carData2['dealership'] = ['Courtesy Ford','Capital Honda','Spartan Toyota', 'N/A']\n",
    "carData2                   # display table"
   ]
  },
  {
   "cell_type": "markdown",
   "metadata": {},
   "source": [
    "### Creating DataFrame from a list of tuples."
   ]
  },
  {
   "cell_type": "code",
   "execution_count": 26,
   "metadata": {},
   "outputs": [
    {
     "data": {
      "text/html": [
       "<div>\n",
       "<style scoped>\n",
       "    .dataframe tbody tr th:only-of-type {\n",
       "        vertical-align: middle;\n",
       "    }\n",
       "\n",
       "    .dataframe tbody tr th {\n",
       "        vertical-align: top;\n",
       "    }\n",
       "\n",
       "    .dataframe thead th {\n",
       "        text-align: right;\n",
       "    }\n",
       "</style>\n",
       "<table border=\"1\" class=\"dataframe\">\n",
       "  <thead>\n",
       "    <tr style=\"text-align: right;\">\n",
       "      <th></th>\n",
       "      <th>year</th>\n",
       "      <th>temp</th>\n",
       "      <th>precip</th>\n",
       "    </tr>\n",
       "  </thead>\n",
       "  <tbody>\n",
       "    <tr>\n",
       "      <th>0</th>\n",
       "      <td>2011</td>\n",
       "      <td>45.1</td>\n",
       "      <td>32.4</td>\n",
       "    </tr>\n",
       "    <tr>\n",
       "      <th>1</th>\n",
       "      <td>2012</td>\n",
       "      <td>42.4</td>\n",
       "      <td>34.5</td>\n",
       "    </tr>\n",
       "    <tr>\n",
       "      <th>2</th>\n",
       "      <td>2013</td>\n",
       "      <td>47.2</td>\n",
       "      <td>39.2</td>\n",
       "    </tr>\n",
       "    <tr>\n",
       "      <th>3</th>\n",
       "      <td>2014</td>\n",
       "      <td>44.2</td>\n",
       "      <td>31.4</td>\n",
       "    </tr>\n",
       "    <tr>\n",
       "      <th>4</th>\n",
       "      <td>2015</td>\n",
       "      <td>39.9</td>\n",
       "      <td>29.8</td>\n",
       "    </tr>\n",
       "    <tr>\n",
       "      <th>5</th>\n",
       "      <td>2016</td>\n",
       "      <td>41.5</td>\n",
       "      <td>36.7</td>\n",
       "    </tr>\n",
       "  </tbody>\n",
       "</table>\n",
       "</div>"
      ],
      "text/plain": [
       "   year  temp  precip\n",
       "0  2011  45.1    32.4\n",
       "1  2012  42.4    34.5\n",
       "2  2013  47.2    39.2\n",
       "3  2014  44.2    31.4\n",
       "4  2015  39.9    29.8\n",
       "5  2016  41.5    36.7"
      ]
     },
     "execution_count": 26,
     "metadata": {},
     "output_type": "execute_result"
    }
   ],
   "source": [
    "tuplelist = [(2011,45.1,32.4),(2012,42.4,34.5),(2013,47.2,39.2),\n",
    "              (2014,44.2,31.4),(2015,39.9,29.8),(2016,41.5,36.7)]\n",
    "columnNames = ['year','temp','precip']\n",
    "weatherData = DataFrame(tuplelist, columns=columnNames)\n",
    "weatherData"
   ]
  },
  {
   "cell_type": "code",
   "execution_count": 27,
   "metadata": {},
   "outputs": [
    {
     "name": "stdout",
     "output_type": "stream",
     "text": [
      "47.2\n",
      "43.383333333333326\n",
      "2.639254945371264\n"
     ]
    }
   ],
   "source": [
    "print(weatherData['temp'].max())\n",
    "print(weatherData['temp'].mean())\n",
    "print(weatherData['temp'].std())"
   ]
  },
  {
   "cell_type": "markdown",
   "metadata": {},
   "source": [
    "### Creating DataFrame from numpy ndarray"
   ]
  },
  {
   "cell_type": "code",
   "execution_count": 33,
   "metadata": {},
   "outputs": [
    {
     "data": {
      "text/html": [
       "<div>\n",
       "<style scoped>\n",
       "    .dataframe tbody tr th:only-of-type {\n",
       "        vertical-align: middle;\n",
       "    }\n",
       "\n",
       "    .dataframe tbody tr th {\n",
       "        vertical-align: top;\n",
       "    }\n",
       "\n",
       "    .dataframe thead th {\n",
       "        text-align: right;\n",
       "    }\n",
       "</style>\n",
       "<table border=\"1\" class=\"dataframe\">\n",
       "  <thead>\n",
       "    <tr style=\"text-align: right;\">\n",
       "      <th></th>\n",
       "      <th>x1</th>\n",
       "      <th>x2</th>\n",
       "      <th>x3</th>\n",
       "    </tr>\n",
       "  </thead>\n",
       "  <tbody>\n",
       "    <tr>\n",
       "      <th>1</th>\n",
       "      <td>0.538442</td>\n",
       "      <td>-1.524412</td>\n",
       "      <td>1.365873</td>\n",
       "    </tr>\n",
       "    <tr>\n",
       "      <th>2</th>\n",
       "      <td>-0.033763</td>\n",
       "      <td>0.172728</td>\n",
       "      <td>-1.201075</td>\n",
       "    </tr>\n",
       "    <tr>\n",
       "      <th>3</th>\n",
       "      <td>0.216646</td>\n",
       "      <td>-1.426618</td>\n",
       "      <td>-1.117355</td>\n",
       "    </tr>\n",
       "    <tr>\n",
       "      <th>4</th>\n",
       "      <td>-1.555323</td>\n",
       "      <td>1.451001</td>\n",
       "      <td>-0.153088</td>\n",
       "    </tr>\n",
       "    <tr>\n",
       "      <th>5</th>\n",
       "      <td>-0.365529</td>\n",
       "      <td>0.720800</td>\n",
       "      <td>0.997066</td>\n",
       "    </tr>\n",
       "  </tbody>\n",
       "</table>\n",
       "</div>"
      ],
      "text/plain": [
       "         x1        x2        x3\n",
       "1  0.538442 -1.524412  1.365873\n",
       "2 -0.033763  0.172728 -1.201075\n",
       "3  0.216646 -1.426618 -1.117355\n",
       "4 -1.555323  1.451001 -0.153088\n",
       "5 -0.365529  0.720800  0.997066"
      ]
     },
     "execution_count": 33,
     "metadata": {},
     "output_type": "execute_result"
    }
   ],
   "source": [
    "import numpy as np\n",
    "\n",
    "npdata = np.random.randn(5,3)  # create a 5 by 3 random matrix\n",
    "columnNames = ['x1','x2','x3']\n",
    "data = DataFrame(npdata, columns=columnNames, index=[1, 2, 3, 4, 5])\n",
    "data"
   ]
  },
  {
   "cell_type": "markdown",
   "metadata": {},
   "source": [
    "### The elements of a DataFrame can be accessed in many ways."
   ]
  },
  {
   "cell_type": "code",
   "execution_count": 32,
   "metadata": {},
   "outputs": [
    {
     "name": "stdout",
     "output_type": "stream",
     "text": [
      "0   -1.248229\n",
      "1   -1.785900\n",
      "2   -0.846259\n",
      "3    1.894938\n",
      "4   -0.794302\n",
      "Name: x2, dtype: float64\n",
      "<class 'pandas.core.series.Series'>\n"
     ]
    }
   ],
   "source": [
    "# accessing an entire column will return a Series object\n",
    "\n",
    "print(data['x2'])\n",
    "print(type(data['x2']))"
   ]
  },
  {
   "cell_type": "code",
   "execution_count": 34,
   "metadata": {},
   "outputs": [
    {
     "name": "stdout",
     "output_type": "stream",
     "text": [
      "         x1        x2        x3\n",
      "1  0.538442 -1.524412  1.365873\n"
     ]
    }
   ],
   "source": [
    "print(data[0:1])"
   ]
  },
  {
   "cell_type": "code",
   "execution_count": 35,
   "metadata": {},
   "outputs": [
    {
     "name": "stdout",
     "output_type": "stream",
     "text": [
      "         x1        x2        x3\n",
      "1  0.538442 -1.524412  1.365873\n",
      "3  0.216646 -1.426618 -1.117355\n",
      "5 -0.365529  0.720800  0.997066\n"
     ]
    }
   ],
   "source": [
    "print(data[0::2])"
   ]
  },
  {
   "cell_type": "code",
   "execution_count": 36,
   "metadata": {},
   "outputs": [
    {
     "name": "stdout",
     "output_type": "stream",
     "text": [
      "Row 3 of data table:\n",
      "x1    0.216646\n",
      "x2   -1.426618\n",
      "x3   -1.117355\n",
      "Name: 3, dtype: float64\n",
      "<class 'pandas.core.series.Series'>\n",
      "\n",
      "Row 3 of car data table:\n",
      "make                  Toyota\n",
      "model                  Camry\n",
      "MSRP                   23495\n",
      "year                    2018\n",
      "dealership    Spartan Toyota\n",
      "Name: 3, dtype: object\n",
      "<class 'pandas.core.series.Series'>\n"
     ]
    }
   ],
   "source": [
    "# accessing an entire row will return a Series object\n",
    "\n",
    "print('Row 3 of data table:')\n",
    "print(data.iloc[2])       # returns the 3rd row of DataFrame\n",
    "print(type(data.iloc[2]))\n",
    "print('\\nRow 3 of car data table:')\n",
    "print(carData2.iloc[2])   # row contains objects of different types\n",
    "print(type(carData2.iloc[2]))"
   ]
  },
  {
   "cell_type": "code",
   "execution_count": 41,
   "metadata": {},
   "outputs": [
    {
     "name": "stdout",
     "output_type": "stream",
     "text": [
      "23570\n",
      "Accord\n",
      "\n",
      "Taurus\n",
      "\n",
      "\n",
      "carData2.iloc[1:3,1:3]=\n",
      "\n",
      "    model   MSRP\n",
      "2  Accord  23570\n",
      "3   Camry  23495\n"
     ]
    }
   ],
   "source": [
    "# accessing a specific element of the DataFrame\n",
    "\n",
    "print(carData2.iloc[1,2])      # retrieving second row, third column  # integer indexing\n",
    "print(carData2.loc[2,'model'])\n",
    "print()\n",
    "print(carData2.loc[1,'model']) # retrieving second row, column named 'model'\n",
    "print()\n",
    "print()\n",
    "# accessing a slice of the DataFrame\n",
    "\n",
    "print('carData2.iloc[1:3,1:3]=')\n",
    "print()\n",
    "print(carData2.iloc[1:3,1:3])"
   ]
  },
  {
   "cell_type": "code",
   "execution_count": 42,
   "metadata": {},
   "outputs": [
    {
     "name": "stdout",
     "output_type": "stream",
     "text": [
      "carData2.shape = (4, 5)\n",
      "carData2.size = 20\n"
     ]
    }
   ],
   "source": [
    "print('carData2.shape =', carData2.shape)\n",
    "print('carData2.size =', carData2.size)"
   ]
  },
  {
   "cell_type": "code",
   "execution_count": 43,
   "metadata": {},
   "outputs": [
    {
     "name": "stdout",
     "output_type": "stream",
     "text": [
      "carData2[carData2.MSRP > 25000]\n",
      "    make    model   MSRP  year     dealership\n",
      "1   Ford   Taurus  27595  2018  Courtesy Ford\n",
      "4  Tesla  Model S  68000  2018            N/A\n"
     ]
    }
   ],
   "source": [
    "# selection and filtering\n",
    "\n",
    "print('carData2[carData2.MSRP > 25000]')  \n",
    "print(carData2[carData2.MSRP > 25000])"
   ]
  },
  {
   "cell_type": "markdown",
   "metadata": {},
   "source": [
    "## Arithmetic Operations"
   ]
  },
  {
   "cell_type": "code",
   "execution_count": 24,
   "metadata": {},
   "outputs": [
    {
     "name": "stdout",
     "output_type": "stream",
     "text": [
      "         x1        x2        x3\n",
      "0 -0.751767 -1.410192 -0.510111\n",
      "1 -0.648245 -0.150874  1.007967\n",
      "2  2.596144 -1.429856  0.882577\n",
      "3  1.915653  1.337755  1.665880\n",
      "4 -0.503776  1.234194 -0.779688\n",
      "Data transpose operation:\n",
      "           0         1         2         3         4\n",
      "x1 -0.751767 -0.648245  2.596144  1.915653 -0.503776\n",
      "x2 -1.410192 -0.150874 -1.429856  1.337755  1.234194\n",
      "x3 -0.510111  1.007967  0.882577  1.665880 -0.779688\n",
      "Addition:\n",
      "         x1        x2        x3\n",
      "0  3.248233  2.589808  3.489889\n",
      "1  3.351755  3.849126  5.007967\n",
      "2  6.596144  2.570144  4.882577\n",
      "3  5.915653  5.337755  5.665880\n",
      "4  3.496224  5.234194  3.220312\n",
      "Multiplication:\n",
      "          x1         x2         x3\n",
      "0  -7.517667 -14.101917  -5.101111\n",
      "1  -6.482454  -1.508737  10.079667\n",
      "2  25.961443 -14.298562   8.825769\n",
      "3  19.156525  13.377547  16.658797\n",
      "4  -5.037765  12.341939  -7.796881\n"
     ]
    }
   ],
   "source": [
    "print(data)\n",
    "\n",
    "print('Data transpose operation:')\n",
    "print(data.T)    # transpose operation\n",
    "\n",
    "print('Addition:')\n",
    "print(data + 4)    # addition operation\n",
    "\n",
    "print('Multiplication:')\n",
    "print(data * 10)   # multiplication operation"
   ]
  },
  {
   "cell_type": "code",
   "execution_count": 25,
   "metadata": {},
   "outputs": [
    {
     "name": "stdout",
     "output_type": "stream",
     "text": [
      "data =\n",
      "         x1        x2        x3\n",
      "0 -0.751767 -1.410192 -0.510111\n",
      "1 -0.648245 -0.150874  1.007967\n",
      "2  2.596144 -1.429856  0.882577\n",
      "3  1.915653  1.337755  1.665880\n",
      "4 -0.503776  1.234194 -0.779688\n",
      "\n",
      "data2 =\n",
      "         x1        x2        x3\n",
      "0  0.266569 -0.286393  0.343376\n",
      "1 -0.212594 -0.411405 -0.640251\n",
      "2  0.500915  0.668095 -1.237279\n",
      "3 -1.150745 -0.500188 -0.270155\n",
      "4 -1.337928 -1.280539  0.172210\n",
      "\n",
      "data + data2 = \n",
      "         x1        x2        x3\n",
      "0 -0.485198 -1.696585 -0.166735\n",
      "1 -0.860840 -0.562279  0.367716\n",
      "2  3.097059 -0.761761 -0.354702\n",
      "3  0.764908  0.837567  1.395725\n",
      "4 -1.841705 -0.046345 -0.607478\n",
      "\n",
      "data * data2 = \n",
      "         x1        x2        x3\n",
      "0 -0.200398  0.403869 -0.175160\n",
      "1  0.137813  0.062070 -0.645352\n",
      "2  1.300447 -0.955279 -1.091994\n",
      "3 -2.204428 -0.669128 -0.450046\n",
      "4  0.674017 -1.580434 -0.134270\n"
     ]
    }
   ],
   "source": [
    "print('data =')\n",
    "print(data)\n",
    "\n",
    "columnNames = ['x1','x2','x3']\n",
    "data2 = DataFrame(np.random.randn(5,3), columns=columnNames)\n",
    "print('\\ndata2 =')\n",
    "print(data2)\n",
    "\n",
    "print('\\ndata + data2 = ')\n",
    "print(data.add(data2))\n",
    "\n",
    "print('\\ndata * data2 = ')\n",
    "print(data.mul(data2))"
   ]
  },
  {
   "cell_type": "code",
   "execution_count": 26,
   "metadata": {},
   "outputs": [
    {
     "name": "stdout",
     "output_type": "stream",
     "text": [
      "         x1        x2        x3\n",
      "0  0.751767  1.410192  0.510111\n",
      "1  0.648245  0.150874  1.007967\n",
      "2  2.596144  1.429856  0.882577\n",
      "3  1.915653  1.337755  1.665880\n",
      "4  0.503776  1.234194  0.779688\n",
      "\n",
      "Maximum value per column:\n",
      "x1    2.596144\n",
      "x2    1.337755\n",
      "x3    1.665880\n",
      "dtype: float64\n",
      "\n",
      "Minimum value per row:\n",
      "0   -1.410192\n",
      "1   -0.648245\n",
      "2   -1.429856\n",
      "3    1.337755\n",
      "4   -0.779688\n",
      "dtype: float64\n",
      "\n",
      "Sum of values per column:\n",
      "x1    2.608008\n",
      "x2   -0.418973\n",
      "x3    2.266624\n",
      "dtype: float64\n",
      "\n",
      "Sum of all values:\n",
      "4.45565951668269\n",
      "\n",
      "Average value per row:\n",
      "0   -0.890690\n",
      "1    0.069616\n",
      "2    0.682955\n",
      "3    1.639762\n",
      "4   -0.016424\n",
      "dtype: float64\n",
      "\n",
      "Calculate max - min per column\n",
      "x1    3.347911\n",
      "x2    2.767611\n",
      "x3    2.445568\n",
      "dtype: float64\n",
      "\n",
      "Calculate max - min per row\n",
      "0    0.900081\n",
      "1    1.656212\n",
      "2    4.026001\n",
      "3    0.577898\n",
      "4    2.013882\n",
      "dtype: float64\n"
     ]
    }
   ],
   "source": [
    "print(data.abs())    # get the absolute value for each element\n",
    "\n",
    "print('\\nMaximum value per column:')\n",
    "print(data.max())    # get maximum value for each column\n",
    "#print(data.max(axis=1))    # get maximum value for each column\n",
    "\n",
    "print('\\nMinimum value per row:')\n",
    "print(data.min(axis=1))    # get minimum value for each row\n",
    "\n",
    "print('\\nSum of values per column:')\n",
    "print(data.sum())    # get sum of values for each column\n",
    "print('\\nSum of all values:')\n",
    "print(data.sum().sum())    # get sum over all values\n",
    "\n",
    "print('\\nAverage value per row:')\n",
    "print(data.mean(axis=1))    # get average value for each row\n",
    "\n",
    "print('\\nCalculate max - min per column')\n",
    "f = lambda x: x.max() - x.min()\n",
    "print(data.apply(f))\n",
    "\n",
    "print('\\nCalculate max - min per row')\n",
    "f = lambda x: x.max() - x.min()\n",
    "print(data.apply(f, axis=1))"
   ]
  },
  {
   "cell_type": "markdown",
   "metadata": {},
   "source": [
    "### Plotting Series and DataFrame\n",
    "\n",
    "There are built-in functions you can use to plot the data stored in a Series or a DataFrame."
   ]
  },
  {
   "cell_type": "code",
   "execution_count": 12,
   "metadata": {},
   "outputs": [
    {
     "data": {
      "image/png": "[encoded data removed]",
      "text/plain": [
       "<Figure size 432x288 with 1 Axes>"
      ]
     },
     "metadata": {
      "needs_background": "light"
     },
     "output_type": "display_data"
    }
   ],
   "source": [
    "%matplotlib inline\n",
    "import matplotlib.pyplot as plt\n",
    "\n",
    "s3 = Series([1.2,2.5,-2.2,3.1,-0.8,-3.2,1.4], \n",
    "            index = ['Jan 1','Jan 2','Jan 3','Jan 4','Jan 5','Jan 6','Jan 7'])\n",
    "s3.plot(kind='line', title='Line plot')\n",
    "plt.show()"
   ]
  },
  {
   "cell_type": "code",
   "execution_count": 4,
   "metadata": {},
   "outputs": [
    {
     "data": {
      "image/png": "[encoded data removed]",
      "text/plain": [
       "<Figure size 432x288 with 1 Axes>"
      ]
     },
     "metadata": {
      "needs_background": "light"
     },
     "output_type": "display_data"
    }
   ],
   "source": [
    "s3.plot(kind='bar', title='Bar plot')\n",
    "plt.show()"
   ]
  },
  {
   "cell_type": "code",
   "execution_count": 5,
   "metadata": {},
   "outputs": [
    {
     "data": {
      "image/png": "[encoded data removed]",
      "text/plain": [
       "<Figure size 432x288 with 1 Axes>"
      ]
     },
     "metadata": {
      "needs_background": "light"
     },
     "output_type": "display_data"
    }
   ],
   "source": [
    "s3.plot(kind='hist', title = 'Histogram')\n",
    "plt.show()"
   ]
  },
  {
   "cell_type": "code",
   "execution_count": 8,
   "metadata": {},
   "outputs": [
    {
     "data": {
      "image/png": "[encoded data removed]",
      "text/plain": [
       "<Figure size 432x288 with 1 Axes>"
      ]
     },
     "metadata": {
      "needs_background": "light"
     },
     "output_type": "display_data"
    }
   ],
   "source": [
    "tuplelist = [(2011,45.1,32.4),(2012,42.4,34.5),(2013,47.2,39.2),\n",
    "              (2014,44.2,31.4),(2015,39.9,29.8),(2016,41.5,36.7)]\n",
    "columnNames = ['year','temp','precip']\n",
    "weatherData = DataFrame(tuplelist, columns=columnNames)\n",
    "weatherData[['temp','precip']].plot(kind='box', title='Box plot')\n",
    "plt.show()"
   ]
  },
  {
   "cell_type": "markdown",
   "metadata": {},
   "source": [
    "## LAB\n",
    "\n"
   ]
  },
  {
   "cell_type": "code",
   "execution_count": 9,
   "metadata": {
    "scrolled": true
   },
   "outputs": [
    {
     "name": "stderr",
     "output_type": "stream",
     "text": [
      "지정된 파일을 찾을 수 없습니다.\n"
     ]
    }
   ],
   "source": [
    "!type stocks.txt"
   ]
  },
  {
   "cell_type": "code",
   "execution_count": 10,
   "metadata": {},
   "outputs": [],
   "source": [
    "import pandas as pd"
   ]
  },
  {
   "cell_type": "code",
   "execution_count": null,
   "metadata": {},
   "outputs": [],
   "source": [
    "stocks = pd.read_csv('stocks.txt', delimiter='\\t')"
   ]
  },
  {
   "cell_type": "code",
   "execution_count": null,
   "metadata": {},
   "outputs": [],
   "source": [
    "stocks[:5]"
   ]
  },
  {
   "cell_type": "code",
   "execution_count": null,
   "metadata": {},
   "outputs": [],
   "source": [
    "import numpy as np\n",
    "\n",
    "np.unique(stocks['symbol'])\n",
    "# np.unique(stocks.symbol)  # more rdb style"
   ]
  },
  {
   "cell_type": "code",
   "execution_count": null,
   "metadata": {},
   "outputs": [],
   "source": [
    "stocks.symbol"
   ]
  },
  {
   "cell_type": "code",
   "execution_count": null,
   "metadata": {},
   "outputs": [],
   "source": [
    "stocks.loc[:10,'symbol']"
   ]
  },
  {
   "cell_type": "code",
   "execution_count": null,
   "metadata": {},
   "outputs": [],
   "source": [
    "(stocks.closing_price > 200)[:5]"
   ]
  },
  {
   "cell_type": "code",
   "execution_count": null,
   "metadata": {},
   "outputs": [],
   "source": [
    "stocks[stocks.closing_price > 112][:5]"
   ]
  },
  {
   "cell_type": "code",
   "execution_count": null,
   "metadata": {
    "scrolled": true
   },
   "outputs": [],
   "source": [
    "stocks[stocks['symbol'] == 'AAPL'][:5]\n",
    "# stocks[stocks.symbol == 'AAPL']   # select * from stocks where stocks.symbol == 'AAPL'"
   ]
  },
  {
   "cell_type": "code",
   "execution_count": null,
   "metadata": {
    "slideshow": {
     "slide_type": "-"
    }
   },
   "outputs": [],
   "source": [
    "type(stocks['symbol'][0])"
   ]
  },
  {
   "cell_type": "code",
   "execution_count": null,
   "metadata": {
    "slideshow": {
     "slide_type": "-"
    }
   },
   "outputs": [],
   "source": [
    "type(stocks['date'][0])"
   ]
  },
  {
   "cell_type": "code",
   "execution_count": null,
   "metadata": {
    "slideshow": {
     "slide_type": "-"
    }
   },
   "outputs": [],
   "source": [
    "type(stocks['closing_price'][0])"
   ]
  },
  {
   "cell_type": "code",
   "execution_count": null,
   "metadata": {},
   "outputs": [],
   "source": [
    "from datetime import datetime\n",
    "\n",
    "date_parser = lambda x: datetime.strptime(x, '%Y-%m-%d')\n",
    "\n",
    "stocks = pd.read_csv('stocks.txt', delimiter='\\t', parse_dates=['date'], date_parser=date_parser)"
   ]
  },
  {
   "cell_type": "code",
   "execution_count": null,
   "metadata": {
    "slideshow": {
     "slide_type": "skip"
    }
   },
   "outputs": [],
   "source": [
    "stocks['date'][0]"
   ]
  },
  {
   "cell_type": "code",
   "execution_count": null,
   "metadata": {
    "scrolled": true
   },
   "outputs": [],
   "source": [
    "# stocks[stocks['symbol'] == 'AAPL' or stocks['symbol'] == 'MSFT']\n",
    "stocks[stocks['date'] >= datetime.strptime('1980-01-01', '%Y-%m-%d')][:5]"
   ]
  },
  {
   "cell_type": "code",
   "execution_count": null,
   "metadata": {
    "scrolled": true
   },
   "outputs": [],
   "source": [
    "# ~ (not), | (or), & (and)\n",
    "stocks[(stocks['symbol'] == 'AAPL') & (stocks['date'] >= datetime.strptime('1980-01-01', '%Y-%m-%d'))][:5]"
   ]
  },
  {
   "cell_type": "code",
   "execution_count": null,
   "metadata": {
    "scrolled": true
   },
   "outputs": [],
   "source": [
    "# [...] : projection\n",
    "projection = stocks[['symbol', 'closing_price']]\n",
    "# projection = stocks.loc[:,['symbol', 'closing_price']]\n",
    "projection[:5]"
   ]
  },
  {
   "cell_type": "code",
   "execution_count": null,
   "metadata": {
    "scrolled": true
   },
   "outputs": [],
   "source": [
    "# df == val : selection\n",
    "selection = projection[projection['closing_price'] <= 20]\n",
    "selection[:5]"
   ]
  },
  {
   "cell_type": "code",
   "execution_count": null,
   "metadata": {},
   "outputs": [],
   "source": [
    "# df == val : selection\n",
    "aggregation = selection.groupby('symbol')\n",
    "aggregation.count()"
   ]
  },
  {
   "cell_type": "code",
   "execution_count": null,
   "metadata": {},
   "outputs": [],
   "source": [
    "aggregation.sum()"
   ]
  },
  {
   "cell_type": "code",
   "execution_count": null,
   "metadata": {},
   "outputs": [],
   "source": [
    "aggregation.std()"
   ]
  },
  {
   "cell_type": "markdown",
   "metadata": {},
   "source": [
    "### Example: Rescaling"
   ]
  },
  {
   "cell_type": "code",
   "execution_count": null,
   "metadata": {
    "scrolled": true
   },
   "outputs": [],
   "source": [
    "price_mean = stocks['closing_price'].mean()\n",
    "price_std_dev = stocks['closing_price'].std()\n",
    "standarded_prices = (stocks['closing_price'] - price_mean) / price_std_dev\n",
    "standarded_prices[:5]"
   ]
  },
  {
   "cell_type": "code",
   "execution_count": null,
   "metadata": {
    "scrolled": true
   },
   "outputs": [],
   "source": [
    "stocks['std_closing_price'] = standarded_prices\n",
    "stocks[:5]"
   ]
  },
  {
   "cell_type": "code",
   "execution_count": null,
   "metadata": {},
   "outputs": [],
   "source": [
    "stocks['closing_price'] = standarded_prices\n",
    "stocks[:5]"
   ]
  },
  {
   "cell_type": "markdown",
   "metadata": {},
   "source": [
    "### Joining two dataframes is out of scope.\n",
    "- You will unserstand these operations very well after learning SQL.\n",
    "- https://medium.com/jbennetcodes/how-to-rewrite-your-sql-queries-in-pandas-and-more-149d341fc53e\n",
    "\n",
    "### You will find almost identical operations in SPARK dataframe"
   ]
  }
 ],
 "metadata": {
  "celltoolbar": "Slideshow",
  "hide_input": false,
  "kernelspec": {
   "display_name": "Python 3",
   "language": "python",
   "name": "python3"
  },
  "language_info": {
   "codemirror_mode": {
    "name": "ipython",
    "version": 3
   },
   "file_extension": ".py",
   "mimetype": "text/x-python",
   "name": "python",
   "nbconvert_exporter": "python",
   "pygments_lexer": "ipython3",
   "version": "3.7.6"
  },
  "toc": {
   "base_numbering": 1,
   "nav_menu": {},
   "number_sections": false,
   "sideBar": true,
   "skip_h1_title": true,
   "title_cell": "Table of Contents",
   "title_sidebar": "Contents",
   "toc_cell": false,
   "toc_position": {},
   "toc_section_display": true,
   "toc_window_display": false
  },
  "varInspector": {
   "cols": {
    "lenName": 16,
    "lenType": 16,
    "lenVar": 40
   },
   "kernels_config": {
    "python": {
     "delete_cmd_postfix": "",
     "delete_cmd_prefix": "del ",
     "library": "var_list.py",
     "varRefreshCmd": "print(var_dic_list())"
    },
    "r": {
     "delete_cmd_postfix": ") ",
     "delete_cmd_prefix": "rm(",
     "library": "var_list.r",
     "varRefreshCmd": "cat(var_dic_list()) "
    }
   },
   "types_to_exclude": [
    "module",
    "function",
    "builtin_function_or_method",
    "instance",
    "_Feature"
   ],
   "window_display": false
  }
 },
 "nbformat": 4,
 "nbformat_minor": 2
}
