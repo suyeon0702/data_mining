{
 "cells": [
  {
   "cell_type": "markdown",
   "metadata": {},
   "source": [
    "# Homework 2_1. Numpy and matplotlib"
   ]
  },
  {
   "cell_type": "markdown",
   "metadata": {},
   "source": [
    "***Double Click here to edit this cell***\n",
    "\n",
    "- Name: 김수연\n",
    "- Student ID: 201800839\n",
    "- Submission date: 2020 4/10"
   ]
  },
  {
   "cell_type": "markdown",
   "metadata": {},
   "source": [
    "## Remark. Use numpy wherever it is possible. \n"
   ]
  },
  {
   "cell_type": "markdown",
   "metadata": {},
   "source": [
    "## Total: 45 pts"
   ]
  },
  {
   "cell_type": "markdown",
   "metadata": {},
   "source": [
    "## Problem 1 (5 pts)\n",
    "\n",
    "- The centroid of a finite set of $\\displaystyle {k}$ points $\\displaystyle \\mathbf {x} _{1},\\mathbf {x} _{2},\\ldots ,\\mathbf {x} _{k}$ in $\\displaystyle \\mathbb {R} ^{n}$ is\n",
    "$$\n",
    "\\mathbf {C} ={\\frac {\\mathbf {x} _{1}+\\mathbf {x} _{2}+\\cdots +\\mathbf {x} _{k}}{k}}\n",
    "$$\n",
    "\n",
    "- This point minimizes the sum of squared Euclidean distances between itself and each point in the set.\n",
    "- Compute centroid\n",
    "- Plot dataset and centroid "
   ]
  },
  {
   "cell_type": "code",
   "execution_count": 1,
   "metadata": {
    "hide_input": false
   },
   "outputs": [],
   "source": [
    "%matplotlib inline\n",
    "\n",
    "import matplotlib.pyplot as plt\n",
    "import numpy as np\n",
    "\n",
    "def plot_centroid(data):\n",
    "    \"\"\" data numpy에 대해서 axis=0 방향으로 sum한 뒤, 점 개수만큼 나눠서 평균값을 구한다.\n",
    "        평균값의 x,y 좌표를 빨간 네모점으로 표시.\"\"\"\n",
    "    x = data[:,0]\n",
    "    y = data[:,1]\n",
    "    \n",
    "    plt.scatter(x, y)\n",
    "    num = x.size\n",
    "    ctrd = (np.sum(data, axis=0)) / num  # centroid\n",
    "    plt.scatter(ctrd[0], ctrd[1], c = 'red', marker = 's')\n",
    "    \n",
    "# YOUR CODE MUST BE HERE"
   ]
  },
  {
   "cell_type": "code",
   "execution_count": 2,
   "metadata": {},
   "outputs": [
    {
     "data": {
      "image/png": "[encoded data removed]",
      "text/plain": [
       "<Figure size 432x288 with 1 Axes>"
      ]
     },
     "metadata": {
      "needs_background": "light"
     },
     "output_type": "display_data"
    }
   ],
   "source": [
    "# DO NOT EDIT THIS CELL\n",
    "np.random.seed(0)\n",
    "data = np.random.randn(10,2)\n",
    "plot_centroid(data)"
   ]
  },
  {
   "cell_type": "markdown",
   "metadata": {},
   "source": [
    "**You output must be:**\n",
    "\n",
    "<img src=\"hw2_1.png\">"
   ]
  },
  {
   "cell_type": "markdown",
   "metadata": {},
   "source": [
    "## Problem 2 (10 pts)\n",
    "\n",
    "- Let $\\textstyle x_{1},x_{2},\\cdots ,x_{n}$ be a set of $\\textstyle n$ points in a space with a distance function $d$. \n",
    "- Medoid is defined as\n",
    "$$\n",
    "x_{\\text{medoid}} = \\text{argmin}_{y \\in \\{x_1, x_2, \\cdots, x_n\\}} \\sum_{i=1}^{n}d(y, x_i)\n",
    "$$\n",
    "- Compute medoid using Euclidean distance as a distance function.\n",
    "- Plot dataset and medoid\n",
    "- *Do not use sklearn, scipy or any module computing distance matrix directly*\n",
    "- Use numpy functions only"
   ]
  },
  {
   "cell_type": "code",
   "execution_count": 3,
   "metadata": {},
   "outputs": [],
   "source": [
    "%matplotlib inline\n",
    "\n",
    "import matplotlib.pyplot as plt\n",
    "import numpy as np\n",
    "\n",
    "def plot_medoid(data):\n",
    "    \"\"\"data에서 x좌표값과 y좌표값을 따로 분리해서 2차원([:,np.newaxis])으로 만든다.\n",
    "       x배열과 x배열의 전치행렬의 차를 제곱한다.\n",
    "       y배열과 y배열의 전치행렬의 차를 제곱한다.\n",
    "       그리고 제곱한 두 배열을 더하여 루트를 씌워주고, axis=0으로 sum.\n",
    "               = (해당 index의 점과 다른 점들 간의 거리를 모두 더한 것)\n",
    "       그것을 distance array(darr)라고 한다.\n",
    "       배열에서 가장작은 원소의 index값을 argmin()으로 찾는다.\n",
    "               = (medoid가 되는 점의 inxdex)\n",
    "               \n",
    "       +\n",
    "       점 그래프를 그릴때,\n",
    "       1. 아래의 (0)을 이용하여 전체 점을 그리고, medoid 점을 한번 덧그리기\n",
    "       2. medoid 점을 찾아 그리고, medoid를 제외한 점을 (1), (2)를 이용해서 그리기\n",
    "       위의 두가지 방법이 있는데, 2번 방법을 이용했다.\n",
    "       \"\"\"\n",
    "    x = data[:,0]\n",
    "    y = data[:,1]\n",
    "    \n",
    "    #plt.scatter(x,y) # ....(0)\n",
    "    \n",
    "    xarr = x[:, np.newaxis]\n",
    "    yarr = y[:, np.newaxis]\n",
    "    \n",
    "    darr = np.sqrt((xarr - xarr.T)**2 + (yarr - yarr.T)**2).sum(axis=0)\n",
    "    md_index = np.argmin(darr)\n",
    "    md = data[md_index, :]\n",
    "    \n",
    "    plt.scatter(md[0], md[1], c = 'red', marker = 's')\n",
    "    plt.scatter(x[0:md_index], y[0:md_index], c = 'C0') # ...(1)\n",
    "    plt.scatter(x[md_index+1:], y[md_index+1:], c = 'C0') # ...(2)\n",
    " \n",
    " # YOUR CODE MUST BE HERE"
   ]
  },
  {
   "cell_type": "code",
   "execution_count": 4,
   "metadata": {},
   "outputs": [
    {
     "data": {
      "image/png": "[encoded data removed]",
      "text/plain": [
       "<Figure size 432x288 with 1 Axes>"
      ]
     },
     "metadata": {
      "needs_background": "light"
     },
     "output_type": "display_data"
    }
   ],
   "source": [
    "# DO NOT EDIT THIS CELL\n",
    "np.random.seed(0)\n",
    "data = np.random.randn(10,2)\n",
    "plot_medoid(data)"
   ]
  },
  {
   "cell_type": "markdown",
   "metadata": {},
   "source": [
    "**You output must be:**\n",
    "\n",
    "<img src=\"hw2_2.png\">"
   ]
  },
  {
   "cell_type": "markdown",
   "metadata": {},
   "source": [
    "## Sample code"
   ]
  },
  {
   "cell_type": "code",
   "execution_count": 5,
   "metadata": {},
   "outputs": [
    {
     "data": {
      "image/png": "[encoded data removed]",
      "text/plain": [
       "<Figure size 432x288 with 1 Axes>"
      ]
     },
     "metadata": {
      "needs_background": "light"
     },
     "output_type": "display_data"
    }
   ],
   "source": [
    "%matplotlib inline\n",
    "\n",
    "import matplotlib.pyplot as plt\n",
    "import numpy as np\n",
    "\n",
    "def sample_code():\n",
    "    x = np.arange(10)\n",
    "    y = np.arange(10)\n",
    "    center = (0, 0)\n",
    "    radius = 10\n",
    "    plt.scatter(x, y)\n",
    "    ax = plt.gca()\n",
    "    ax.add_patch(plt.Circle(center, radius, color='r', alpha=0.2))\n",
    "    plt.axis('equal')\n",
    "    plt.show()\n",
    "    \n",
    "sample_code()"
   ]
  },
  {
   "cell_type": "markdown",
   "metadata": {},
   "source": [
    "## Problem 3 (5 pts)\n",
    "\n",
    "- We want to draw a scatter plot using **data**\n",
    "- Plot the center using a green square symbol\n",
    "- Plot points inside **radius** from center using red dots\n",
    "- Plot points out of the **radius** from center using 'C0' colored dots\n",
    "- Draw a filled circle centered at **center** using red color and alpha=0.2"
   ]
  },
  {
   "cell_type": "code",
   "execution_count": 6,
   "metadata": {},
   "outputs": [],
   "source": [
    "%matplotlib inline\n",
    "\n",
    "import matplotlib.pyplot as plt\n",
    "import numpy as np\n",
    "\n",
    "def points_within_radius(data, center, radius):\n",
    "    \"\"\" (data x좌표)-(center x좌표)의 제곱 + (data y좌표)-(center y좌표)의 제곱\n",
    "        위의 값에 루트를 취한 배열을 distance라고 한다.\n",
    "                = (center와 점들간의 거리)\n",
    "        argwhere이용\n",
    "        (x,y)와 center 사이의 거리가 radius 이하인 원소 index -> inside_index\n",
    "        (x,y)와 center 사이의 거리가 radius 초과인 원소 index -> outside_index\n",
    "        \n",
    "        <그림>\n",
    "        center는 초록색 네모 점\n",
    "        inside_index에 해당하는 data는 빨간색 둥근 점\n",
    "        outside_index에 해당하는 data는 파란색 둥근 점\"\"\"\n",
    "    ax = plt.gca()\n",
    "    ax.add_patch(plt.Circle(center, radius, color='r', alpha=0.2))\n",
    "    plt.axis('equal')\n",
    "    \n",
    "    #center와의 거리\n",
    "    distance = np.sqrt((data[:,0] - center[0])**2 + (data[:,1] - center[1])**2)\n",
    "    \n",
    "    # (x, y)와 center의 거리가 radius이하인지 초과인지에 따라 나눈다.\n",
    "    inside_index = np.argwhere(distance <= radius)\n",
    "    outside_index = np.argwhere(distance > radius)\n",
    "    \n",
    "    plt.scatter(data[inside_index,0], data[inside_index,1], c = 'red')\n",
    "    plt.scatter(data[outside_index,0], data[outside_index,1], c = 'C0')\n",
    "\n",
    "    plt.scatter(center[0], center[1], c = 'green', marker = 's')\n",
    "\n",
    "# YOUR CODE MUST BE HERE"
   ]
  },
  {
   "cell_type": "code",
   "execution_count": 7,
   "metadata": {},
   "outputs": [
    {
     "data": {
      "image/png": "[encoded data removed]",
      "text/plain": [
       "<Figure size 432x288 with 1 Axes>"
      ]
     },
     "metadata": {
      "needs_background": "light"
     },
     "output_type": "display_data"
    }
   ],
   "source": [
    "# DO NOT EDIT THIS CELL\n",
    "np.random.seed(1)\n",
    "data = np.random.randn(10,2)\n",
    "radius = 3.0\n",
    "center = np.random.randn(2)\n",
    "points_within_radius(data, center, radius)"
   ]
  },
  {
   "cell_type": "markdown",
   "metadata": {},
   "source": [
    "**You output must be:**\n",
    "\n",
    "<img src=\"hw2_3.png\">"
   ]
  },
  {
   "cell_type": "markdown",
   "metadata": {},
   "source": [
    "## Problem 4 (10 pts)\n",
    "\n",
    "- We want to find k nearest points from the center\n",
    "- Plot the center using a green square symbol\n",
    "- Plot k-nearest points from center using red dots\n",
    "- Plot other points using 'C0' colored dots\n",
    "- Draw a filled circle centered at **center** using red color and alpha=0.2\n",
    "- *Do not use sklearn, scipy or any module computing k-nearest points directly*\n",
    "- Use numpy functions only"
   ]
  },
  {
   "cell_type": "code",
   "execution_count": 8,
   "metadata": {},
   "outputs": [],
   "source": [
    "%matplotlib inline\n",
    "\n",
    "import matplotlib.pyplot as plt\n",
    "import numpy as np\n",
    "\n",
    "def points_k_nearest(data, center, k=1):\n",
    "    \"\"\" k번째로 가까운 점 = distance가 k번째로 작은 점\n",
    "                          = 실제 배열에서는 k-1번째로 작은 점(0부터 시작)\n",
    "        data의 점들과 center사이의 거리를 구해서 distance 배열 구하기\n",
    "        \n",
    "        argpartition 이용해서 k-1번째 기준으로 partition된 distance배열의 index 배열 구하기\n",
    "        index 배열의 k-1번째 원소 => k번째로 가까운 점의 index\n",
    "        distance[k번째로 가까운 점의 index] = radius\n",
    "        \n",
    "        argwhere이용\n",
    "        distance가 radius 이하인 원소 index -> inside_index\n",
    "        distance가 radius 초과인 원소 index -> outside_index\n",
    "        \n",
    "        <그림>\n",
    "        inside_index에 해당하는 data -> 빨간 둥근 점\n",
    "        outside_index에 해당하는 data -> 파란 둥근 점\n",
    "        center -> 초록 네모 점\n",
    "        Circle의 radius는 코드에서 새로 설정된 만큼(kth)\n",
    "        \"\"\"\n",
    "    #center와의 거리\n",
    "    distance = np.sqrt((data[:,0] - center[0])**2 + (data[:,1] - center[1])**2)\n",
    "    k_partindex = np.argpartition(distance, k-1)\n",
    "    radius = distance[k_partindex[k-1]]\n",
    "    \n",
    "    inside_index = np.argwhere(distance <= radius)\n",
    "    outside_index = np.argwhere(distance > radius)\n",
    "    \n",
    "    plt.scatter(data[inside_index,0], data[inside_index,1], c = 'red')\n",
    "    plt.scatter(data[outside_index,0], data[outside_index,1], c = 'C0')\n",
    "    plt.scatter(center[0], center[1], c = 'green', marker = 's')\n",
    "    \n",
    "    ax = plt.gca()\n",
    "    ax.add_patch(plt.Circle(center, radius, color='r', alpha=0.2))\n",
    "    plt.axis('equal')\n",
    "    \n",
    "# YOUR CODE MUST BE HERE"
   ]
  },
  {
   "cell_type": "code",
   "execution_count": 9,
   "metadata": {},
   "outputs": [
    {
     "data": {
      "image/png": "[encoded data removed]",
      "text/plain": [
       "<Figure size 432x288 with 1 Axes>"
      ]
     },
     "metadata": {
      "needs_background": "light"
     },
     "output_type": "display_data"
    }
   ],
   "source": [
    "# DO NOT EDIT THIS CELL\n",
    "np.random.seed(1)\n",
    "data = np.random.randn(10,2)\n",
    "k = 5\n",
    "center = np.random.randn(2)\n",
    "points_k_nearest(data, center, k)"
   ]
  },
  {
   "cell_type": "markdown",
   "metadata": {},
   "source": [
    "**You output must be:**\n",
    "\n",
    "<img src=\"hw2_4.png\">"
   ]
  },
  {
   "cell_type": "code",
   "execution_count": 10,
   "metadata": {},
   "outputs": [
    {
     "data": {
      "image/png": "[encoded data removed]",
      "text/plain": [
       "<Figure size 432x288 with 1 Axes>"
      ]
     },
     "metadata": {
      "needs_background": "light"
     },
     "output_type": "display_data"
    }
   ],
   "source": [
    "# DO NOT EDIT THIS CELL\n",
    "np.random.seed(1)\n",
    "data = np.array([[1.,0.],[0.,1.],[-1.,0.],[0.,-1.],[1.,1.],[1.,-1.],[-1.,1.],[-1.,-1.]])\n",
    "np.random.shuffle(data)\n",
    "k = 1\n",
    "center = np.array([0.,0.])\n",
    "points_k_nearest(data, center, k)"
   ]
  },
  {
   "cell_type": "markdown",
   "metadata": {},
   "source": [
    "**You output must be:**\n",
    "\n",
    "<img src=\"hw2_5.png\">"
   ]
  },
  {
   "cell_type": "markdown",
   "metadata": {},
   "source": [
    "## Problem 5 (15 pts)\n",
    "\n",
    "- **find_k_nearest_index** returns the index of the k-nearest\n",
    "- We want to time the execution\n",
    "- *Do not use sklearn, scipy or any module computing k-nearest points directly*\n",
    "- Use numpy functions only\n",
    "- Points: \n",
    "    - less than or equal to 1000ms: 15 pts\n",
    "    - less than or equal to 10s: 10 pts\n",
    "    - greater than 10s: 5 pts"
   ]
  },
  {
   "cell_type": "code",
   "execution_count": 11,
   "metadata": {},
   "outputs": [],
   "source": [
    "import numpy as np\n",
    "\n",
    "def find_k_nearest_index(data, center, k=1):\n",
    "    \"\"\" center와 data 점들 사이의 거리를 구해 distance 배열 만들기.\n",
    "        \n",
    "        k번째로 가까운 점 = distance가 k번째로 작은 점\n",
    "                          = 실제 배열에서는 distance가 k-1번째로 작은 점\n",
    "                          \n",
    "        argpartition 이용\n",
    "        distance에서 k-1번째로 작은 원소를 기준으로 partition하고 그 인덱스 반환\n",
    "        index를 처음부터 k-1번째까지 출력(k_partindex[0:k])\"\"\"\n",
    "    # center와의 거리 \n",
    "    distance = np.sqrt((data[:,0] - center[0])**2 + (data[:,1] - center[1])**2)\n",
    "    k_partindex = np.argpartition(distance, k-1)\n",
    "\n",
    "    return np.int32(k_partindex[0:k])\n",
    "\n",
    "# YOUR CODE MUST BE HERE"
   ]
  },
  {
   "cell_type": "code",
   "execution_count": 12,
   "metadata": {},
   "outputs": [
    {
     "name": "stdout",
     "output_type": "stream",
     "text": [
      "Wall time: 348 ms\n"
     ]
    },
    {
     "data": {
      "text/plain": [
       "array([4362536, 6716705, 6845205, 7607470, 3146213])"
      ]
     },
     "execution_count": 12,
     "metadata": {},
     "output_type": "execute_result"
    }
   ],
   "source": [
    "# DO NOT EDIT THIS CELL\n",
    "np.random.seed(1)\n",
    "data = np.random.randn(10000000,2)   # 10 million data\n",
    "k = 5\n",
    "center = np.random.randn(2)\n",
    "%time find_k_nearest_index(data, center, k)"
   ]
  },
  {
   "cell_type": "markdown",
   "metadata": {},
   "source": [
    "**Your time must be around:**\n",
    "```\n",
    "Wall time: 419 ms\n",
    "```\n",
    "**You output must be:**\n",
    "```\n",
    "array([3146213, 4362536, 6716705, 6845205, 7607470])\n",
    "```"
   ]
  },
  {
   "cell_type": "markdown",
   "metadata": {},
   "source": [
    "## Ethics:\n",
    "If you cheat, you will get negatgive of the total points.\n",
    "If the homework total is 22 and you cheat, you get -22."
   ]
  },
  {
   "cell_type": "markdown",
   "metadata": {},
   "source": [
    "## What to submit\n",
    "- Run **all cells**\n",
    "- Goto \"File -> Print Preview\"\n",
    "- Print the page as pdf\n",
    "- Submit the pdf file in google classroom\n",
    "- No late homeworks accepted\n",
    "- Your homework will be graded on the basis of correctness and programming skills"
   ]
  }
 ],
 "metadata": {
  "hide_input": false,
  "kernelspec": {
   "display_name": "Python 3",
   "language": "python",
   "name": "python3"
  },
  "language_info": {
   "codemirror_mode": {
    "name": "ipython",
    "version": 3
   },
   "file_extension": ".py",
   "mimetype": "text/x-python",
   "name": "python",
   "nbconvert_exporter": "python",
   "pygments_lexer": "ipython3",
   "version": "3.7.6"
  }
 },
 "nbformat": 4,
 "nbformat_minor": 2
}
