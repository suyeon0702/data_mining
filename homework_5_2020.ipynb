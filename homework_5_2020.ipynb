{
 "cells": [
  {
   "cell_type": "markdown",
   "metadata": {},
   "source": [
    "# Homework 5. Pandas - Titanic"
   ]
  },
  {
   "cell_type": "markdown",
   "metadata": {},
   "source": [
    "***Double Click here to edit this cell***\n",
    "\n",
    "- Name: 김수연\n",
    "- Student ID: 201800839\n",
    "- Submission date: 2020 5/24 SUN"
   ]
  },
  {
   "cell_type": "markdown",
   "metadata": {},
   "source": [
    "## IMPORTANT: \n",
    "- Do NOT use numpy or matplotlib functions. Use Pandas functions. \n",
    "- Remember we are praticing pandas!"
   ]
  },
  {
   "cell_type": "code",
   "execution_count": 1,
   "metadata": {},
   "outputs": [],
   "source": [
    "import pandas as pd"
   ]
  },
  {
   "cell_type": "code",
   "execution_count": 2,
   "metadata": {},
   "outputs": [],
   "source": [
    "titanic = pd.read_csv('titanic_dataset.csv')"
   ]
  },
  {
   "cell_type": "markdown",
   "metadata": {},
   "source": [
    "## Problem 1. Find mean fare that the first class passengers paid (In Korean current currency) (5 pts)\n",
    "- Note that there are many unpaid free passengers. **Do NOT take unpaid free passengers into consideration.**\n",
    "- 1 pound when Titanic launched is worth 57.5 US dollars. \n",
    "- Suppose US currency exchange ratio is 1230 won per dollar."
   ]
  },
  {
   "cell_type": "code",
   "execution_count": 3,
   "metadata": {},
   "outputs": [
    {
     "name": "stdout",
     "output_type": "stream",
     "text": [
      "mean fare that the first class passengers paid = 6326173.16\n"
     ]
    }
   ],
   "source": [
    "# YOUR CODE HERE\n",
    "data1 = titanic[(titanic.pclass == 1) & (titanic.fare > 0)]\n",
    "fare = data1['fare']\n",
    "mean_p = fare.sum() / len(fare)\n",
    "mean_d = mean_p * 57.5\n",
    "mean_w = mean_d * 1230\n",
    "print(\"mean fare that the first class passengers paid = {:>.2f}\".format(mean_w))"
   ]
  },
  {
   "cell_type": "markdown",
   "metadata": {},
   "source": [
    "```\n",
    "mean fare that the first class passengers paid = 6326173.16\n",
    "```"
   ]
  },
  {
   "cell_type": "markdown",
   "metadata": {},
   "source": [
    "## Problem 2. (15 pts)\n",
    "### 2.1 Find the **name**s who paid the highest **fare**. Are they **survived**?"
   ]
  },
  {
   "cell_type": "code",
   "execution_count": 4,
   "metadata": {},
   "outputs": [
    {
     "name": "stdout",
     "output_type": "stream",
     "text": [
      "                                                  name  survived\n",
      "49                  Cardeza, Mr. Thomas Drake Martinez         1\n",
      "50   Cardeza, Mrs. James Warburton Martinez (Charlo...         1\n",
      "183                             Lesurer, Mr. Gustave J         1\n",
      "302                                   Ward, Miss. Anna         1\n"
     ]
    }
   ],
   "source": [
    "# YOUR CODE HERE\n",
    "highfare = titanic['fare'].max()\n",
    "highfare_svd = titanic[(titanic.survived == 1) & (titanic.fare == highfare)]\n",
    "data2_1 = highfare_svd[['name', 'survived']]\n",
    "print(data2_1)"
   ]
  },
  {
   "cell_type": "markdown",
   "metadata": {},
   "source": [
    "```\n",
    "                                                  name  survived\n",
    "49                  Cardeza, Mr. Thomas Drake Martinez         1\n",
    "50   Cardeza, Mrs. James Warburton Martinez (Charlo...         1\n",
    "183                             Lesurer, Mr. Gustave J         1\n",
    "302                                   Ward, Miss. Anna         1\n",
    "```"
   ]
  },
  {
   "cell_type": "markdown",
   "metadata": {},
   "source": [
    "### 2.2 Find the **name**s who paid the lowest **fare**. Are they **survived**?"
   ]
  },
  {
   "cell_type": "code",
   "execution_count": 5,
   "metadata": {},
   "outputs": [
    {
     "name": "stdout",
     "output_type": "stream",
     "text": [
      "                                       name  pclass  survived\n",
      "7                    Andrews, Mr. Thomas Jr       1         0\n",
      "70    Chisholm, Mr. Roderick Robert Crispin       1         0\n",
      "125                        Fry, Mr. Richard       1         0\n",
      "150                   Harrison, Mr. William       1         0\n",
      "170                 Ismay, Mr. Joseph Bruce       1         1\n",
      "223           Parr, Mr. William Henry Marsh       1         0\n",
      "234         Reuchlin, Jonkheer. John George       1         0\n",
      "363                   Campbell, Mr. William       2         0\n",
      "384          Cunningham, Mr. Alfred Fleming       2         0\n",
      "410        Frost, Mr. Anthony Wood \"Archie\"       2         0\n",
      "473                    Knight, Mr. Robert J       2         0\n",
      "528             Parkes, Mr. Francis \"Frank\"       2         0\n",
      "581              Watson, Mr. Ennis Hastings       2         0\n",
      "896                     Johnson, Mr. Alfred       3         0\n",
      "898         Johnson, Mr. William Cahoone Jr       3         0\n",
      "963                     Leonard, Mr. Lionel       3         0\n",
      "1254           Tornquist, Mr. William Henry       3         1\n"
     ]
    }
   ],
   "source": [
    "# YOUR CODE HERE\n",
    "lowfare = titanic['fare'].min()\n",
    "lowfare_data = titanic[(titanic.fare == lowfare)]\n",
    "data2_2 = lowfare_data[['name', 'pclass', 'survived']]\n",
    "print(data2_2)"
   ]
  },
  {
   "cell_type": "markdown",
   "metadata": {},
   "source": [
    "```\n",
    "                                       name  pclass  survived\n",
    "7                    Andrews, Mr. Thomas Jr       1         0\n",
    "70    Chisholm, Mr. Roderick Robert Crispin       1         0\n",
    "125                        Fry, Mr. Richard       1         0\n",
    "150                   Harrison, Mr. William       1         0\n",
    "170                 Ismay, Mr. Joseph Bruce       1         1\n",
    "223           Parr, Mr. William Henry Marsh       1         0\n",
    "234         Reuchlin, Jonkheer. John George       1         0\n",
    "363                   Campbell, Mr. William       2         0\n",
    "384          Cunningham, Mr. Alfred Fleming       2         0\n",
    "410        Frost, Mr. Anthony Wood \"Archie\"       2         0\n",
    "473                    Knight, Mr. Robert J       2         0\n",
    "528             Parkes, Mr. Francis \"Frank\"       2         0\n",
    "581              Watson, Mr. Ennis Hastings       2         0\n",
    "896                     Johnson, Mr. Alfred       3         0\n",
    "898         Johnson, Mr. William Cahoone Jr       3         0\n",
    "963                     Leonard, Mr. Lionel       3         0\n",
    "1254           Tornquist, Mr. William Henry       3         1\n",
    "```"
   ]
  },
  {
   "cell_type": "markdown",
   "metadata": {},
   "source": [
    "### 2.3 Find the **name**s who paid the lowest **fare** (> 0). Are they **survived**?"
   ]
  },
  {
   "cell_type": "code",
   "execution_count": 6,
   "metadata": {},
   "outputs": [
    {
     "name": "stdout",
     "output_type": "stream",
     "text": [
      "                           name  pclass  survived\n",
      "1082  Olsen, Master. Artur Karl       3         1\n"
     ]
    }
   ],
   "source": [
    "# YOUR CODE HERE\n",
    "not_zerofare = titanic[titanic.fare > 0]\n",
    "lowest = titanic[titanic.fare == not_zerofare['fare'].min()]\n",
    "who_is_lowest = lowest[['name', 'pclass', 'survived']]\n",
    "print(who_is_lowest)"
   ]
  },
  {
   "cell_type": "markdown",
   "metadata": {},
   "source": [
    "```\n",
    "                           name  pclass  survived\n",
    "1082  Olsen, Master. Artur Karl       3         1\n",
    "```"
   ]
  },
  {
   "cell_type": "markdown",
   "metadata": {},
   "source": [
    "## Problem 3. (10 pts)\n",
    "### 3.1 Find the survival ratio who paid more than 0 and less than or equal to the mean fare of third class"
   ]
  },
  {
   "cell_type": "code",
   "execution_count": 7,
   "metadata": {},
   "outputs": [
    {
     "name": "stdout",
     "output_type": "stream",
     "text": [
      "survived ratio of low 1 group = 25.33%\n"
     ]
    }
   ],
   "source": [
    "# YOUR CODE HERE\n",
    "\n",
    "third_fare = titanic[(titanic.pclass == 3) & (titanic.fare > 0)]\n",
    "third_faremean = third_fare['fare'].sum() / len(third_fare)\n",
    "data3_1 = titanic[(titanic.fare <= third_faremean) & (titanic.fare > 0)]\n",
    "svd = data3_1[data3_1.survived == 1]\n",
    "ratio = (len(svd) / len(data3_1)) * 100\n",
    "print(\"survived ratio of low 1 group = {:>.2f}%\".format(ratio))"
   ]
  },
  {
   "cell_type": "markdown",
   "metadata": {},
   "source": [
    "```\n",
    "survived ratio of low 1 group = 25.33%\n",
    "```"
   ]
  },
  {
   "cell_type": "markdown",
   "metadata": {},
   "source": [
    "### 3.2 Find the survival ratio who paid more than the mean fare of first class"
   ]
  },
  {
   "cell_type": "code",
   "execution_count": 8,
   "metadata": {},
   "outputs": [
    {
     "name": "stdout",
     "output_type": "stream",
     "text": [
      "survived ratio of high 1 group = 72.16%\n"
     ]
    }
   ],
   "source": [
    "# YOUR CODE HERE\n",
    "\n",
    "firstclass = titanic[titanic.pclass == 1]  # & (first_fare.fare > 0) # 여기에서는 fare = 0 인 것들도 포함해야 예시 답안과 일치함.\n",
    "first_faremean = firstclass['fare'].sum() / len(firstclass)          # 따라서 1번의 mean_p(fare 평균(pound))와 차이가 생김.\n",
    "data3_2 = titanic[titanic.fare > first_faremean]\n",
    "rate = len(data3_2[data3_2.survived == 1]) / len(data3_2) * 100\n",
    "print(\"survived ratio of high 1 group = {:>.2f}%\".format(rate))"
   ]
  },
  {
   "cell_type": "markdown",
   "metadata": {},
   "source": [
    "```\n",
    "survived ratio of high 1 group = 72.16%\n",
    "```"
   ]
  },
  {
   "cell_type": "markdown",
   "metadata": {},
   "source": [
    "## Problem 4. (10 pts)\n",
    "### 4.1 Plot the number of male and female passengers"
   ]
  },
  {
   "cell_type": "code",
   "execution_count": 9,
   "metadata": {
    "scrolled": true
   },
   "outputs": [
    {
     "data": {
      "image/png": "[encoded data removed]",
      "text/plain": [
       "<Figure size 432x288 with 1 Axes>"
      ]
     },
     "metadata": {
      "needs_background": "light"
     },
     "output_type": "display_data"
    }
   ],
   "source": [
    "# YOUR CODE HERE\n",
    "%matplotlib inline\n",
    "%matplotlib inline\n",
    "import matplotlib.pyplot as plt\n",
    "\n",
    "female = titanic[titanic.sex == 'female']\n",
    "male = titanic[titanic.sex == 'male']\n",
    "sex = ['female', 'male']\n",
    "\n",
    "data4_1 = pd.DataFrame({'name' : [len(female), len(male)]},\n",
    "                       index = sex)\n",
    "data4_1.plot(kind = 'bar')\n",
    "plt.legend(loc = 0)\n",
    "plt.show()"
   ]
  },
  {
   "cell_type": "markdown",
   "metadata": {},
   "source": [
    "<img src=\"hw5_1.png\">"
   ]
  },
  {
   "cell_type": "markdown",
   "metadata": {},
   "source": [
    "### 4.2 Plot mean age and mean fare by sex"
   ]
  },
  {
   "cell_type": "code",
   "execution_count": 10,
   "metadata": {},
   "outputs": [
    {
     "data": {
      "image/png": "[encoded data removed]",
      "text/plain": [
       "<Figure size 432x288 with 1 Axes>"
      ]
     },
     "metadata": {
      "needs_background": "light"
     },
     "output_type": "display_data"
    }
   ],
   "source": [
    "# YOUR CODE HERE\n",
    "%matplotlib inline\n",
    "import matplotlib.pyplot as plt\n",
    "\n",
    "data4_2 = titanic[['age', 'fare', 'sex']]\n",
    "data_f = data4_2[data4_2.sex == 'female']\n",
    "data_m = data4_2[data4_2.sex == 'male']\n",
    "\n",
    "data_f2 = data_f.notnull()\n",
    "data_m2 = data_m.notnull()\n",
    "age_f = data_f2[data_f2.age == True]\n",
    "age_m = data_m2[data_m2.age == True]\n",
    "agemean_f = data_f['age'].sum() / len(age_f)\n",
    "agemean_m = data_m['age'].sum() / len(age_m)\n",
    "\n",
    "faremean_f = data_f[data_f.fare > 0]['fare'].sum() / len(data_f[data_f.fare > 0])\n",
    "faremean_m = data_m[data_m.fare > 0]['fare'].sum() / len(data_m[data_m.fare > 0])\n",
    "\n",
    "plot4_2 = pd.DataFrame({'age': [agemean_f, agemean_m],\n",
    "                        'fare' : [faremean_f, faremean_m]}, index = ['female', 'male'])\n",
    "plot4_2.plot(kind = 'bar')\n",
    "\n",
    "plt.legend(loc = 0)\n",
    "plt.show()"
   ]
  },
  {
   "cell_type": "markdown",
   "metadata": {},
   "source": [
    "<img src=\"hw5_2.png\">"
   ]
  },
  {
   "cell_type": "markdown",
   "metadata": {},
   "source": [
    "## Problem 5. (10 pts)\n",
    "### 5.1 Find the number of passengers by passenger's title."
   ]
  },
  {
   "cell_type": "code",
   "execution_count": 11,
   "metadata": {},
   "outputs": [
    {
     "name": "stdout",
     "output_type": "stream",
     "text": [
      "Mr.          757\n",
      "Miss.        260\n",
      "Mrs.         197\n",
      "Master.       61\n",
      "Dr.            8\n",
      "Rev.           8\n",
      "Col.           4\n",
      "Mlle.          2\n",
      "Ms.            2\n",
      "Major.         2\n",
      "Don.           1\n",
      "Countess.      1\n",
      "Jonkheer.      1\n",
      "Mme.           1\n",
      "Sir.           1\n",
      "Dona.          1\n",
      "Capt.          1\n",
      "Lady.          1\n",
      "Name: name, dtype: int64\n"
     ]
    }
   ],
   "source": [
    "# YOUR CODE HERE\n",
    "title = lambda x: x.partition('.')[0] + x.partition('.')[1]\n",
    "title2 = lambda x: x.split()[-1]\n",
    "titanic[['name']]\n",
    "tmp = titanic['name']\n",
    "\n",
    "tmp2 = tmp.apply(title)\n",
    "title_data = tmp2.apply(title2).value_counts()\n",
    "print(title_data)"
   ]
  },
  {
   "cell_type": "markdown",
   "metadata": {},
   "source": [
    "```\n",
    " Mr.          757\n",
    " Miss.        260\n",
    " Mrs.         197\n",
    " Master.       61\n",
    " Rev.           8\n",
    " Dr.            8\n",
    " Col.           4\n",
    " Ms.            2\n",
    " Mlle.          2\n",
    " Major.         2\n",
    " Jonkheer.      1\n",
    " Sir.           1\n",
    " Capt.          1\n",
    " Countess.      1\n",
    " Lady.          1\n",
    " Don.           1\n",
    " Mme.           1\n",
    " Dona.          1\n",
    "Name: name, dtype: int64\n",
    "```"
   ]
  },
  {
   "cell_type": "markdown",
   "metadata": {},
   "source": [
    "### 5.2 Plot the mean fare by passenger's title"
   ]
  },
  {
   "cell_type": "code",
   "execution_count": 12,
   "metadata": {},
   "outputs": [
    {
     "data": {
      "image/png": "[encoded data removed]",
      "text/plain": [
       "<Figure size 432x288 with 1 Axes>"
      ]
     },
     "metadata": {
      "needs_background": "light"
     },
     "output_type": "display_data"
    }
   ],
   "source": [
    "# YOUR CODE HERE\n",
    "%matplotlib inline\n",
    "import matplotlib.pyplot as plt\n",
    "\n",
    "sorted_title = title_data.sort_index()\n",
    "bar = pd.DataFrame(sorted_title)\n",
    "bar.plot(kind = 'bar')\n",
    "plt.show()"
   ]
  },
  {
   "cell_type": "markdown",
   "metadata": {},
   "source": [
    "<img src=\"hw5_3.png\">"
   ]
  },
  {
   "cell_type": "markdown",
   "metadata": {},
   "source": [
    "## Problem 6. (15 pts)\n",
    "### Compute the confidence and support for the following cases:\n",
    "- Print probability in percent format and truncate all probability values to 2 decimal places\n",
    "\n",
    "Confidences:\n",
    "- P(survived = 1 | sex=female, pclass=1)\n",
    "- P(survived = 1 | sex=female, pclass=2)\n",
    "- P(survived = 1 | sex=female, pclass=3)\n",
    "- P(survived = 1 | sex=male, pclass=1)\n",
    "- P(survived = 1 | sex=male, pclass=2)\n",
    "- P(survived = 1 | sex=male, pclass=3)\n",
    "- P(survived = 1 | age <= 10, pclass=1)\n",
    "- P(survived = 1 | age <= 10, pclass=2)\n",
    "- P(survived = 1 | age <= 10, pclass=3)\n",
    "\n",
    "Support:\n",
    "- P(survived = 1, sex=female, pclass=1)\n",
    "- P(survived = 1, sex=female, pclass=2)\n",
    "- P(survived = 1, sex=female, pclass=3)\n",
    "- P(survived = 1, sex=male, pclass=1)\n",
    "- P(survived = 1, sex=male, pclass=2)\n",
    "- P(survived = 1, sex=male, pclass=3)\n",
    "- P(survived = 1, age <= 10, pclass=1)\n",
    "- P(survived = 1, age <= 10, pclass=2)\n",
    "- P(survived = 1, age <= 10, pclass=3)"
   ]
  },
  {
   "cell_type": "markdown",
   "metadata": {},
   "source": [
    "### 6.1 P(survived = 1 | sex=female, pclass=1), P(survived = 1, sex=female, pclass=1)"
   ]
  },
  {
   "cell_type": "code",
   "execution_count": 13,
   "metadata": {},
   "outputs": [
    {
     "name": "stdout",
     "output_type": "stream",
     "text": [
      "Confidence: P(survived = 1 | sex=female, pclass=1) =  96.53\n",
      "Support: P(survived = 1, sex=female, pclass=1) =  10.62\n"
     ]
    }
   ],
   "source": [
    "# YOUR CODE HERE\n",
    "first_f = titanic[(titanic.sex == 'female') & (titanic.pclass == 1)]\n",
    "con= 100 * len(first_f[first_f.survived == 1]) / len(first_f)\n",
    "sup = 100* len(first_f[first_f.survived == 1]) / len(titanic)\n",
    "print(\"Confidence: P(survived = 1 | sex=female, pclass=1) = \", round(con, 2))\n",
    "print(\"Support: P(survived = 1, sex=female, pclass=1) = \", round(sup, 2))"
   ]
  },
  {
   "cell_type": "markdown",
   "metadata": {},
   "source": [
    "```\n",
    "Confidence: P(survived = 1 | sex=female, pclass=1) = 96.53\n",
    "Support: P(survived = 1, sex=female, pclass=1) = 10.62\n",
    "```"
   ]
  },
  {
   "cell_type": "markdown",
   "metadata": {},
   "source": [
    "### 6.2 P(survived = 1 | sex=female, pclass=2), P(survived = 1, sex=female, pclass=2)"
   ]
  },
  {
   "cell_type": "code",
   "execution_count": 14,
   "metadata": {},
   "outputs": [
    {
     "name": "stdout",
     "output_type": "stream",
     "text": [
      "Confidence: P(survived = 1 | sex=female, pclass=2) =  88.68\n",
      "Support: P(survived = 1, sex=female, pclass=2) =  7.18\n"
     ]
    }
   ],
   "source": [
    "# YOUR CODE HERE\n",
    "second_f = titanic[(titanic.sex == 'female') & (titanic.pclass == 2)]\n",
    "con = 100 * len(second_f[second_f.survived == 1]) / len(second_f)\n",
    "sup = 100* len(second_f[second_f.survived == 1]) / len(titanic)\n",
    "print(\"Confidence: P(survived = 1 | sex=female, pclass=2) = \", round(con, 2))\n",
    "print(\"Support: P(survived = 1, sex=female, pclass=2) = \", round(sup, 2))"
   ]
  },
  {
   "cell_type": "markdown",
   "metadata": {},
   "source": [
    "```\n",
    "Confidence: P(survived = 1 | sex=female, pclass=2) = 88.68\n",
    "Support: P(survived = 1, sex=female, pclass=2) = 7.18\n",
    "```"
   ]
  },
  {
   "cell_type": "markdown",
   "metadata": {},
   "source": [
    "### 6.3 P(survived = 1 | sex=female, pclass=3), P(survived = 1, sex=female, pclass=3)"
   ]
  },
  {
   "cell_type": "code",
   "execution_count": 15,
   "metadata": {},
   "outputs": [
    {
     "name": "stdout",
     "output_type": "stream",
     "text": [
      "Confidence: P(survived = 1 | sex=female, pclass=3) =  49.07\n",
      "Support: P(survived = 1, sex=female, pclass=3) =  8.1\n"
     ]
    }
   ],
   "source": [
    "# YOUR CODE HERE\n",
    "third_f = titanic[(titanic.sex == 'female') & (titanic.pclass == 3)]\n",
    "con = 100 * len(third_f[third_f.survived == 1]) / len(third_f)\n",
    "sup = 100* len(third_f[third_f.survived == 1]) / len(titanic)\n",
    "print(\"Confidence: P(survived = 1 | sex=female, pclass=3) = \", round(con, 2))\n",
    "print(\"Support: P(survived = 1, sex=female, pclass=3) = \", round(sup, 2))"
   ]
  },
  {
   "cell_type": "markdown",
   "metadata": {},
   "source": [
    "```\n",
    "Confidence: P(survived = 1 | sex=female, pclass=3) = 49.07\n",
    "Support: P(survived = 1, sex=female, pclass=3) = 8.10\n",
    "```"
   ]
  },
  {
   "cell_type": "markdown",
   "metadata": {},
   "source": [
    "### 6.4 P(survived = 1 | sex=male, pclass=1), P(survived = 1, sex=male, pclass=1)"
   ]
  },
  {
   "cell_type": "code",
   "execution_count": 16,
   "metadata": {},
   "outputs": [
    {
     "name": "stdout",
     "output_type": "stream",
     "text": [
      "Confidence: P(survived = 1 | sex=male, pclass=1) =  34.08\n",
      "Support: P(survived = 1, sex=male, pclass=1) =  4.66\n"
     ]
    }
   ],
   "source": [
    "# YOUR CODE HERE\n",
    "first_m = titanic[(titanic.sex == 'male') & (titanic.pclass == 1)]\n",
    "con= 100 * len(first_m[first_m.survived == 1]) / len(first_m)\n",
    "sup = 100* len(first_m[first_m.survived == 1]) / len(titanic)\n",
    "print(\"Confidence: P(survived = 1 | sex=male, pclass=1) = \", round(con, 2))\n",
    "print(\"Support: P(survived = 1, sex=male, pclass=1) = \", round(sup, 2))"
   ]
  },
  {
   "cell_type": "markdown",
   "metadata": {},
   "source": [
    "```\n",
    "Confidence: P(survived = 1 | sex=male, pclass=1) = 34.08\n",
    "Support: P(survived = 1, sex=male, pclass=1) = 4.66\n",
    "```"
   ]
  },
  {
   "cell_type": "markdown",
   "metadata": {},
   "source": [
    "### 6.5 P(survived = 1 | sex=male, pclass=2), P(survived = 1, sex=male, pclass=2)"
   ]
  },
  {
   "cell_type": "code",
   "execution_count": 17,
   "metadata": {},
   "outputs": [
    {
     "name": "stdout",
     "output_type": "stream",
     "text": [
      "Confidence: P(survived = 1 | sex=male, pclass=2) =  14.62\n",
      "Support: P(survived = 1, sex=male, pclass=2) =  1.91\n"
     ]
    }
   ],
   "source": [
    "# YOUR CODE HERE\n",
    "second_m = titanic[(titanic.sex == 'male') & (titanic.pclass == 2)]\n",
    "con = 100 * len(second_m[second_m.survived == 1]) / len(second_m)\n",
    "sup = 100* len(second_m[second_m.survived == 1]) / len(titanic)\n",
    "print(\"Confidence: P(survived = 1 | sex=male, pclass=2) = \", round(con, 2))\n",
    "print(\"Support: P(survived = 1, sex=male, pclass=2) = \", round(sup, 2))"
   ]
  },
  {
   "cell_type": "markdown",
   "metadata": {},
   "source": [
    "```\n",
    "Confidence: P(survived = 1 | sex=male, pclass=2) = 14.62\n",
    "Support: P(survived = 1, sex=male, pclass=2) = 1.91\n",
    "```"
   ]
  },
  {
   "cell_type": "markdown",
   "metadata": {},
   "source": [
    "### 6.6 P(survived = 1 | sex=male, pclass=3), P(survived = 1, sex=male, pclass=3)"
   ]
  },
  {
   "cell_type": "code",
   "execution_count": 18,
   "metadata": {},
   "outputs": [
    {
     "name": "stdout",
     "output_type": "stream",
     "text": [
      "Confidence: P(survived = 1 | sex=male, pclass=3) =  15.21\n",
      "Support: P(survived = 1, sex=male, pclass=3) =  5.73\n"
     ]
    }
   ],
   "source": [
    "# YOUR CODE HERE\n",
    "third_m = titanic[(titanic.sex == 'male') & (titanic.pclass == 3)]\n",
    "con = 100 * len(third_m[third_m.survived == 1]) / len(third_m)\n",
    "sup = 100* len(third_m[third_m.survived == 1]) / len(titanic)\n",
    "print(\"Confidence: P(survived = 1 | sex=male, pclass=3) = \", round(con, 2))\n",
    "print(\"Support: P(survived = 1, sex=male, pclass=3) = \", round(sup, 2))"
   ]
  },
  {
   "cell_type": "markdown",
   "metadata": {},
   "source": [
    "```\n",
    "Confidence: P(survived = 1 | sex=male, pclass=3) = 15.21\n",
    "Support: P(survived = 1, sex=male, pclass=3) = 5.73\n",
    "```"
   ]
  },
  {
   "cell_type": "markdown",
   "metadata": {},
   "source": [
    "### 6.7 P(survived = 1 | age <= 10, pclass=1), P(survived = 1, age <= 10, pclass=1)"
   ]
  },
  {
   "cell_type": "code",
   "execution_count": 19,
   "metadata": {},
   "outputs": [
    {
     "name": "stdout",
     "output_type": "stream",
     "text": [
      "Confidence: P(survived = 1 | age <= 10, pclass=1) = 75.00\n",
      "Support: P(survived = 1, age <= 10, pclass=1) =  0.23\n"
     ]
    }
   ],
   "source": [
    "# YOUR CODE HERE\n",
    "first_under11 = titanic[(titanic.age <= 10) & (titanic.pclass == 1)]\n",
    "con= 100 * len(first_under11[first_under11.survived == 1]) / len(first_under11)\n",
    "sup = 100* len(first_under11[first_under11.survived == 1]) / len(titanic)\n",
    "print(\"Confidence: P(survived = 1 | age <= 10, pclass=1) = {:>.2f}\".format(con))\n",
    "print(\"Support: P(survived = 1, age <= 10, pclass=1) = \", round(sup, 2))"
   ]
  },
  {
   "cell_type": "markdown",
   "metadata": {},
   "source": [
    "```\n",
    "Confidence: P(survived = 1 | age <= 10, pclass=1) = 75.00\n",
    "Support: P(survived = 1, age <= 10, pclass=1) = 0.23\n",
    "```"
   ]
  },
  {
   "cell_type": "markdown",
   "metadata": {},
   "source": [
    "### 6.8 P(survived = 1 | age <= 10, pclass=2), P(survived = 1, age <= 10, pclass=2)"
   ]
  },
  {
   "cell_type": "code",
   "execution_count": 20,
   "metadata": {},
   "outputs": [
    {
     "name": "stdout",
     "output_type": "stream",
     "text": [
      "Confidence: P(survived = 1 | age <= 10, pclass=2) = 100.00\n",
      "Support: P(survived = 1, age <= 10, pclass=2) = 1.68\n"
     ]
    }
   ],
   "source": [
    "# YOUR CODE HERE\n",
    "second_under11 = titanic[(titanic.age <= 10) & (titanic.pclass == 2)]\n",
    "con= 100 * len(second_under11[second_under11.survived == 1]) / len(second_under11)\n",
    "sup = 100* len(second_under11[second_under11.survived == 1]) / len(titanic)\n",
    "print(\"Confidence: P(survived = 1 | age <= 10, pclass=2) = {:>.2f}\".format(con))\n",
    "print(\"Support: P(survived = 1, age <= 10, pclass=2) = {:>.2f}\".format(sup))"
   ]
  },
  {
   "cell_type": "markdown",
   "metadata": {},
   "source": [
    "```\n",
    "Confidence: P(survived = 1 | age <= 10, pclass=2) = 100.00\n",
    "Support: P(survived = 1, age <= 10, pclass=2) = 1.68\n",
    "```"
   ]
  },
  {
   "cell_type": "markdown",
   "metadata": {},
   "source": [
    "### 6.9 P(survived = 1 | age <= 10, pclass=3), P(survived = 1, age <= 10, pclass=3)"
   ]
  },
  {
   "cell_type": "code",
   "execution_count": 21,
   "metadata": {},
   "outputs": [
    {
     "name": "stdout",
     "output_type": "stream",
     "text": [
      "Confidence: P(survived = 1 | age <= 10, pclass=3) = 41.67\n",
      "Support: P(survived = 1, age <= 10, pclass=3) = 1.91\n"
     ]
    }
   ],
   "source": [
    "# YOUR CODE HERE\n",
    "third_under11 = titanic[(titanic.age <= 10) & (titanic.pclass == 3)]\n",
    "con= 100 * len(third_under11[third_under11.survived == 1]) / len(third_under11)\n",
    "sup = 100* len(third_under11[third_under11.survived == 1]) / len(titanic)\n",
    "print(\"Confidence: P(survived = 1 | age <= 10, pclass=3) = {:>.2f}\".format(con))\n",
    "print(\"Support: P(survived = 1, age <= 10, pclass=3) = {:>.2f}\".format(sup))"
   ]
  },
  {
   "cell_type": "markdown",
   "metadata": {},
   "source": [
    "```\n",
    "Confidence: P(survived = 1 | age <= 10, pclass=3) = 41.67\n",
    "Support: P(survived = 1, age <= 10, pclass=3) = 1.91\n",
    "```"
   ]
  },
  {
   "cell_type": "markdown",
   "metadata": {},
   "source": [
    "### 6.10 Discussion\n",
    "\n",
    "- Discuss what you learned from this analysis\n",
    "- WRITE HERE (To edit, double click this cell)\n",
    "\n",
    "각 Case에서 Confidence만 보면, 특정 경우에 대한 비율을 알아보기는 편하지만 그것이 전체에서 어떤 의미를 지니는지는 알 수 없다. 그 예로, 6.8번 문제에서 10살 이하의 2등석 손님 중에서의(confidence) 생존률은 100퍼센트이지만, 그 인원이 전체 승객에 대해서(support)는 1.68퍼센트로, 10살 이하의 3등석 손님의 전체에 대한(support) 생존률 1.91퍼센트보다도 낮다는 것을 알 수 있다. 어떤 자료에서 confidence만 확인하면 전체 자료를 잘못 해석할 가능성이 있음을 기억하자. 반대로 support만 확인해도 전체 자료에 대해 오역할 수 있다."
   ]
  },
  {
   "cell_type": "markdown",
   "metadata": {},
   "source": [
    "## Problem 7. (10 pts)\n",
    "### 7.1 Plot numbers of survived and numbers of dead by passenger classes"
   ]
  },
  {
   "cell_type": "code",
   "execution_count": 22,
   "metadata": {},
   "outputs": [
    {
     "data": {
      "image/png": "[encoded data removed]",
      "text/plain": [
       "<Figure size 432x288 with 1 Axes>"
      ]
     },
     "metadata": {
      "needs_background": "light"
     },
     "output_type": "display_data"
    }
   ],
   "source": [
    "# YOUR CODE HERE\n",
    "%matplotlib inline\n",
    "import matplotlib.pyplot as plt\n",
    "\n",
    "svd = titanic[titanic.survived == 1]\n",
    "dead = titanic[titanic.survived == 0]\n",
    "x = ['survived', 'dead']\n",
    "y_1 = [len(svd[svd.pclass == 1]), len(dead[dead.pclass == 1])]\n",
    "y_2 = [len(svd[svd.pclass == 2]), len(dead[dead.pclass == 2])]\n",
    "y_3 = [len(svd[svd.pclass == 3]), len(dead[dead.pclass == 3])]\n",
    "bar = pd.DataFrame({'1' : y_1,\n",
    "                    '2' : y_2,\n",
    "                    '3' : y_3},\n",
    "                        index = x)\n",
    "\n",
    "bar.plot(kind = 'bar', stacked=True)\n",
    "\n",
    "plt.show()"
   ]
  },
  {
   "cell_type": "markdown",
   "metadata": {},
   "source": [
    "<img src=\"hw5_4.png\">"
   ]
  },
  {
   "cell_type": "markdown",
   "metadata": {},
   "source": [
    "### 7.2 Plot numbers of survived and numbers of dead by passenger age intervals\n",
    "-  0:   0 $\\le$ age $\\lt$ 20\n",
    "- 20: 20 $\\le$ age $\\lt$ 40\n",
    "- 40: 40 $\\le$ age $\\lt$ 60\n",
    "- 60: 60 $\\le$ age $\\lt$ 80\n",
    "- 80: 80 $\\le$ age"
   ]
  },
  {
   "cell_type": "code",
   "execution_count": 23,
   "metadata": {},
   "outputs": [
    {
     "data": {
      "image/png": "[encoded data removed]",
      "text/plain": [
       "<Figure size 432x288 with 1 Axes>"
      ]
     },
     "metadata": {
      "needs_background": "light"
     },
     "output_type": "display_data"
    }
   ],
   "source": [
    "# YOUR CODE HERE\n",
    "%matplotlib inline\n",
    "import matplotlib.pyplot as plt\n",
    "\n",
    "x = ['survived', 'dead']\n",
    "range0 = titanic[(titanic.age < 20) & (titanic.age >= 0)]\n",
    "range20 = titanic[(titanic.age < 40) & (titanic.age >= 20)]\n",
    "range40 = titanic[(titanic.age < 60) & (titanic.age >= 40)]\n",
    "range60 = titanic[(titanic.age < 80) & (titanic.age >= 60)]\n",
    "range80 = titanic[(titanic.age >= 80)]\n",
    "bar = pd.DataFrame({'0.0' : [len(range0[range0.survived == 1]), len(range0[range0.survived == 0])],\n",
    "                    '20.0' : [len(range20[range20.survived == 1]), len(range20[range20.survived == 0])],\n",
    "                    '40.0' : [len(range40[range40.survived == 1]), len(range40[range40.survived == 0])],\n",
    "                    '60.0' : [len(range60[range60.survived == 1]), len(range60[range60.survived == 0])],\n",
    "                    '80.0' : [len(range80[range80.survived == 1]), len(range80[range80.survived == 0])]},\n",
    "                      index = x)\n",
    "bar.plot(kind = 'bar', stacked=True)\n",
    "\n",
    "plt.show()"
   ]
  },
  {
   "cell_type": "markdown",
   "metadata": {},
   "source": [
    "<img src=\"hw5_5.png\">"
   ]
  },
  {
   "cell_type": "markdown",
   "metadata": {},
   "source": [
    "### 7.3 Plot numbers of survived and numbers of dead by the ports passenger embarked at"
   ]
  },
  {
   "cell_type": "code",
   "execution_count": 24,
   "metadata": {},
   "outputs": [
    {
     "data": {
      "image/png": "[encoded data removed]",
      "text/plain": [
       "<Figure size 432x288 with 1 Axes>"
      ]
     },
     "metadata": {
      "needs_background": "light"
     },
     "output_type": "display_data"
    }
   ],
   "source": [
    "# YOUR CODE HERE\n",
    "%matplotlib inline\n",
    "import matplotlib.pyplot as plt\n",
    "\n",
    "svd = titanic[titanic.survived == 1]\n",
    "dead = titanic[titanic.survived == 0]\n",
    "x = ['survived', 'dead']\n",
    "svd_data = svd.embarked.value_counts().sort_index()\n",
    "dead_data = dead.embarked.value_counts().sort_index()\n",
    "\n",
    "bar = pd.DataFrame({'S': [svd_data[2], dead_data[2]],\n",
    "                    'C': [svd_data[0], dead_data[0]],\n",
    "                    'Q': [svd_data[1], dead_data[1]]}, index = x)\n",
    "bar.plot(kind = 'bar', stacked = True)\n",
    "plt.show()"
   ]
  },
  {
   "cell_type": "markdown",
   "metadata": {},
   "source": [
    "<img src=\"hw5_6.png\">"
   ]
  },
  {
   "cell_type": "markdown",
   "metadata": {},
   "source": [
    "### 7.4 Discussion\n",
    "\n",
    "- Discuss what you learned from this analysis\n",
    "- WRITE HERE (To edit, double click this cell)\n",
    "\n",
    "각 문제에서 생존자만 확인했을 때는, 1등석 승객, 20대, embarked port가 Southampton인 승객이 가장 많이 살아남은 것처럼 보인다. 하지만 사망자을 확인해보면, 20대의 사망자 수가 가장 높고, embarked port가 Southampton인 승객이 가장 많이 사망했다는 것을 알 수 있다. 그리고 문제 7.1에서는, 생존한 승객 중에서 3등석 승객이 2등석 승객보다 많은 수치를 보이지만, 사망한 승객은 3등석 승객이 압도적으로 많다. 해당 자료의 크기가 다르기 때문에, 그것이 얼마냐에 따라서 이렇게 자료가 오역될 수도 있는 것이다.\n"
   ]
  },
  {
   "cell_type": "markdown",
   "metadata": {},
   "source": [
    "## Ethics:\n",
    "If you cheat, you will get negatgive of the total points.\n",
    "If the homework total is 22 and you cheat, you get -22."
   ]
  },
  {
   "cell_type": "markdown",
   "metadata": {},
   "source": [
    "## What to submit\n",
    "- Run **all cells**\n",
    "- Goto \"File -> Print Preview\" (If that doesn't work, you may print ipynb file in Google Chrome print menu)\n",
    "- Print the page as pdf\n",
    "- Submit the pdf file in google classroom\n",
    "- No late homeworks accepted"
   ]
  }
 ],
 "metadata": {
  "hide_input": false,
  "kernelspec": {
   "display_name": "Python 3",
   "language": "python",
   "name": "python3"
  },
  "language_info": {
   "codemirror_mode": {
    "name": "ipython",
    "version": 3
   },
   "file_extension": ".py",
   "mimetype": "text/x-python",
   "name": "python",
   "nbconvert_exporter": "python",
   "pygments_lexer": "ipython3",
   "version": "3.7.6"
  }
 },
 "nbformat": 4,
 "nbformat_minor": 2
}
