{
 "cells": [
  {
   "cell_type": "markdown",
   "metadata": {},
   "source": [
    "# Homework 2. Frequent itemset"
   ]
  },
  {
   "cell_type": "markdown",
   "metadata": {},
   "source": [
    "***Double Click here to edit this cell***\n",
    "\n",
    "- Name: 김수연\n",
    "- Student ID: 201800839\n",
    "- Submission date: 2020 3/28 Sat."
   ]
  },
  {
   "cell_type": "markdown",
   "metadata": {},
   "source": [
    "*Remark. Do not import numpy, pandas, sklearn, or any module implementing the solution directly*"
   ]
  },
  {
   "cell_type": "markdown",
   "metadata": {},
   "source": [
    "## Frequent itemset\n",
    "- ***Support*** is an indication of how frequently the itemset $X$ appears in the dataset $T$.\n",
    "- The support of X with respect to T is defined as the proportion of transactions t in the dataset which contains the itemset X.\n",
    "\n",
    "$$\n",
    "{\\displaystyle \\mathrm {supp} (X)={\\frac {|\\{t\\in T;X\\subseteq t\\}|}{|T|}}} \n",
    "$$\n",
    "\n",
    "- Frequent itemset is an itemset whose support $\\ge$ ***min_sup***."
   ]
  },
  {
   "cell_type": "markdown",
   "metadata": {},
   "source": [
    "## Data set\n",
    "\n",
    "- Each line in the following can be imagined as a market basket, which contains items you want to buy."
   ]
  },
  {
   "cell_type": "code",
   "execution_count": 1,
   "metadata": {},
   "outputs": [],
   "source": [
    "# DO NOT EDIT THIS CELL\n",
    "data_str = 'apple,beer,rice,chicken\\n'\n",
    "data_str += 'apple,beer,rice\\n'\n",
    "data_str += 'apple,beer\\n'\n",
    "data_str += 'apple,mango\\n'\n",
    "data_str += 'milk,beer,rice,chicken\\n'\n",
    "data_str += 'milk,beer,rice\\n'\n",
    "data_str += 'milk,beer\\n'\n",
    "data_str += 'milk,mango'"
   ]
  },
  {
   "cell_type": "markdown",
   "metadata": {},
   "source": [
    "## Problem 1 (2 pts)\n",
    "\n",
    "- Define a function ***record_gen*** generating a list of items each ***next***.\n",
    "- It must be a generator.\n",
    "- Use ***yield*** instead of ***return***"
   ]
  },
  {
   "cell_type": "code",
   "execution_count": 2,
   "metadata": {
    "hide_input": false
   },
   "outputs": [],
   "source": [
    "# YOUR CODE MUST BE HERE \n",
    "\n",
    "def gen_record(s):\n",
    "    \"\"\"긴 문자열의 s의 항목들을 분리('\\n', ','을 기준으로)\n",
    "       yield 사용해서 반환.\"\"\"\n",
    "    tmp = s.split('\\n')\n",
    "    for i in tmp:\n",
    "        yield i.split(',')"
   ]
  },
  {
   "cell_type": "code",
   "execution_count": 3,
   "metadata": {},
   "outputs": [
    {
     "data": {
      "text/plain": [
       "['apple', 'beer', 'rice', 'chicken']"
      ]
     },
     "execution_count": 3,
     "metadata": {},
     "output_type": "execute_result"
    }
   ],
   "source": [
    "# DO NOT EDIT THIS CELL \n",
    "test = gen_record(data_str)\n",
    "next(test)"
   ]
  },
  {
   "cell_type": "markdown",
   "metadata": {},
   "source": [
    "**Your output must be:**\n",
    "```\n",
    "['apple', 'beer', 'rice', 'chicken']\n",
    "```"
   ]
  },
  {
   "cell_type": "code",
   "execution_count": 4,
   "metadata": {},
   "outputs": [
    {
     "data": {
      "text/plain": [
       "['apple', 'beer', 'rice']"
      ]
     },
     "execution_count": 4,
     "metadata": {},
     "output_type": "execute_result"
    }
   ],
   "source": [
    "# DO NOT EDIT THIS CELL\n",
    "next(test)"
   ]
  },
  {
   "cell_type": "markdown",
   "metadata": {},
   "source": [
    "**Your output must be:**\n",
    "```\n",
    "['apple', 'beer', 'rice']\n",
    "```"
   ]
  },
  {
   "cell_type": "markdown",
   "metadata": {},
   "source": [
    "## Problem 2 (10 pts)\n",
    "\n",
    "- Define a function ***gen_frequent_1_itemset*** generating 1-itemset.\n",
    "- It must be a generator.\n",
    "- We want to find frequent 1-itemset (itemset containing only 1 item)"
   ]
  },
  {
   "cell_type": "code",
   "execution_count": 5,
   "metadata": {},
   "outputs": [],
   "source": [
    "# YOUR CODE MUST BE HERE\n",
    "\n",
    "def gen_frequent_1_itemset(dataset, min_sup=0.5):\n",
    "    \"\"\"item의 set을 구하고, 그것을 set_1item이라고 한다.\n",
    "       set_1item에 있는 원소들이 dataset의 리스트 원소들 내에 있으면 count를 추가하는 방식으로 횟수를 구한다.\n",
    "       위에서 구한 count로 support를 구해서 min_sup과 비교한다.\n",
    "       min_sup 이상의 support를 가지는 item 항목 리스트를 반환한다.\"\"\"\n",
    "    item_set = set()\n",
    "    sup = []\n",
    "    result = []\n",
    "    \n",
    "    for i in range(len(dataset)):\n",
    "        for j in range(len(dataset[i])):\n",
    "            item_set.add(dataset[i][j])\n",
    "    \n",
    "    item_list = list(item_set)\n",
    "    set_1item = item_list\n",
    "\n",
    "    for i in range(len(set_1item)):\n",
    "        cnt = 0\n",
    "        for j in range(len(dataset)):\n",
    "            if (set_1item[i] in dataset[j]): # item이 dataset의 원소리스트 안에 있다면\n",
    "                cnt += 1\n",
    "        sup.append(cnt/len(dataset))\n",
    "    \n",
    "    for i in range(len(sup)):\n",
    "        if sup[i] >= min_sup: # support가 min_sup 이상일때\n",
    "            result.append(set_1item[i])\n",
    "    \n",
    "    return result\n"
   ]
  },
  {
   "cell_type": "code",
   "execution_count": 6,
   "metadata": {},
   "outputs": [
    {
     "name": "stdout",
     "output_type": "stream",
     "text": [
      "milk\n",
      "rice\n",
      "apple\n",
      "beer\n",
      "No more items\n"
     ]
    }
   ],
   "source": [
    "# DO NOT EDIT THIS CELL\n",
    "dataset = list(gen_record(data_str))\n",
    "for item in gen_frequent_1_itemset(dataset, 0.5):\n",
    "    print(item)\n",
    "print('No more items')"
   ]
  },
  {
   "cell_type": "markdown",
   "metadata": {},
   "source": [
    "**Your output must be:**\n",
    "```\n",
    "rice\n",
    "beer\n",
    "milk\n",
    "apple\n",
    "No more items\n",
    "```"
   ]
  },
  {
   "cell_type": "code",
   "execution_count": 7,
   "metadata": {},
   "outputs": [
    {
     "name": "stdout",
     "output_type": "stream",
     "text": [
      "beer\n",
      "No more items\n"
     ]
    }
   ],
   "source": [
    "# DO NOT EDIT THIS CELL\n",
    "dataset = list(gen_record(data_str))\n",
    "for item in gen_frequent_1_itemset(dataset, 0.7):\n",
    "    print(item)\n",
    "print('No more items')"
   ]
  },
  {
   "cell_type": "markdown",
   "metadata": {},
   "source": [
    "**Your output must be:**\n",
    "```\n",
    "beer\n",
    "No more items\n",
    "```"
   ]
  },
  {
   "cell_type": "code",
   "execution_count": 8,
   "metadata": {
    "hide_input": false
   },
   "outputs": [
    {
     "name": "stdout",
     "output_type": "stream",
     "text": [
      "milk\n",
      "rice\n",
      "apple\n",
      "mango\n",
      "chicken\n",
      "beer\n",
      "No more items\n"
     ]
    }
   ],
   "source": [
    "# DO NOT EDIT THIS CELL\n",
    "dataset = list(gen_record(data_str))\n",
    "for item in gen_frequent_1_itemset(dataset, 0.2):\n",
    "    print(item)\n",
    "print('No more items')"
   ]
  },
  {
   "cell_type": "markdown",
   "metadata": {},
   "source": [
    "**Your output must be:**\n",
    "```\n",
    "rice\n",
    "chicken\n",
    "beer\n",
    "mango\n",
    "milk\n",
    "apple\n",
    "No more items\n",
    "```"
   ]
  },
  {
   "cell_type": "markdown",
   "metadata": {},
   "source": [
    "## Problem 3 (10 pts)\n",
    "\n",
    "- Define a function ***gen_frequent_2_itemset*** generating 2-itemset.\n",
    "- It must be a generator.\n",
    "- We want to find frequent 2-itemset (itemset containing only 2 items)"
   ]
  },
  {
   "cell_type": "code",
   "execution_count": 9,
   "metadata": {},
   "outputs": [],
   "source": [
    "# YOUR CODE MUST BE HERE\n",
    "\n",
    "def gen_frequent_2_itemset(dataset, min_sup=0.5):\n",
    "    \"\"\"item의 set을 구하고, item_list의 원소 2개로 이루어진 부분집합 원소쌍의 리스트를 set_2item이라고 한다.\n",
    "       set_2item에 있는 원소쌍의 [0]번째 원소와 [1]번째 원소가 dataset의 리스트 원소들 내에 동시에 있으면, \n",
    "       count를 추가하는 방식으로 횟수를 구한다.\n",
    "       위에서 구한 count로 support를 구해서 min_sup과 비교한다.\n",
    "       min_sup 이상의 support를 가지는 item 항목 리스트를 반환한다.\"\"\"\n",
    "    item_set = set()\n",
    "    sup = []\n",
    "    result = []\n",
    "    \n",
    "    for i in range(len(dataset)):\n",
    "        for j in range(len(dataset[i])):\n",
    "            item_set.add(dataset[i][j])\n",
    "            \n",
    "    item_list = list(item_set)\n",
    "    \n",
    "    # 원소가 겹치거나 원소쌍의 구성이 겹치지 않게끔 원소쌍의 list를 만든다.\n",
    "    set_2item = [(x, y)\n",
    "             for x in item_list\n",
    "             for y in item_list[item_list.index(x)+1:len(item_list)]]\n",
    "    \n",
    "    for i in range(len(set_2item)):\n",
    "        cnt = 0\n",
    "        for j in range(len(dataset)):\n",
    "            if ((set_2item[i][0] in dataset[j]) and (set_2item[i][1] in dataset[j])): \n",
    "                # item 쌍의 0번째 1번째 item들이 dataset의 리스트원소 내에 있을 때\n",
    "                cnt += 1\n",
    "        sup.append(cnt/len(dataset))\n",
    "    \n",
    "    for i in range(len(sup)):\n",
    "        if sup[i] >= min_sup: # support가 min_sup 이상일 때\n",
    "            result.append(set_2item[i])\n",
    "    \n",
    "    return result\n"
   ]
  },
  {
   "cell_type": "code",
   "execution_count": 10,
   "metadata": {},
   "outputs": [
    {
     "name": "stdout",
     "output_type": "stream",
     "text": [
      "('rice', 'beer')\n",
      "No more items\n"
     ]
    }
   ],
   "source": [
    "# DO NOT EDIT THIS CELL\n",
    "data = list(gen_record(data_str))\n",
    "for item in gen_frequent_2_itemset(data, 0.5):\n",
    "    print(item)\n",
    "print('No more items')"
   ]
  },
  {
   "cell_type": "markdown",
   "metadata": {},
   "source": [
    "**Your output must be:**\n",
    "```\n",
    "('beer', 'rice')\n",
    "No more items\n",
    "```"
   ]
  },
  {
   "cell_type": "code",
   "execution_count": 11,
   "metadata": {},
   "outputs": [
    {
     "name": "stdout",
     "output_type": "stream",
     "text": [
      "('milk', 'beer')\n",
      "('rice', 'beer')\n",
      "('apple', 'beer')\n",
      "No more items\n"
     ]
    }
   ],
   "source": [
    "# DO NOT EDIT THIS CELL\n",
    "data = list(gen_record(data_str))\n",
    "for item in gen_frequent_2_itemset(data, 0.3):\n",
    "    print(item)\n",
    "print('No more items')"
   ]
  },
  {
   "cell_type": "markdown",
   "metadata": {},
   "source": [
    "**Your output must be:**\n",
    "```\n",
    "('beer', 'rice')\n",
    "('beer', 'milk')\n",
    "('apple', 'beer')\n",
    "No more items\n",
    "```"
   ]
  },
  {
   "cell_type": "code",
   "execution_count": 12,
   "metadata": {},
   "outputs": [
    {
     "name": "stdout",
     "output_type": "stream",
     "text": [
      "('milk', 'rice')\n",
      "('milk', 'beer')\n",
      "('rice', 'apple')\n",
      "('rice', 'chicken')\n",
      "('rice', 'beer')\n",
      "('apple', 'beer')\n",
      "('chicken', 'beer')\n",
      "No more items\n"
     ]
    }
   ],
   "source": [
    "# DO NOT EDIT THIS CELL\n",
    "dataset = list(gen_record(data_str))\n",
    "for item in gen_frequent_2_itemset(dataset, 0.2):\n",
    "    print(item)\n",
    "print('No more items')"
   ]
  },
  {
   "cell_type": "markdown",
   "metadata": {},
   "source": [
    "**Your output must be:**\n",
    "```\n",
    "('chicken', 'rice')\n",
    "('beer', 'rice')\n",
    "('beer', 'chicken')\n",
    "('beer', 'milk')\n",
    "('milk', 'rice')\n",
    "('apple', 'rice')\n",
    "('apple', 'beer')\n",
    "No more items\n",
    "```"
   ]
  },
  {
   "cell_type": "markdown",
   "metadata": {},
   "source": [
    "## Ethics:\n",
    "If you cheat, you will get negatgive of the total points.\n",
    "If the homework total is 22 and you cheat, you get -22."
   ]
  },
  {
   "cell_type": "markdown",
   "metadata": {},
   "source": [
    "## What to submit\n",
    "- Run **all cells**\n",
    "- Goto \"File -> Print Preview\"\n",
    "- Print the page as pdf\n",
    "- Submit the pdf file in google classroom\n",
    "- No late homeworks accepted\n",
    "- Your homework will be graded on the basis of correctness and programming skills"
   ]
  }
 ],
 "metadata": {
  "hide_input": false,
  "kernelspec": {
   "display_name": "Python 3",
   "language": "python",
   "name": "python3"
  },
  "language_info": {
   "codemirror_mode": {
    "name": "ipython",
    "version": 3
   },
   "file_extension": ".py",
   "mimetype": "text/x-python",
   "name": "python",
   "nbconvert_exporter": "python",
   "pygments_lexer": "ipython3",
   "version": "3.7.6"
  }
 },
 "nbformat": 4,
 "nbformat_minor": 2
}
